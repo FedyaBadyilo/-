{
  "nbformat": 4,
  "nbformat_minor": 0,
  "metadata": {
    "colab": {
      "provenance": [],
      "toc_visible": true,
      "mount_file_id": "178AkewRG1u86LkKd_zbYjmouyiKM0J1U",
      "authorship_tag": "ABX9TyNYy7aHmrZJyIGkMyL3b4O5",
      "include_colab_link": true
    },
    "kernelspec": {
      "name": "python3",
      "display_name": "Python 3"
    },
    "language_info": {
      "name": "python"
    }
  },
  "cells": [
    {
      "cell_type": "markdown",
      "metadata": {
        "id": "view-in-github",
        "colab_type": "text"
      },
      "source": [
        "<a href=\"https://colab.research.google.com/github/FedyaBadyilo/predictive-assessment-of-the-occurrence-of-forest-fires/blob/main/experiments.ipynb\" target=\"_parent\"><img src=\"https://colab.research.google.com/assets/colab-badge.svg\" alt=\"Open In Colab\"/></a>"
      ]
    },
    {
      "cell_type": "markdown",
      "source": [
        "# data import"
      ],
      "metadata": {
        "id": "83nyfWhQ60QT"
      }
    },
    {
      "cell_type": "code",
      "source": [
        "pip install rasterio"
      ],
      "metadata": {
        "id": "EW4djBjw3SLM",
        "colab": {
          "base_uri": "https://localhost:8080/"
        },
        "outputId": "c4d71089-404f-419d-9383-9af8dc6f5160"
      },
      "execution_count": 1,
      "outputs": [
        {
          "output_type": "stream",
          "name": "stdout",
          "text": [
            "Collecting rasterio\n",
            "  Downloading rasterio-1.3.11-cp310-cp310-manylinux_2_17_x86_64.manylinux2014_x86_64.whl.metadata (14 kB)\n",
            "Collecting affine (from rasterio)\n",
            "  Downloading affine-2.4.0-py3-none-any.whl.metadata (4.0 kB)\n",
            "Requirement already satisfied: attrs in /usr/local/lib/python3.10/dist-packages (from rasterio) (24.2.0)\n",
            "Requirement already satisfied: certifi in /usr/local/lib/python3.10/dist-packages (from rasterio) (2024.8.30)\n",
            "Requirement already satisfied: click>=4.0 in /usr/local/lib/python3.10/dist-packages (from rasterio) (8.1.7)\n",
            "Requirement already satisfied: cligj>=0.5 in /usr/local/lib/python3.10/dist-packages (from rasterio) (0.7.2)\n",
            "Requirement already satisfied: numpy in /usr/local/lib/python3.10/dist-packages (from rasterio) (1.26.4)\n",
            "Collecting snuggs>=1.4.1 (from rasterio)\n",
            "  Downloading snuggs-1.4.7-py3-none-any.whl.metadata (3.4 kB)\n",
            "Requirement already satisfied: click-plugins in /usr/local/lib/python3.10/dist-packages (from rasterio) (1.1.1)\n",
            "Requirement already satisfied: setuptools in /usr/local/lib/python3.10/dist-packages (from rasterio) (71.0.4)\n",
            "Requirement already satisfied: pyparsing>=2.1.6 in /usr/local/lib/python3.10/dist-packages (from snuggs>=1.4.1->rasterio) (3.1.4)\n",
            "Downloading rasterio-1.3.11-cp310-cp310-manylinux_2_17_x86_64.manylinux2014_x86_64.whl (21.7 MB)\n",
            "\u001b[2K   \u001b[90m━━━━━━━━━━━━━━━━━━━━━━━━━━━━━━━━━━━━━━━━\u001b[0m \u001b[32m21.7/21.7 MB\u001b[0m \u001b[31m20.9 MB/s\u001b[0m eta \u001b[36m0:00:00\u001b[0m\n",
            "\u001b[?25hDownloading snuggs-1.4.7-py3-none-any.whl (5.4 kB)\n",
            "Downloading affine-2.4.0-py3-none-any.whl (15 kB)\n",
            "Installing collected packages: snuggs, affine, rasterio\n",
            "Successfully installed affine-2.4.0 rasterio-1.3.11 snuggs-1.4.7\n"
          ]
        }
      ]
    },
    {
      "cell_type": "code",
      "source": [
        "import rasterio\n",
        "import matplotlib.pyplot as plt\n",
        "import numpy as np\n",
        "from PIL import Image\n",
        "import pandas as pd\n",
        "import os\n",
        "import json\n",
        "\n",
        "import warnings\n",
        "warnings.filterwarnings('ignore')\n",
        "from warnings import simplefilter\n",
        "simplefilter(\"ignore\", category=RuntimeWarning)"
      ],
      "metadata": {
        "id": "v0z8VTXOxCc3"
      },
      "execution_count": 2,
      "outputs": []
    },
    {
      "cell_type": "markdown",
      "source": [
        "кастомные функции для работы со снимками"
      ],
      "metadata": {
        "id": "fkyQI2s0zkC0"
      }
    },
    {
      "cell_type": "code",
      "source": [
        "def print_geotiff_info(path):\n",
        "    try:\n",
        "        # Открываем файл\n",
        "        with rasterio.open(path) as src:\n",
        "            # Основные метаданные\n",
        "            print(f\"File Path: {path}\")\n",
        "            print(f\"Driver: {src.driver}\")\n",
        "            print(f\"Width: {src.width}\")\n",
        "            print(f\"Height: {src.height}\")\n",
        "            print(f\"Count (Bands): {src.count}\")\n",
        "            print(f\"CRS: {src.crs}\")\n",
        "            print(f\"Transform: {src.transform}\")\n",
        "            print(f\"Bounding Box: {src.bounds}\")\n",
        "            print(f\"Datum: {src.dtypes}\")\n",
        "\n",
        "            # Информация по каждому каналу\n",
        "            for i in range(1, src.count + 1):\n",
        "                band = src.read(i)\n",
        "                print(f\"\\nBand {i}:\")\n",
        "                print(f\"  Data Type: {src.dtypes[i - 1]}\")\n",
        "                print(f\"  Min Value: {band.min()}\")\n",
        "                print(f\"  Max Value: {band.max()}\")\n",
        "                print(f\"  Mean Value: {band.mean()}\")\n",
        "                print(f\"  Standard Deviation: {band.std()}\")\n",
        "\n",
        "    except Exception as e:\n",
        "        print(f'Error: {e}')\n",
        "\n",
        "\n",
        "\n",
        "# In[5]:\n",
        "\n",
        "def visualize_rgb_geotiff(file_path, r_band, g_band, b_band, ik_band, mask_band):\n",
        "    try:\n",
        "        with rasterio.open(file_path) as src:\n",
        "            num_bands = src.count\n",
        "            print(f\"Number of bands: {num_bands}\")\n",
        "            red = src.read(r_band)  # B02 - Blue\n",
        "            green = src.read(g_band)  # B03 - Green\n",
        "            blue = src.read(b_band)  # B04 - Red\n",
        "            ik = src.read(ik_band)\n",
        "            mask = src.read(mask_band)\n",
        "\n",
        "            photos = [\n",
        "              np.stack([red, green, blue], axis=-1),\n",
        "              np.stack([ik], axis=-1), # Отрисовка ИК-слоя изображения\n",
        "              np.stack([mask], axis=-1)  # Отрисовка маски изображения\n",
        "            ]\n",
        "\n",
        "            for i in range(3):\n",
        "                fig, ax = plt.subplots(figsize=(10, 10))\n",
        "                if i == 0:\n",
        "                    p2 = np.percentile(photos[i], 1)    # Lower cutoff\n",
        "                    p98 = np.percentile(photos[i], 99)  # Upper cutoff\n",
        "\n",
        "                    photos[i] = np.clip(photos[i], p2, p98)\n",
        "                    photos[i] = ((photos[i] - p2) / (p98 - p2)) * 255\n",
        "\n",
        "                photos[i] = photos[i].astype(np.uint8)\n",
        "                ax.imshow(photos[i])\n",
        "                ax.axis('off')\n",
        "                plt.show()\n",
        "\n",
        "    except Exception as e:\n",
        "        print(f'Ошибка: {e}')\n",
        "\n",
        "\n",
        "\n",
        "def get_mask(path, r_band, g_band, b_band, ik_band, mask_band, task='mask'):\n",
        "    try:\n",
        "\n",
        "      # Открываем файл\n",
        "        with rasterio.open(path) as src:\n",
        "            red = src.read(r_band)  # B02 - Blue\n",
        "            green = src.read(g_band)  # B03 - Green\n",
        "            blue = src.read(b_band)  # B04 - Red\n",
        "            ik = src.read(ik_band)\n",
        "            mask = src.read(mask_band)\n",
        "            if task == 'mask':\n",
        "              return mask\n",
        "            elif task == 'ir':\n",
        "              return ik\n",
        "            else:\n",
        "              return np.stack([red, green, blue], axis=-1)\n",
        "            # Основные метаданные\n",
        "            print(f\"File Path: {path}\")\n",
        "            print(f\"Driver: {src.driver}\")\n",
        "            print(f\"Width: {src.width}\")\n",
        "            print(f\"Height: {src.height}\")\n",
        "            print(f\"Count (Bands): {src.count}\")\n",
        "            print(f\"CRS: {src.crs}\")\n",
        "            print(f\"Transform: {src.transform}\")\n",
        "            print(f\"Bounding Box: {src.bounds}\")\n",
        "            print(f\"Datum: {src.dtypes}\")\n",
        "\n",
        "            # Информация по каждому каналу\n",
        "            for i in range(1, src.count + 1):\n",
        "                band = src.read(i)\n",
        "                print(f\"\\nBand {i}:\")\n",
        "                print(f\"  Data Type: {src.dtypes[i - 1]}\")\n",
        "                print(f\"  Min Value: {band.min()}\")\n",
        "                print(f\"  Max Value: {band.max()}\")\n",
        "                print(f\"  Mean Value: {band.mean()}\")\n",
        "                print(f\"  Standard Deviation: {band.std()}\")\n",
        "\n",
        "    except Exception as e:\n",
        "        print(f'Error: {e}')"
      ],
      "metadata": {
        "id": "DfrFuvKvAgY9"
      },
      "execution_count": 3,
      "outputs": []
    },
    {
      "cell_type": "markdown",
      "source": [
        "# набор данных - реестр пожаров"
      ],
      "metadata": {
        "id": "k8LqxZF_zssq"
      }
    },
    {
      "cell_type": "code",
      "source": [
        "root_dir = '/content/drive/MyDrive/Colab_Notebooks/forest_fires_hack/minprirody_train/'\n",
        "general_info_path = '/content/drive/MyDrive/Colab_Notebooks/forest_fires_hack/minprirody_train/Реестр пожаров 2015-2021.xls'"
      ],
      "metadata": {
        "id": "1a4hWB9cwWX3"
      },
      "execution_count": 96,
      "outputs": []
    },
    {
      "cell_type": "code",
      "source": [
        "df_gen = pd.read_excel(general_info_path, skiprows=7)"
      ],
      "metadata": {
        "id": "rzAJhI5InufX"
      },
      "execution_count": 97,
      "outputs": []
    },
    {
      "cell_type": "code",
      "source": [
        "new_cols = ['date', 'time', 'name', 'azimuth', 'coordinates', 'wind_speed', 'curr_fire_area', 'overall_fire_area', 'forest_fire_area', 'vegetation_fire_area', 'cause']"
      ],
      "metadata": {
        "id": "FN_A1Q8k5p0Z"
      },
      "execution_count": 98,
      "outputs": []
    },
    {
      "cell_type": "code",
      "source": [
        "df_gen.rename(columns={old_col: new_col for old_col, new_col in zip(df_gen.columns, new_cols)}, inplace=True)"
      ],
      "metadata": {
        "id": "eQMWqiWUzHii"
      },
      "execution_count": 99,
      "outputs": []
    },
    {
      "cell_type": "code",
      "source": [
        "df_gen.info()"
      ],
      "metadata": {
        "colab": {
          "base_uri": "https://localhost:8080/"
        },
        "id": "3F5uE1hRxj6n",
        "outputId": "e7c6ccf2-59db-4e23-f02d-17309057f715"
      },
      "execution_count": 100,
      "outputs": [
        {
          "output_type": "stream",
          "name": "stdout",
          "text": [
            "<class 'pandas.core.frame.DataFrame'>\n",
            "RangeIndex: 1971 entries, 0 to 1970\n",
            "Data columns (total 12 columns):\n",
            " #   Column                Non-Null Count  Dtype  \n",
            "---  ------                --------------  -----  \n",
            " 0   date                  1971 non-null   object \n",
            " 1   time                  1971 non-null   object \n",
            " 2   name                  1967 non-null   object \n",
            " 3   azimuth               1966 non-null   float64\n",
            " 4   coordinates           1971 non-null   object \n",
            " 5   wind_speed            1971 non-null   object \n",
            " 6   curr_fire_area        1902 non-null   float64\n",
            " 7   overall_fire_area     1971 non-null   float64\n",
            " 8   forest_fire_area      1971 non-null   float64\n",
            " 9   vegetation_fire_area  1971 non-null   float64\n",
            " 10  cause                 1971 non-null   float64\n",
            " 11  Unnamed: 11           1971 non-null   object \n",
            "dtypes: float64(6), object(6)\n",
            "memory usage: 184.9+ KB\n"
          ]
        }
      ]
    },
    {
      "cell_type": "markdown",
      "source": [
        "# набор данных - все снимки из тренировочного набора данных"
      ],
      "metadata": {
        "id": "H2rG2FQJz0Nn"
      }
    },
    {
      "cell_type": "markdown",
      "source": [
        "сопоставим все точки с их координатами из собранного набора pixel_coordinate_mappings.json"
      ],
      "metadata": {
        "id": "eIow6aoh0Fln"
      }
    },
    {
      "cell_type": "code",
      "source": [
        "coordinates_path = '/content/drive/MyDrive/Colab_Notebooks/forest_fires_hack/pixel_coordinate_mappings.json'"
      ],
      "metadata": {
        "id": "mXRSzDdHQV5D"
      },
      "execution_count": 101,
      "outputs": []
    },
    {
      "cell_type": "code",
      "source": [
        "with open(coordinates_path) as f:\n",
        "    json_file = json.load(f)"
      ],
      "metadata": {
        "id": "bwVWqmuBQarj"
      },
      "execution_count": 102,
      "outputs": []
    },
    {
      "cell_type": "markdown",
      "source": [
        "функция, которая поможет в будущем преобразовывать исторические данные"
      ],
      "metadata": {
        "id": "9OJNHv_60Sdf"
      }
    },
    {
      "cell_type": "code",
      "source": [
        "def min_max_avg(arr):\n",
        "  if not np.any(arr):\n",
        "    return -666, -666, -666\n",
        "  return min(arr), max(arr), np.mean(arr)"
      ],
      "metadata": {
        "id": "Wv0DBXhVawdF"
      },
      "execution_count": 103,
      "outputs": []
    },
    {
      "cell_type": "markdown",
      "source": [
        "функция для сбора датасета исторических данных, снимков и их координат"
      ],
      "metadata": {
        "id": "M9EWMHix0dYw"
      }
    },
    {
      "cell_type": "code",
      "source": [
        "def set_dataset(number):\n",
        "  if number > 9:\n",
        "    curr_number = f'{number}'\n",
        "  else:\n",
        "    curr_number = f'0{number}'\n",
        "\n",
        "  curr_dir = root_dir + curr_number\n",
        "  curr_file = f'/{\"\".join(filter(lambda x: False if \"csv\" in x else True, os.listdir(curr_dir)))}'\n",
        "  date =  curr_file.split('.tiff')[0][1:]\n",
        "  number_date = curr_number + curr_file.split('.tiff')[0]\n",
        "  file_name = curr_dir + curr_file\n",
        "\n",
        "  rgb = get_mask(file_name, 1, 2, 3, 4, 5, task = 'img') # достаем значения каналов\n",
        "  mask = get_mask(file_name, 1, 2, 3, 4, 5, task = 'mask')\n",
        "  ir = get_mask(file_name, 1, 2, 3, 4, 5, task = 'ir')\n",
        "  curr_lat, curr_lon = np.array(json_file[0][number_date + '.tiff']).reshape(-1, 2).T # получаем координаты\n",
        "\n",
        "  data_dct = {'red': rgb[:, :, 0].flatten(), # добавляем значеня каналов и координаты в словарь\n",
        "                      'green': rgb[:, :, 1].flatten(),\n",
        "                      'blue': rgb[:, :, 2].flatten(),\n",
        "                      'info_red': ir.flatten(),\n",
        "                      'mask': mask.flatten(),\n",
        "                      'latitude': curr_lat,\n",
        "                      'longitude': curr_lon\n",
        "                      }\n",
        "\n",
        "  hist_data_curr_file = f'/{\"\".join(filter(lambda x: True if \"csv\" in x else False, os.listdir(curr_dir)))}' # импортируем исторические данные в датасет\n",
        "  his_data_file = curr_dir + hist_data_curr_file\n",
        "  hist_data = pd.read_csv(his_data_file)\n",
        "\n",
        "  new_hist_cols = ['time', 't_avg', 't_min', 't_max', 'total_precipitation', 'wind_dir', 'wind_speed_hist', 'wind_gust', 'sea_level_pressure'] # заменяем старые названия колонок на новые\n",
        "  hist_data.rename(columns={old_col: new_col for old_col, new_col in zip(hist_data.columns, new_hist_cols)}, inplace=True)\n",
        "\n",
        "  df = pd.DataFrame(data_dct)\n",
        "  df['date'] = [number_date] * len(df) # добавляем в новый датасет название папки в качестве элемента группировки\n",
        "\n",
        "  for col in new_hist_cols[1:]:\n",
        "    mi, ma, av = min_max_avg(hist_data[col]) # получаем минимальное, максимальное и средние значения каждого из исторических признаков и добавляем в новый датасет\n",
        "    df[f'{col}_min'] = [mi] * len(df)\n",
        "    df[f'{col}_max'] = [ma] * len(df)\n",
        "    df[f'{col}_avg'] = [av] * len(df)\n",
        "\n",
        "  hist_data['time'] = pd.to_datetime(hist_data['time'])\n",
        "  specific_date = pd.to_datetime(date)\n",
        "  end_date = specific_date\n",
        "  last_month = end_date - pd.DateOffset(months=1)\n",
        "  last_last_month = end_date - pd.DateOffset(months=2)\n",
        "\n",
        "  filtered_df = hist_data[(hist_data['time'] >= last_month) & (hist_data['time'] < end_date)] # отбираем признаки только за последний месяц до пожара и проводим ту же операцию\n",
        "  for col in new_hist_cols[1:]:\n",
        "    mi, ma, av = min_max_avg(filtered_df[col])\n",
        "    df[f'{col}_min_last_month'] = [mi] * len(df)\n",
        "    df[f'{col}_max_last_month'] = [ma] * len(df)\n",
        "    df[f'{col}_avg_last_month'] = [av] * len(df)\n",
        "\n",
        "\n",
        "  FEATURE_INGENEERING = True\n",
        "  # немного инженерии признаков\n",
        "  if FEATURE_INGENEERING:\n",
        "    # 1. Температурный градиент\n",
        "    df['t_gradient'] = np.mean(hist_data['t_max'] - hist_data['t_min']) * len(df)\n",
        "    # 2. Среднедневная температура\n",
        "    df['t_daily_avg'] = np.mean((hist_data['t_min'] + hist_data['t_max']) / 2) * len(df)\n",
        "    # 3. Усредненные параметры ветра\n",
        "    df['v_avg'] = np.mean((hist_data['wind_speed_hist'] + hist_data['wind_gust']) / 2) * len(df)\n",
        "    # 4. Эффективная скорость ветра\n",
        "    df['v_eff'] = np.mean(np.sqrt(hist_data['wind_speed_hist']**2 + hist_data['wind_gust']**2)) * len(df)\n",
        "    # 6. Вертикальный градиент давления (разница между текущим и предыдущим значением)\n",
        "    df['p_gradient'] = np.mean(hist_data['sea_level_pressure'].diff() * len(df))\n",
        "    # 7. Интенсивность осадков\n",
        "    df['rain_intensity'] = np.mean(hist_data['total_precipitation'] / (len(hist_data) * 24)) * len(df) #\n",
        "    # 8. Вектор ветра\n",
        "    df['u'] = np.mean(hist_data['wind_speed_hist'] * np.cos(np.radians(hist_data['wind_dir']))) * len(df)\n",
        "    df['v'] = np.mean(hist_data['wind_speed_hist'] * np.sin(np.radians(hist_data['wind_dir']))) * len(df)\n",
        "\n",
        "\n",
        "  # filtered_df_2 = hist_data[(hist_data['time'] >= last_last_month) & (hist_data['time'] < last_month)]\n",
        "  # for col in new_hist_cols[1:]:\n",
        "  #   mi, ma, av = min_max_avg(filtered_df_2[col])\n",
        "  #   df[f'{col}_min_last_last_month'] = [mi] * len(df)\n",
        "  #   df[f'{col}_max_last_last_month'] = [ma] * len(df)\n",
        "  #   df[f'{col}_avg_last_last_month'] = [av] * len(df)\n",
        "\n",
        "  print(number_date, len(df.columns))\n",
        "\n",
        "  cols = list(set(df.columns) - set(['date']))\n",
        "  df[cols] = df[cols].astype('float16')\n",
        "  return df"
      ],
      "metadata": {
        "id": "b-MmmBdq7kXG"
      },
      "execution_count": 104,
      "outputs": []
    },
    {
      "cell_type": "markdown",
      "source": [
        "обхединение всех данных из папок 0-20 в один датасет"
      ],
      "metadata": {
        "id": "4Bd8Mt4W2pt-"
      }
    },
    {
      "cell_type": "code",
      "source": [
        "try:\n",
        "  del train_data\n",
        "except:\n",
        "  pass\n",
        "\n",
        "for ind in range(1, 21): # итерируемся по номерам папок\n",
        "  try:\n",
        "    if ind > 1:\n",
        "      train_data = pd.concat([train_data, set_dataset(ind)], ignore_index = True, axis = 0)\n",
        "    else:\n",
        "      train_data = set_dataset(ind)\n",
        "  except:\n",
        "    continue\n",
        "\n",
        "train_data.replace([np.inf, -np.inf], -66666, inplace=True)\n",
        "train_data.fillna(-666, inplace = True);\n",
        "\n",
        "train_data"
      ],
      "metadata": {
        "colab": {
          "base_uri": "https://localhost:8080/",
          "height": 912
        },
        "id": "Sa_85olh76bE",
        "outputId": "d65737cd-fb53-43c7-e68b-87690f0d3e81"
      },
      "execution_count": 105,
      "outputs": [
        {
          "output_type": "stream",
          "name": "stdout",
          "text": [
            "01/2021-05-26 64\n",
            "02/2021-06-03 64\n",
            "03/2021-06-03 64\n",
            "04/2021-06-06 64\n",
            "05/2021-06-03 64\n",
            "06/2021-06-03 64\n",
            "07/2021-06-03 64\n",
            "08/2021-06-08 64\n",
            "09/2021-06-16 64\n",
            "10/2021-06-16 64\n",
            "11/2018-06-01 64\n",
            "12/2019-05-10 64\n",
            "13/2019-05-17 64\n",
            "16/2020-05-09 64\n",
            "18/2021-05-02 64\n",
            "19/2021-05-04 64\n",
            "20/2021-05-15 64\n"
          ]
        },
        {
          "output_type": "execute_result",
          "data": {
            "text/plain": [
              "          red  green  blue  info_red  mask  latitude  longitude  \\\n",
              "0        12.0   14.0  17.0      29.0   0.0   75.1250   55.78125   \n",
              "1        11.0   14.0  14.0      27.0   0.0   75.1250   55.78125   \n",
              "2        11.0   13.0  14.0      27.0   0.0   75.1250   55.78125   \n",
              "3        12.0   14.0  14.0      29.0   0.0   75.1250   55.78125   \n",
              "4        11.0   14.0  13.0      28.0   0.0   75.1250   55.78125   \n",
              "...       ...    ...   ...       ...   ...       ...        ...   \n",
              "3900917   6.0    8.0  13.0      22.0   1.0   71.1875   55.12500   \n",
              "3900918   6.0    8.0  12.0      22.0   1.0   71.1875   55.12500   \n",
              "3900919   5.0    8.0  13.0      21.0   1.0   71.1875   55.12500   \n",
              "3900920   5.0    8.0  13.0      22.0   1.0   71.1875   55.12500   \n",
              "3900921   5.0    9.0  13.0      22.0   1.0   71.1875   55.12500   \n",
              "\n",
              "                  date  t_avg_min  t_avg_max  ...  \\\n",
              "0        01/2021-05-26  -7.300781  20.500000  ...   \n",
              "1        01/2021-05-26  -7.300781  20.500000  ...   \n",
              "2        01/2021-05-26  -7.300781  20.500000  ...   \n",
              "3        01/2021-05-26  -7.300781  20.500000  ...   \n",
              "4        01/2021-05-26  -7.300781  20.500000  ...   \n",
              "...                ...        ...        ...  ...   \n",
              "3900917  20/2021-05-15 -24.796875   7.601562  ...   \n",
              "3900918  20/2021-05-15 -24.796875   7.601562  ...   \n",
              "3900919  20/2021-05-15 -24.796875   7.601562  ...   \n",
              "3900920  20/2021-05-15 -24.796875   7.601562  ...   \n",
              "3900921  20/2021-05-15 -24.796875   7.601562  ...   \n",
              "\n",
              "         sea_level_pressure_max_last_month  sea_level_pressure_avg_last_month  \\\n",
              "0                                   1024.0                             1016.5   \n",
              "1                                   1024.0                             1016.5   \n",
              "2                                   1024.0                             1016.5   \n",
              "3                                   1024.0                             1016.5   \n",
              "4                                   1024.0                             1016.5   \n",
              "...                                    ...                                ...   \n",
              "3900917                             1024.0                             1020.0   \n",
              "3900918                             1024.0                             1020.0   \n",
              "3900919                             1024.0                             1020.0   \n",
              "3900920                             1024.0                             1020.0   \n",
              "3900921                             1024.0                             1020.0   \n",
              "\n",
              "         t_gradient  t_daily_avg  v_avg  v_eff  p_gradient  rain_intensity  \\\n",
              "0          -66666.0     -66666.0 -666.0 -666.0      2788.0       13.390625   \n",
              "1          -66666.0     -66666.0 -666.0 -666.0      2788.0       13.390625   \n",
              "2          -66666.0     -66666.0 -666.0 -666.0      2788.0       13.390625   \n",
              "3          -66666.0     -66666.0 -666.0 -666.0      2788.0       13.390625   \n",
              "4          -66666.0     -66666.0 -666.0 -666.0      2788.0       13.390625   \n",
              "...             ...          ...    ...    ...         ...             ...   \n",
              "3900917    -66666.0     -66666.0 -666.0 -666.0    -11096.0      129.375000   \n",
              "3900918    -66666.0     -66666.0 -666.0 -666.0    -11096.0      129.375000   \n",
              "3900919    -66666.0     -66666.0 -666.0 -666.0    -11096.0      129.375000   \n",
              "3900920    -66666.0     -66666.0 -666.0 -666.0    -11096.0      129.375000   \n",
              "3900921    -66666.0     -66666.0 -666.0 -666.0    -11096.0      129.375000   \n",
              "\n",
              "               u        v  \n",
              "0       -66666.0 -66666.0  \n",
              "1       -66666.0 -66666.0  \n",
              "2       -66666.0 -66666.0  \n",
              "3       -66666.0 -66666.0  \n",
              "4       -66666.0 -66666.0  \n",
              "...          ...      ...  \n",
              "3900917 -66666.0 -66666.0  \n",
              "3900918 -66666.0 -66666.0  \n",
              "3900919 -66666.0 -66666.0  \n",
              "3900920 -66666.0 -66666.0  \n",
              "3900921 -66666.0 -66666.0  \n",
              "\n",
              "[3900922 rows x 64 columns]"
            ],
            "text/html": [
              "\n",
              "  <div id=\"df-bf707768-6ab9-41bd-bdfe-75e8319639b4\" class=\"colab-df-container\">\n",
              "    <div>\n",
              "<style scoped>\n",
              "    .dataframe tbody tr th:only-of-type {\n",
              "        vertical-align: middle;\n",
              "    }\n",
              "\n",
              "    .dataframe tbody tr th {\n",
              "        vertical-align: top;\n",
              "    }\n",
              "\n",
              "    .dataframe thead th {\n",
              "        text-align: right;\n",
              "    }\n",
              "</style>\n",
              "<table border=\"1\" class=\"dataframe\">\n",
              "  <thead>\n",
              "    <tr style=\"text-align: right;\">\n",
              "      <th></th>\n",
              "      <th>red</th>\n",
              "      <th>green</th>\n",
              "      <th>blue</th>\n",
              "      <th>info_red</th>\n",
              "      <th>mask</th>\n",
              "      <th>latitude</th>\n",
              "      <th>longitude</th>\n",
              "      <th>date</th>\n",
              "      <th>t_avg_min</th>\n",
              "      <th>t_avg_max</th>\n",
              "      <th>...</th>\n",
              "      <th>sea_level_pressure_max_last_month</th>\n",
              "      <th>sea_level_pressure_avg_last_month</th>\n",
              "      <th>t_gradient</th>\n",
              "      <th>t_daily_avg</th>\n",
              "      <th>v_avg</th>\n",
              "      <th>v_eff</th>\n",
              "      <th>p_gradient</th>\n",
              "      <th>rain_intensity</th>\n",
              "      <th>u</th>\n",
              "      <th>v</th>\n",
              "    </tr>\n",
              "  </thead>\n",
              "  <tbody>\n",
              "    <tr>\n",
              "      <th>0</th>\n",
              "      <td>12.0</td>\n",
              "      <td>14.0</td>\n",
              "      <td>17.0</td>\n",
              "      <td>29.0</td>\n",
              "      <td>0.0</td>\n",
              "      <td>75.1250</td>\n",
              "      <td>55.78125</td>\n",
              "      <td>01/2021-05-26</td>\n",
              "      <td>-7.300781</td>\n",
              "      <td>20.500000</td>\n",
              "      <td>...</td>\n",
              "      <td>1024.0</td>\n",
              "      <td>1016.5</td>\n",
              "      <td>-66666.0</td>\n",
              "      <td>-66666.0</td>\n",
              "      <td>-666.0</td>\n",
              "      <td>-666.0</td>\n",
              "      <td>2788.0</td>\n",
              "      <td>13.390625</td>\n",
              "      <td>-66666.0</td>\n",
              "      <td>-66666.0</td>\n",
              "    </tr>\n",
              "    <tr>\n",
              "      <th>1</th>\n",
              "      <td>11.0</td>\n",
              "      <td>14.0</td>\n",
              "      <td>14.0</td>\n",
              "      <td>27.0</td>\n",
              "      <td>0.0</td>\n",
              "      <td>75.1250</td>\n",
              "      <td>55.78125</td>\n",
              "      <td>01/2021-05-26</td>\n",
              "      <td>-7.300781</td>\n",
              "      <td>20.500000</td>\n",
              "      <td>...</td>\n",
              "      <td>1024.0</td>\n",
              "      <td>1016.5</td>\n",
              "      <td>-66666.0</td>\n",
              "      <td>-66666.0</td>\n",
              "      <td>-666.0</td>\n",
              "      <td>-666.0</td>\n",
              "      <td>2788.0</td>\n",
              "      <td>13.390625</td>\n",
              "      <td>-66666.0</td>\n",
              "      <td>-66666.0</td>\n",
              "    </tr>\n",
              "    <tr>\n",
              "      <th>2</th>\n",
              "      <td>11.0</td>\n",
              "      <td>13.0</td>\n",
              "      <td>14.0</td>\n",
              "      <td>27.0</td>\n",
              "      <td>0.0</td>\n",
              "      <td>75.1250</td>\n",
              "      <td>55.78125</td>\n",
              "      <td>01/2021-05-26</td>\n",
              "      <td>-7.300781</td>\n",
              "      <td>20.500000</td>\n",
              "      <td>...</td>\n",
              "      <td>1024.0</td>\n",
              "      <td>1016.5</td>\n",
              "      <td>-66666.0</td>\n",
              "      <td>-66666.0</td>\n",
              "      <td>-666.0</td>\n",
              "      <td>-666.0</td>\n",
              "      <td>2788.0</td>\n",
              "      <td>13.390625</td>\n",
              "      <td>-66666.0</td>\n",
              "      <td>-66666.0</td>\n",
              "    </tr>\n",
              "    <tr>\n",
              "      <th>3</th>\n",
              "      <td>12.0</td>\n",
              "      <td>14.0</td>\n",
              "      <td>14.0</td>\n",
              "      <td>29.0</td>\n",
              "      <td>0.0</td>\n",
              "      <td>75.1250</td>\n",
              "      <td>55.78125</td>\n",
              "      <td>01/2021-05-26</td>\n",
              "      <td>-7.300781</td>\n",
              "      <td>20.500000</td>\n",
              "      <td>...</td>\n",
              "      <td>1024.0</td>\n",
              "      <td>1016.5</td>\n",
              "      <td>-66666.0</td>\n",
              "      <td>-66666.0</td>\n",
              "      <td>-666.0</td>\n",
              "      <td>-666.0</td>\n",
              "      <td>2788.0</td>\n",
              "      <td>13.390625</td>\n",
              "      <td>-66666.0</td>\n",
              "      <td>-66666.0</td>\n",
              "    </tr>\n",
              "    <tr>\n",
              "      <th>4</th>\n",
              "      <td>11.0</td>\n",
              "      <td>14.0</td>\n",
              "      <td>13.0</td>\n",
              "      <td>28.0</td>\n",
              "      <td>0.0</td>\n",
              "      <td>75.1250</td>\n",
              "      <td>55.78125</td>\n",
              "      <td>01/2021-05-26</td>\n",
              "      <td>-7.300781</td>\n",
              "      <td>20.500000</td>\n",
              "      <td>...</td>\n",
              "      <td>1024.0</td>\n",
              "      <td>1016.5</td>\n",
              "      <td>-66666.0</td>\n",
              "      <td>-66666.0</td>\n",
              "      <td>-666.0</td>\n",
              "      <td>-666.0</td>\n",
              "      <td>2788.0</td>\n",
              "      <td>13.390625</td>\n",
              "      <td>-66666.0</td>\n",
              "      <td>-66666.0</td>\n",
              "    </tr>\n",
              "    <tr>\n",
              "      <th>...</th>\n",
              "      <td>...</td>\n",
              "      <td>...</td>\n",
              "      <td>...</td>\n",
              "      <td>...</td>\n",
              "      <td>...</td>\n",
              "      <td>...</td>\n",
              "      <td>...</td>\n",
              "      <td>...</td>\n",
              "      <td>...</td>\n",
              "      <td>...</td>\n",
              "      <td>...</td>\n",
              "      <td>...</td>\n",
              "      <td>...</td>\n",
              "      <td>...</td>\n",
              "      <td>...</td>\n",
              "      <td>...</td>\n",
              "      <td>...</td>\n",
              "      <td>...</td>\n",
              "      <td>...</td>\n",
              "      <td>...</td>\n",
              "      <td>...</td>\n",
              "    </tr>\n",
              "    <tr>\n",
              "      <th>3900917</th>\n",
              "      <td>6.0</td>\n",
              "      <td>8.0</td>\n",
              "      <td>13.0</td>\n",
              "      <td>22.0</td>\n",
              "      <td>1.0</td>\n",
              "      <td>71.1875</td>\n",
              "      <td>55.12500</td>\n",
              "      <td>20/2021-05-15</td>\n",
              "      <td>-24.796875</td>\n",
              "      <td>7.601562</td>\n",
              "      <td>...</td>\n",
              "      <td>1024.0</td>\n",
              "      <td>1020.0</td>\n",
              "      <td>-66666.0</td>\n",
              "      <td>-66666.0</td>\n",
              "      <td>-666.0</td>\n",
              "      <td>-666.0</td>\n",
              "      <td>-11096.0</td>\n",
              "      <td>129.375000</td>\n",
              "      <td>-66666.0</td>\n",
              "      <td>-66666.0</td>\n",
              "    </tr>\n",
              "    <tr>\n",
              "      <th>3900918</th>\n",
              "      <td>6.0</td>\n",
              "      <td>8.0</td>\n",
              "      <td>12.0</td>\n",
              "      <td>22.0</td>\n",
              "      <td>1.0</td>\n",
              "      <td>71.1875</td>\n",
              "      <td>55.12500</td>\n",
              "      <td>20/2021-05-15</td>\n",
              "      <td>-24.796875</td>\n",
              "      <td>7.601562</td>\n",
              "      <td>...</td>\n",
              "      <td>1024.0</td>\n",
              "      <td>1020.0</td>\n",
              "      <td>-66666.0</td>\n",
              "      <td>-66666.0</td>\n",
              "      <td>-666.0</td>\n",
              "      <td>-666.0</td>\n",
              "      <td>-11096.0</td>\n",
              "      <td>129.375000</td>\n",
              "      <td>-66666.0</td>\n",
              "      <td>-66666.0</td>\n",
              "    </tr>\n",
              "    <tr>\n",
              "      <th>3900919</th>\n",
              "      <td>5.0</td>\n",
              "      <td>8.0</td>\n",
              "      <td>13.0</td>\n",
              "      <td>21.0</td>\n",
              "      <td>1.0</td>\n",
              "      <td>71.1875</td>\n",
              "      <td>55.12500</td>\n",
              "      <td>20/2021-05-15</td>\n",
              "      <td>-24.796875</td>\n",
              "      <td>7.601562</td>\n",
              "      <td>...</td>\n",
              "      <td>1024.0</td>\n",
              "      <td>1020.0</td>\n",
              "      <td>-66666.0</td>\n",
              "      <td>-66666.0</td>\n",
              "      <td>-666.0</td>\n",
              "      <td>-666.0</td>\n",
              "      <td>-11096.0</td>\n",
              "      <td>129.375000</td>\n",
              "      <td>-66666.0</td>\n",
              "      <td>-66666.0</td>\n",
              "    </tr>\n",
              "    <tr>\n",
              "      <th>3900920</th>\n",
              "      <td>5.0</td>\n",
              "      <td>8.0</td>\n",
              "      <td>13.0</td>\n",
              "      <td>22.0</td>\n",
              "      <td>1.0</td>\n",
              "      <td>71.1875</td>\n",
              "      <td>55.12500</td>\n",
              "      <td>20/2021-05-15</td>\n",
              "      <td>-24.796875</td>\n",
              "      <td>7.601562</td>\n",
              "      <td>...</td>\n",
              "      <td>1024.0</td>\n",
              "      <td>1020.0</td>\n",
              "      <td>-66666.0</td>\n",
              "      <td>-66666.0</td>\n",
              "      <td>-666.0</td>\n",
              "      <td>-666.0</td>\n",
              "      <td>-11096.0</td>\n",
              "      <td>129.375000</td>\n",
              "      <td>-66666.0</td>\n",
              "      <td>-66666.0</td>\n",
              "    </tr>\n",
              "    <tr>\n",
              "      <th>3900921</th>\n",
              "      <td>5.0</td>\n",
              "      <td>9.0</td>\n",
              "      <td>13.0</td>\n",
              "      <td>22.0</td>\n",
              "      <td>1.0</td>\n",
              "      <td>71.1875</td>\n",
              "      <td>55.12500</td>\n",
              "      <td>20/2021-05-15</td>\n",
              "      <td>-24.796875</td>\n",
              "      <td>7.601562</td>\n",
              "      <td>...</td>\n",
              "      <td>1024.0</td>\n",
              "      <td>1020.0</td>\n",
              "      <td>-66666.0</td>\n",
              "      <td>-66666.0</td>\n",
              "      <td>-666.0</td>\n",
              "      <td>-666.0</td>\n",
              "      <td>-11096.0</td>\n",
              "      <td>129.375000</td>\n",
              "      <td>-66666.0</td>\n",
              "      <td>-66666.0</td>\n",
              "    </tr>\n",
              "  </tbody>\n",
              "</table>\n",
              "<p>3900922 rows × 64 columns</p>\n",
              "</div>\n",
              "    <div class=\"colab-df-buttons\">\n",
              "\n",
              "  <div class=\"colab-df-container\">\n",
              "    <button class=\"colab-df-convert\" onclick=\"convertToInteractive('df-bf707768-6ab9-41bd-bdfe-75e8319639b4')\"\n",
              "            title=\"Convert this dataframe to an interactive table.\"\n",
              "            style=\"display:none;\">\n",
              "\n",
              "  <svg xmlns=\"http://www.w3.org/2000/svg\" height=\"24px\" viewBox=\"0 -960 960 960\">\n",
              "    <path d=\"M120-120v-720h720v720H120Zm60-500h600v-160H180v160Zm220 220h160v-160H400v160Zm0 220h160v-160H400v160ZM180-400h160v-160H180v160Zm440 0h160v-160H620v160ZM180-180h160v-160H180v160Zm440 0h160v-160H620v160Z\"/>\n",
              "  </svg>\n",
              "    </button>\n",
              "\n",
              "  <style>\n",
              "    .colab-df-container {\n",
              "      display:flex;\n",
              "      gap: 12px;\n",
              "    }\n",
              "\n",
              "    .colab-df-convert {\n",
              "      background-color: #E8F0FE;\n",
              "      border: none;\n",
              "      border-radius: 50%;\n",
              "      cursor: pointer;\n",
              "      display: none;\n",
              "      fill: #1967D2;\n",
              "      height: 32px;\n",
              "      padding: 0 0 0 0;\n",
              "      width: 32px;\n",
              "    }\n",
              "\n",
              "    .colab-df-convert:hover {\n",
              "      background-color: #E2EBFA;\n",
              "      box-shadow: 0px 1px 2px rgba(60, 64, 67, 0.3), 0px 1px 3px 1px rgba(60, 64, 67, 0.15);\n",
              "      fill: #174EA6;\n",
              "    }\n",
              "\n",
              "    .colab-df-buttons div {\n",
              "      margin-bottom: 4px;\n",
              "    }\n",
              "\n",
              "    [theme=dark] .colab-df-convert {\n",
              "      background-color: #3B4455;\n",
              "      fill: #D2E3FC;\n",
              "    }\n",
              "\n",
              "    [theme=dark] .colab-df-convert:hover {\n",
              "      background-color: #434B5C;\n",
              "      box-shadow: 0px 1px 3px 1px rgba(0, 0, 0, 0.15);\n",
              "      filter: drop-shadow(0px 1px 2px rgba(0, 0, 0, 0.3));\n",
              "      fill: #FFFFFF;\n",
              "    }\n",
              "  </style>\n",
              "\n",
              "    <script>\n",
              "      const buttonEl =\n",
              "        document.querySelector('#df-bf707768-6ab9-41bd-bdfe-75e8319639b4 button.colab-df-convert');\n",
              "      buttonEl.style.display =\n",
              "        google.colab.kernel.accessAllowed ? 'block' : 'none';\n",
              "\n",
              "      async function convertToInteractive(key) {\n",
              "        const element = document.querySelector('#df-bf707768-6ab9-41bd-bdfe-75e8319639b4');\n",
              "        const dataTable =\n",
              "          await google.colab.kernel.invokeFunction('convertToInteractive',\n",
              "                                                    [key], {});\n",
              "        if (!dataTable) return;\n",
              "\n",
              "        const docLinkHtml = 'Like what you see? Visit the ' +\n",
              "          '<a target=\"_blank\" href=https://colab.research.google.com/notebooks/data_table.ipynb>data table notebook</a>'\n",
              "          + ' to learn more about interactive tables.';\n",
              "        element.innerHTML = '';\n",
              "        dataTable['output_type'] = 'display_data';\n",
              "        await google.colab.output.renderOutput(dataTable, element);\n",
              "        const docLink = document.createElement('div');\n",
              "        docLink.innerHTML = docLinkHtml;\n",
              "        element.appendChild(docLink);\n",
              "      }\n",
              "    </script>\n",
              "  </div>\n",
              "\n",
              "\n",
              "<div id=\"df-eb340967-3b69-4be9-a173-561d14e6838f\">\n",
              "  <button class=\"colab-df-quickchart\" onclick=\"quickchart('df-eb340967-3b69-4be9-a173-561d14e6838f')\"\n",
              "            title=\"Suggest charts\"\n",
              "            style=\"display:none;\">\n",
              "\n",
              "<svg xmlns=\"http://www.w3.org/2000/svg\" height=\"24px\"viewBox=\"0 0 24 24\"\n",
              "     width=\"24px\">\n",
              "    <g>\n",
              "        <path d=\"M19 3H5c-1.1 0-2 .9-2 2v14c0 1.1.9 2 2 2h14c1.1 0 2-.9 2-2V5c0-1.1-.9-2-2-2zM9 17H7v-7h2v7zm4 0h-2V7h2v10zm4 0h-2v-4h2v4z\"/>\n",
              "    </g>\n",
              "</svg>\n",
              "  </button>\n",
              "\n",
              "<style>\n",
              "  .colab-df-quickchart {\n",
              "      --bg-color: #E8F0FE;\n",
              "      --fill-color: #1967D2;\n",
              "      --hover-bg-color: #E2EBFA;\n",
              "      --hover-fill-color: #174EA6;\n",
              "      --disabled-fill-color: #AAA;\n",
              "      --disabled-bg-color: #DDD;\n",
              "  }\n",
              "\n",
              "  [theme=dark] .colab-df-quickchart {\n",
              "      --bg-color: #3B4455;\n",
              "      --fill-color: #D2E3FC;\n",
              "      --hover-bg-color: #434B5C;\n",
              "      --hover-fill-color: #FFFFFF;\n",
              "      --disabled-bg-color: #3B4455;\n",
              "      --disabled-fill-color: #666;\n",
              "  }\n",
              "\n",
              "  .colab-df-quickchart {\n",
              "    background-color: var(--bg-color);\n",
              "    border: none;\n",
              "    border-radius: 50%;\n",
              "    cursor: pointer;\n",
              "    display: none;\n",
              "    fill: var(--fill-color);\n",
              "    height: 32px;\n",
              "    padding: 0;\n",
              "    width: 32px;\n",
              "  }\n",
              "\n",
              "  .colab-df-quickchart:hover {\n",
              "    background-color: var(--hover-bg-color);\n",
              "    box-shadow: 0 1px 2px rgba(60, 64, 67, 0.3), 0 1px 3px 1px rgba(60, 64, 67, 0.15);\n",
              "    fill: var(--button-hover-fill-color);\n",
              "  }\n",
              "\n",
              "  .colab-df-quickchart-complete:disabled,\n",
              "  .colab-df-quickchart-complete:disabled:hover {\n",
              "    background-color: var(--disabled-bg-color);\n",
              "    fill: var(--disabled-fill-color);\n",
              "    box-shadow: none;\n",
              "  }\n",
              "\n",
              "  .colab-df-spinner {\n",
              "    border: 2px solid var(--fill-color);\n",
              "    border-color: transparent;\n",
              "    border-bottom-color: var(--fill-color);\n",
              "    animation:\n",
              "      spin 1s steps(1) infinite;\n",
              "  }\n",
              "\n",
              "  @keyframes spin {\n",
              "    0% {\n",
              "      border-color: transparent;\n",
              "      border-bottom-color: var(--fill-color);\n",
              "      border-left-color: var(--fill-color);\n",
              "    }\n",
              "    20% {\n",
              "      border-color: transparent;\n",
              "      border-left-color: var(--fill-color);\n",
              "      border-top-color: var(--fill-color);\n",
              "    }\n",
              "    30% {\n",
              "      border-color: transparent;\n",
              "      border-left-color: var(--fill-color);\n",
              "      border-top-color: var(--fill-color);\n",
              "      border-right-color: var(--fill-color);\n",
              "    }\n",
              "    40% {\n",
              "      border-color: transparent;\n",
              "      border-right-color: var(--fill-color);\n",
              "      border-top-color: var(--fill-color);\n",
              "    }\n",
              "    60% {\n",
              "      border-color: transparent;\n",
              "      border-right-color: var(--fill-color);\n",
              "    }\n",
              "    80% {\n",
              "      border-color: transparent;\n",
              "      border-right-color: var(--fill-color);\n",
              "      border-bottom-color: var(--fill-color);\n",
              "    }\n",
              "    90% {\n",
              "      border-color: transparent;\n",
              "      border-bottom-color: var(--fill-color);\n",
              "    }\n",
              "  }\n",
              "</style>\n",
              "\n",
              "  <script>\n",
              "    async function quickchart(key) {\n",
              "      const quickchartButtonEl =\n",
              "        document.querySelector('#' + key + ' button');\n",
              "      quickchartButtonEl.disabled = true;  // To prevent multiple clicks.\n",
              "      quickchartButtonEl.classList.add('colab-df-spinner');\n",
              "      try {\n",
              "        const charts = await google.colab.kernel.invokeFunction(\n",
              "            'suggestCharts', [key], {});\n",
              "      } catch (error) {\n",
              "        console.error('Error during call to suggestCharts:', error);\n",
              "      }\n",
              "      quickchartButtonEl.classList.remove('colab-df-spinner');\n",
              "      quickchartButtonEl.classList.add('colab-df-quickchart-complete');\n",
              "    }\n",
              "    (() => {\n",
              "      let quickchartButtonEl =\n",
              "        document.querySelector('#df-eb340967-3b69-4be9-a173-561d14e6838f button');\n",
              "      quickchartButtonEl.style.display =\n",
              "        google.colab.kernel.accessAllowed ? 'block' : 'none';\n",
              "    })();\n",
              "  </script>\n",
              "</div>\n",
              "    </div>\n",
              "  </div>\n"
            ],
            "application/vnd.google.colaboratory.intrinsic+json": {
              "type": "dataframe",
              "variable_name": "train_data"
            }
          },
          "metadata": {},
          "execution_count": 105
        }
      ]
    },
    {
      "cell_type": "code",
      "source": [
        "# train_data.to_csv('/content/drive/MyDrive/Colab_Notebooks/forest_fires_hack/train_data')"
      ],
      "metadata": {
        "id": "ZMaImZA0gfff"
      },
      "execution_count": 95,
      "outputs": []
    },
    {
      "cell_type": "code",
      "source": [
        "# import requests\n",
        "\n",
        "# url = \"https://weatherapi-com.p.rapidapi.com/current.json\"\n",
        "\n",
        "# querystring = {\"q\":f\"{lat}, {lon}\"}\n",
        "\n",
        "# headers = {\n",
        "# \t\"x-rapidapi-key\": \"2cb2c64b1cmshfc30b41f0cfc97ap170310jsn734cc4d88d58\",\n",
        "# \t\"x-rapidapi-host\": \"weatherapi-com.p.rapidapi.com\"\n",
        "# }\n",
        "\n",
        "# response = requests.get(url, headers=headers, params=querystring)\n",
        "\n",
        "# print(response.json())"
      ],
      "metadata": {
        "colab": {
          "base_uri": "https://localhost:8080/"
        },
        "id": "6md4OGnzOw9v",
        "outputId": "267df6fc-dfff-4361-f41d-a1d79642f92f"
      },
      "execution_count": 27,
      "outputs": [
        {
          "output_type": "stream",
          "name": "stdout",
          "text": [
            "{'location': {'name': 'Boston', 'region': 'Lincolnshire', 'country': 'United Kingdom', 'lat': 53.1, 'lon': -0.13, 'tz_id': 'Europe/London', 'localtime_epoch': 1725742119, 'localtime': '2024-09-07 21:48'}, 'current': {'last_updated_epoch': 1725741900, 'last_updated': '2024-09-07 21:45', 'temp_c': 18.2, 'temp_f': 64.8, 'is_day': 0, 'condition': {'text': 'Mist', 'icon': '//cdn.weatherapi.com/weather/64x64/night/143.png', 'code': 1030}, 'wind_mph': 5.6, 'wind_kph': 9.0, 'wind_degree': 50, 'wind_dir': 'NE', 'pressure_mb': 1008.0, 'pressure_in': 29.77, 'precip_mm': 0.0, 'precip_in': 0.0, 'humidity': 88, 'cloud': 50, 'feelslike_c': 18.2, 'feelslike_f': 64.8, 'windchill_c': 16.2, 'windchill_f': 61.1, 'heatindex_c': 16.2, 'heatindex_f': 61.1, 'dewpoint_c': 15.2, 'dewpoint_f': 59.4, 'vis_km': 6.0, 'vis_miles': 3.0, 'uv': 1.0, 'gust_mph': 12.8, 'gust_kph': 20.6}}\n"
          ]
        }
      ]
    },
    {
      "cell_type": "code",
      "source": [
        "num_cols = list(filter(lambda x: False if x == 'date' or x == 'mask' else True, train_data.columns))\n",
        "target_col = 'mask'\n",
        "date_col = 'date'\n",
        "groups = 'date'"
      ],
      "metadata": {
        "id": "OZS15sOj8TE2"
      },
      "execution_count": 106,
      "outputs": []
    },
    {
      "cell_type": "markdown",
      "source": [
        "# ml approach\n",
        "\n",
        "использование различных ml моделей для предсказаний"
      ],
      "metadata": {
        "id": "mSCJA-AhAOn7"
      }
    },
    {
      "cell_type": "code",
      "source": [
        "pip install catboost; pip install optuna; pip install dask[dataframe]; pip install shap"
      ],
      "metadata": {
        "id": "xm1FC4QhgTXZ"
      },
      "execution_count": null,
      "outputs": []
    },
    {
      "cell_type": "code",
      "source": [
        "from sklearn.linear_model import LogisticRegression\n",
        "from sklearn.ensemble import RandomForestClassifier, VotingClassifier\n",
        "from sklearn.model_selection import StratifiedGroupKFold, cross_val_score, train_test_split, cross_validate\n",
        "from sklearn.metrics import f1_score, matthews_corrcoef\n",
        "from sklearn.preprocessing import OneHotEncoder, LabelEncoder, StandardScaler\n",
        "from sklearn.pipeline import make_pipeline\n",
        "\n",
        "from xgboost import XGBClassifier\n",
        "from lightgbm import LGBMClassifier\n",
        "# from catboost import CatBoostClassifier, Pool\n",
        "\n",
        "# import optuna"
      ],
      "metadata": {
        "id": "iq6FTTBD1nKo"
      },
      "execution_count": 109,
      "outputs": []
    },
    {
      "cell_type": "code",
      "source": [
        "# def custom_data_loader(X, y):\n",
        "#   data = pd.concat([X, y], axis = 1)\n",
        "#   unique_dates = data['date'].unique()\n",
        "\n",
        "#   batches = []\n",
        "#   for i in range(len(unique_dates)):\n",
        "#     batches.append((data[data['date'] == unique_dates[i]].drop([target_col], axis = 1).values, data[data['date'] == unique_dates[i]][target_col].values.ravel()))\n",
        "\n",
        "#   return batches\n",
        "\n",
        "# train_dl = custom_data_loader(X_train, y_train)"
      ],
      "metadata": {
        "id": "K684KW5jWmIy"
      },
      "execution_count": null,
      "outputs": []
    },
    {
      "cell_type": "code",
      "source": [
        "# for x_batch, y_batch in train_dl:\n",
        "#   print(x_batch.shape, y_batch.shape)\n"
      ],
      "metadata": {
        "id": "iIqdlBGwMExl"
      },
      "execution_count": null,
      "outputs": []
    },
    {
      "cell_type": "code",
      "source": [
        "import gc\n",
        "\n",
        "gc.collect()"
      ],
      "metadata": {
        "colab": {
          "base_uri": "https://localhost:8080/"
        },
        "id": "MYtmPAbxikEY",
        "outputId": "f7ae486c-d374-490f-d973-a72116f5ea7d"
      },
      "execution_count": 107,
      "outputs": [
        {
          "output_type": "execute_result",
          "data": {
            "text/plain": [
              "0"
            ]
          },
          "metadata": {},
          "execution_count": 107
        }
      ]
    },
    {
      "cell_type": "markdown",
      "source": [
        "разбиение данных на тренировочный, валидационный и тестовый датасеты"
      ],
      "metadata": {
        "id": "eDIxyCT83CYz"
      }
    },
    {
      "cell_type": "code",
      "source": [
        "X_train, X_test, y_train, y_test = train_test_split(train_data[num_cols], train_data[target_col], random_state = 42, test_size = 0.4)\n",
        "# X_test, X_val, y_test, y_val = train_test_split(X_test, y_test, test_size = .5)"
      ],
      "metadata": {
        "id": "iPlRK9VRmp4f"
      },
      "execution_count": 110,
      "outputs": []
    },
    {
      "cell_type": "markdown",
      "source": [
        "первые результаты"
      ],
      "metadata": {
        "id": "48x4eLYl3LOL"
      }
    },
    {
      "cell_type": "code",
      "source": [
        "for model in [\n",
        "              LGBMClassifier(),\n",
        "              XGBClassifier()]:\n",
        "    model.fit(X_train, y_train)\n",
        "    y_pred = model.predict(X_val)\n",
        "    print(matthews_corrcoef(y_val, y_pred))"
      ],
      "metadata": {
        "colab": {
          "base_uri": "https://localhost:8080/"
        },
        "id": "eBL2mJYn_Re4",
        "outputId": "3f35cd0d-563e-49f0-c8b3-5b836e14dc8d"
      },
      "execution_count": 116,
      "outputs": [
        {
          "output_type": "stream",
          "name": "stdout",
          "text": [
            "[LightGBM] [Info] Number of positive: 100577, number of negative: 2239976\n",
            "[LightGBM] [Info] Auto-choosing row-wise multi-threading, the overhead of testing was 0.379917 seconds.\n",
            "You can set `force_row_wise=true` to remove the overhead.\n",
            "And if memory is not enough, you can set `force_col_wise=true`.\n",
            "[LightGBM] [Info] Total Bins 1215\n",
            "[LightGBM] [Info] Number of data points in the train set: 2340553, number of used features: 53\n",
            "[LightGBM] [Info] [binary:BoostFromScore]: pavg=0.042971 -> initscore=-3.103297\n",
            "[LightGBM] [Info] Start training from score -3.103297\n",
            "0.3140033093713797\n",
            "0.26045436538302114\n"
          ]
        }
      ]
    },
    {
      "cell_type": "markdown",
      "source": [
        "значимость признаков для XGBClassifier"
      ],
      "metadata": {
        "id": "opVCiGQa3Nzj"
      }
    },
    {
      "cell_type": "code",
      "source": [
        "sorted(list(zip(num_cols, model.feature_importances_)), key = lambda x: x[1], reverse = True)"
      ],
      "metadata": {
        "colab": {
          "base_uri": "https://localhost:8080/"
        },
        "id": "C9vX7a6seaMR",
        "outputId": "a7f54574-f392-4e69-cb23-ba0d472dc799"
      },
      "execution_count": 93,
      "outputs": [
        {
          "output_type": "execute_result",
          "data": {
            "text/plain": [
              "[('total_precipitation_avg_last_month', 0.3813037),\n",
              " ('total_precipitation_max_last_month', 0.17081237),\n",
              " ('t_max_avg_last_month', 0.12591946),\n",
              " ('t_avg_min_last_month', 0.047218792),\n",
              " ('wind_speed_hist_avg', 0.04474059),\n",
              " ('latitude', 0.023847276),\n",
              " ('t_avg_avg', 0.018727954),\n",
              " ('wind_dir_max', 0.017762804),\n",
              " ('t_avg_min', 0.016339304),\n",
              " ('red', 0.011789361),\n",
              " ('t_avg_max', 0.011589689),\n",
              " ('longitude', 0.0101243025),\n",
              " ('total_precipitation_max', 0.009878924),\n",
              " ('p_gradient', 0.008591981),\n",
              " ('blue', 0.008502832),\n",
              " ('rain_intensity', 0.008339441),\n",
              " ('green', 0.0069074864),\n",
              " ('t_max_max', 0.006579744),\n",
              " ('wind_dir_min_last_month', 0.005797334),\n",
              " ('wind_speed_hist_avg_last_month', 0.005510876),\n",
              " ('sea_level_pressure_avg', 0.005189037),\n",
              " ('info_red', 0.004905478),\n",
              " ('total_precipitation_avg', 0.004420612),\n",
              " ('t_max_min', 0.0042112786),\n",
              " ('wind_dir_max_last_month', 0.0038148814),\n",
              " ('sea_level_pressure_max_last_month', 0.0033260973),\n",
              " ('sea_level_pressure_max', 0.0030651568),\n",
              " ('t_avg_avg_last_month', 0.0027685014),\n",
              " ('t_max_min_last_month', 0.0027144414),\n",
              " ('total_precipitation_min_last_month', 0.0026062771),\n",
              " ('wind_dir_avg_last_month', 0.0025227342),\n",
              " ('sea_level_pressure_min', 0.0024479108),\n",
              " ('t_min_max', 0.0022907774),\n",
              " ('t_avg_max_last_month', 0.0021942998),\n",
              " ('u', 0.0017898936),\n",
              " ('t_min_min', 0.0017338886),\n",
              " ('t_min_avg_last_month', 0.0016589451),\n",
              " ('t_min_max_last_month', 0.0015166989),\n",
              " ('wind_dir_avg', 0.0014765499),\n",
              " ('t_daily_avg', 0.0010756978),\n",
              " ('wind_speed_hist_max', 0.0009283579),\n",
              " ('t_min_min_last_month', 0.00080547394),\n",
              " ('wind_dir_min', 0.0007050183),\n",
              " ('sea_level_pressure_min_last_month', 0.0006865785),\n",
              " ('sea_level_pressure_avg_last_month', 0.00046954607),\n",
              " ('wind_speed_hist_min_last_month', 0.00039170939),\n",
              " ('t_min_avg', 0.0),\n",
              " ('t_max_avg', 0.0),\n",
              " ('total_precipitation_min', 0.0),\n",
              " ('wind_speed_hist_min', 0.0),\n",
              " ('wind_gust_min', 0.0),\n",
              " ('wind_gust_max', 0.0),\n",
              " ('wind_gust_avg', 0.0),\n",
              " ('t_max_max_last_month', 0.0),\n",
              " ('wind_speed_hist_max_last_month', 0.0),\n",
              " ('wind_gust_min_last_month', 0.0),\n",
              " ('wind_gust_max_last_month', 0.0),\n",
              " ('wind_gust_avg_last_month', 0.0),\n",
              " ('t_gradient', 0.0),\n",
              " ('v_avg', 0.0),\n",
              " ('v_eff', 0.0),\n",
              " ('v', 0.0)]"
            ]
          },
          "metadata": {},
          "execution_count": 93
        }
      ]
    },
    {
      "cell_type": "markdown",
      "source": [
        "# hypo tuning\n",
        "\n",
        "воспользуемся фреймворком optuna, чтобы получить наилучшие гиперпараметры для бустингов"
      ],
      "metadata": {
        "id": "7xxXGt2c3UHQ"
      }
    },
    {
      "cell_type": "code",
      "source": [
        "def objective_lgb(trial):\n",
        "    params = {\n",
        "        'objective': 'binary',\n",
        "        'metric': 'binary_logloss',\n",
        "        'num_leaves': trial.suggest_int('num_leaves', 20, 150),\n",
        "        'max_depth': trial.suggest_int('max_depth', -1, 30),\n",
        "        'learning_rate': trial.suggest_float('learning_rate', 0.01, 0.1),\n",
        "        'n_estimators': trial.suggest_int('n_estimators', 20, 100),\n",
        "        'subsample': trial.suggest_float('subsample', 0.5, 1.0),\n",
        "        'colsample_bytree': trial.suggest_float('colsample_bytree', 0.5, 1.0),\n",
        "    }\n",
        "\n",
        "    model = LGBMClassifier(**params)\n",
        "    model.fit(X_train, y_train)\n",
        "\n",
        "    preds = model.predict(X_test)\n",
        "    mcc = matthews_corrcoef(y_test, preds)\n",
        "    return mcc\n",
        "\n",
        "# Оптимизация гиперпараметров LightGBM\n",
        "lgb_study = optuna.create_study(direction='maximize')\n",
        "lgb_study.optimize(objective_lgb, n_trials=50)\n",
        "\n",
        "print(\"Best parameters for LightGBM:\", lgb_study.best_params)\n",
        "print(\"Best MCC score for LightGBM:\", lgb_study.best_value)"
      ],
      "metadata": {
        "colab": {
          "base_uri": "https://localhost:8080/"
        },
        "id": "DFbrGdbnlpD9",
        "outputId": "cdcb210f-bf1a-4e58-cc29-d11c6550ccdc"
      },
      "execution_count": 97,
      "outputs": [
        {
          "output_type": "stream",
          "name": "stderr",
          "text": [
            "[I 2024-09-07 22:04:11,266] A new study created in memory with name: no-name-d3ea0806-2e7e-4ab6-938d-c08ee0d101d9\n"
          ]
        },
        {
          "output_type": "stream",
          "name": "stdout",
          "text": [
            "[LightGBM] [Info] Number of positive: 148884, number of negative: 2857552\n",
            "[LightGBM] [Info] Auto-choosing row-wise multi-threading, the overhead of testing was 0.331758 seconds.\n",
            "You can set `force_row_wise=true` to remove the overhead.\n",
            "And if memory is not enough, you can set `force_col_wise=true`.\n",
            "[LightGBM] [Info] Total Bins 1252\n",
            "[LightGBM] [Info] Number of data points in the train set: 3006436, number of used features: 54\n",
            "[LightGBM] [Info] [binary:BoostFromScore]: pavg=0.049522 -> initscore=-2.954553\n",
            "[LightGBM] [Info] Start training from score -2.954553\n",
            "[LightGBM] [Warning] No further splits with positive gain, best gain: -inf\n",
            "[LightGBM] [Warning] No further splits with positive gain, best gain: -inf\n",
            "[LightGBM] [Warning] No further splits with positive gain, best gain: -inf\n",
            "[LightGBM] [Warning] No further splits with positive gain, best gain: -inf\n",
            "[LightGBM] [Warning] No further splits with positive gain, best gain: -inf\n",
            "[LightGBM] [Warning] No further splits with positive gain, best gain: -inf\n",
            "[LightGBM] [Warning] No further splits with positive gain, best gain: -inf\n",
            "[LightGBM] [Warning] No further splits with positive gain, best gain: -inf\n",
            "[LightGBM] [Warning] No further splits with positive gain, best gain: -inf\n",
            "[LightGBM] [Warning] No further splits with positive gain, best gain: -inf\n",
            "[LightGBM] [Warning] No further splits with positive gain, best gain: -inf\n",
            "[LightGBM] [Warning] No further splits with positive gain, best gain: -inf\n",
            "[LightGBM] [Warning] No further splits with positive gain, best gain: -inf\n",
            "[LightGBM] [Warning] No further splits with positive gain, best gain: -inf\n",
            "[LightGBM] [Warning] No further splits with positive gain, best gain: -inf\n",
            "[LightGBM] [Warning] No further splits with positive gain, best gain: -inf\n",
            "[LightGBM] [Warning] No further splits with positive gain, best gain: -inf\n",
            "[LightGBM] [Warning] No further splits with positive gain, best gain: -inf\n",
            "[LightGBM] [Warning] No further splits with positive gain, best gain: -inf\n",
            "[LightGBM] [Warning] No further splits with positive gain, best gain: -inf\n",
            "[LightGBM] [Warning] No further splits with positive gain, best gain: -inf\n",
            "[LightGBM] [Warning] No further splits with positive gain, best gain: -inf\n",
            "[LightGBM] [Warning] No further splits with positive gain, best gain: -inf\n",
            "[LightGBM] [Warning] No further splits with positive gain, best gain: -inf\n"
          ]
        },
        {
          "output_type": "stream",
          "name": "stderr",
          "text": [
            "[I 2024-09-07 22:04:29,247] Trial 0 finished with value: 0.0 and parameters: {'num_leaves': 110, 'max_depth': 1, 'learning_rate': 0.04665435979160618, 'n_estimators': 24, 'subsample': 0.7695921103985472, 'colsample_bytree': 0.5092636851981066}. Best is trial 0 with value: 0.0.\n"
          ]
        },
        {
          "output_type": "stream",
          "name": "stdout",
          "text": [
            "[LightGBM] [Info] Number of positive: 148884, number of negative: 2857552\n",
            "[LightGBM] [Info] Auto-choosing row-wise multi-threading, the overhead of testing was 0.426766 seconds.\n",
            "You can set `force_row_wise=true` to remove the overhead.\n",
            "And if memory is not enough, you can set `force_col_wise=true`.\n",
            "[LightGBM] [Info] Total Bins 1252\n",
            "[LightGBM] [Info] Number of data points in the train set: 3006436, number of used features: 54\n",
            "[LightGBM] [Info] [binary:BoostFromScore]: pavg=0.049522 -> initscore=-2.954553\n",
            "[LightGBM] [Info] Start training from score -2.954553\n"
          ]
        },
        {
          "output_type": "stream",
          "name": "stderr",
          "text": [
            "[I 2024-09-07 22:05:23,184] Trial 1 finished with value: 0.4954100100019296 and parameters: {'num_leaves': 42, 'max_depth': 22, 'learning_rate': 0.07040347568522215, 'n_estimators': 59, 'subsample': 0.8605141541312862, 'colsample_bytree': 0.7852932961160316}. Best is trial 1 with value: 0.4954100100019296.\n"
          ]
        },
        {
          "output_type": "stream",
          "name": "stdout",
          "text": [
            "[LightGBM] [Info] Number of positive: 148884, number of negative: 2857552\n",
            "[LightGBM] [Info] Auto-choosing row-wise multi-threading, the overhead of testing was 0.315887 seconds.\n",
            "You can set `force_row_wise=true` to remove the overhead.\n",
            "And if memory is not enough, you can set `force_col_wise=true`.\n",
            "[LightGBM] [Info] Total Bins 1252\n",
            "[LightGBM] [Info] Number of data points in the train set: 3006436, number of used features: 54\n",
            "[LightGBM] [Info] [binary:BoostFromScore]: pavg=0.049522 -> initscore=-2.954553\n",
            "[LightGBM] [Info] Start training from score -2.954553\n"
          ]
        },
        {
          "output_type": "stream",
          "name": "stderr",
          "text": [
            "[I 2024-09-07 22:05:52,053] Trial 2 finished with value: 0.3435964848437707 and parameters: {'num_leaves': 39, 'max_depth': 11, 'learning_rate': 0.04501381496326246, 'n_estimators': 34, 'subsample': 0.5883872426330732, 'colsample_bytree': 0.5520327730254913}. Best is trial 1 with value: 0.4954100100019296.\n"
          ]
        },
        {
          "output_type": "stream",
          "name": "stdout",
          "text": [
            "[LightGBM] [Info] Number of positive: 148884, number of negative: 2857552\n",
            "[LightGBM] [Info] Auto-choosing row-wise multi-threading, the overhead of testing was 0.453190 seconds.\n",
            "You can set `force_row_wise=true` to remove the overhead.\n",
            "And if memory is not enough, you can set `force_col_wise=true`.\n",
            "[LightGBM] [Info] Total Bins 1252\n",
            "[LightGBM] [Info] Number of data points in the train set: 3006436, number of used features: 54\n",
            "[LightGBM] [Info] [binary:BoostFromScore]: pavg=0.049522 -> initscore=-2.954553\n",
            "[LightGBM] [Info] Start training from score -2.954553\n"
          ]
        },
        {
          "output_type": "stream",
          "name": "stderr",
          "text": [
            "[I 2024-09-07 22:07:12,153] Trial 3 finished with value: 0.3751392912500508 and parameters: {'num_leaves': 98, 'max_depth': 11, 'learning_rate': 0.014081233679489345, 'n_estimators': 83, 'subsample': 0.6657278074731843, 'colsample_bytree': 0.8611289841204062}. Best is trial 1 with value: 0.4954100100019296.\n"
          ]
        },
        {
          "output_type": "stream",
          "name": "stdout",
          "text": [
            "[LightGBM] [Info] Number of positive: 148884, number of negative: 2857552\n",
            "[LightGBM] [Info] Auto-choosing row-wise multi-threading, the overhead of testing was 0.405679 seconds.\n",
            "You can set `force_row_wise=true` to remove the overhead.\n",
            "And if memory is not enough, you can set `force_col_wise=true`.\n",
            "[LightGBM] [Info] Total Bins 1252\n",
            "[LightGBM] [Info] Number of data points in the train set: 3006436, number of used features: 54\n",
            "[LightGBM] [Info] [binary:BoostFromScore]: pavg=0.049522 -> initscore=-2.954553\n",
            "[LightGBM] [Info] Start training from score -2.954553\n"
          ]
        },
        {
          "output_type": "stream",
          "name": "stderr",
          "text": [
            "[I 2024-09-07 22:07:41,175] Trial 4 finished with value: 0.4732996141778475 and parameters: {'num_leaves': 131, 'max_depth': 22, 'learning_rate': 0.09098644264820112, 'n_estimators': 29, 'subsample': 0.9446418380136525, 'colsample_bytree': 0.5246107204350607}. Best is trial 1 with value: 0.4954100100019296.\n"
          ]
        },
        {
          "output_type": "stream",
          "name": "stdout",
          "text": [
            "[LightGBM] [Info] Number of positive: 148884, number of negative: 2857552\n",
            "[LightGBM] [Info] Auto-choosing row-wise multi-threading, the overhead of testing was 0.427167 seconds.\n",
            "You can set `force_row_wise=true` to remove the overhead.\n",
            "And if memory is not enough, you can set `force_col_wise=true`.\n",
            "[LightGBM] [Info] Total Bins 1252\n",
            "[LightGBM] [Info] Number of data points in the train set: 3006436, number of used features: 54\n",
            "[LightGBM] [Info] [binary:BoostFromScore]: pavg=0.049522 -> initscore=-2.954553\n",
            "[LightGBM] [Info] Start training from score -2.954553\n"
          ]
        },
        {
          "output_type": "stream",
          "name": "stderr",
          "text": [
            "[I 2024-09-07 22:08:41,056] Trial 5 finished with value: 0.2678124763616096 and parameters: {'num_leaves': 130, 'max_depth': 0, 'learning_rate': 0.015541354823367427, 'n_estimators': 56, 'subsample': 0.721933023028055, 'colsample_bytree': 0.8030280487280539}. Best is trial 1 with value: 0.4954100100019296.\n"
          ]
        },
        {
          "output_type": "stream",
          "name": "stdout",
          "text": [
            "[LightGBM] [Info] Number of positive: 148884, number of negative: 2857552\n",
            "[LightGBM] [Info] Auto-choosing row-wise multi-threading, the overhead of testing was 0.680983 seconds.\n",
            "You can set `force_row_wise=true` to remove the overhead.\n",
            "And if memory is not enough, you can set `force_col_wise=true`.\n",
            "[LightGBM] [Info] Total Bins 1252\n",
            "[LightGBM] [Info] Number of data points in the train set: 3006436, number of used features: 54\n",
            "[LightGBM] [Info] [binary:BoostFromScore]: pavg=0.049522 -> initscore=-2.954553\n",
            "[LightGBM] [Info] Start training from score -2.954553\n"
          ]
        },
        {
          "output_type": "stream",
          "name": "stderr",
          "text": [
            "[I 2024-09-07 22:10:23,350] Trial 6 finished with value: 0.5046460006581245 and parameters: {'num_leaves': 135, 'max_depth': 27, 'learning_rate': 0.03015336178654314, 'n_estimators': 95, 'subsample': 0.6929379237322278, 'colsample_bytree': 0.863495223787241}. Best is trial 6 with value: 0.5046460006581245.\n"
          ]
        },
        {
          "output_type": "stream",
          "name": "stdout",
          "text": [
            "[LightGBM] [Info] Number of positive: 148884, number of negative: 2857552\n",
            "[LightGBM] [Info] Auto-choosing row-wise multi-threading, the overhead of testing was 0.682040 seconds.\n",
            "You can set `force_row_wise=true` to remove the overhead.\n",
            "And if memory is not enough, you can set `force_col_wise=true`.\n",
            "[LightGBM] [Info] Total Bins 1252\n",
            "[LightGBM] [Info] Number of data points in the train set: 3006436, number of used features: 54\n",
            "[LightGBM] [Info] [binary:BoostFromScore]: pavg=0.049522 -> initscore=-2.954553\n",
            "[LightGBM] [Info] Start training from score -2.954553\n"
          ]
        },
        {
          "output_type": "stream",
          "name": "stderr",
          "text": [
            "[I 2024-09-07 22:11:38,285] Trial 7 finished with value: 0.5237023217523016 and parameters: {'num_leaves': 119, 'max_depth': 16, 'learning_rate': 0.06229030047083742, 'n_estimators': 68, 'subsample': 0.890847220762397, 'colsample_bytree': 0.8499040933639068}. Best is trial 7 with value: 0.5237023217523016.\n"
          ]
        },
        {
          "output_type": "stream",
          "name": "stdout",
          "text": [
            "[LightGBM] [Info] Number of positive: 148884, number of negative: 2857552\n",
            "[LightGBM] [Info] Auto-choosing row-wise multi-threading, the overhead of testing was 0.399527 seconds.\n",
            "You can set `force_row_wise=true` to remove the overhead.\n",
            "And if memory is not enough, you can set `force_col_wise=true`.\n",
            "[LightGBM] [Info] Total Bins 1252\n",
            "[LightGBM] [Info] Number of data points in the train set: 3006436, number of used features: 54\n",
            "[LightGBM] [Info] [binary:BoostFromScore]: pavg=0.049522 -> initscore=-2.954553\n",
            "[LightGBM] [Info] Start training from score -2.954553\n",
            "[LightGBM] [Warning] No further splits with positive gain, best gain: -inf\n",
            "[LightGBM] [Warning] No further splits with positive gain, best gain: -inf\n",
            "[LightGBM] [Warning] No further splits with positive gain, best gain: -inf\n",
            "[LightGBM] [Warning] No further splits with positive gain, best gain: -inf\n",
            "[LightGBM] [Warning] No further splits with positive gain, best gain: -inf\n",
            "[LightGBM] [Warning] No further splits with positive gain, best gain: -inf\n",
            "[LightGBM] [Warning] No further splits with positive gain, best gain: -inf\n",
            "[LightGBM] [Warning] No further splits with positive gain, best gain: -inf\n",
            "[LightGBM] [Warning] No further splits with positive gain, best gain: -inf\n",
            "[LightGBM] [Warning] No further splits with positive gain, best gain: -inf\n",
            "[LightGBM] [Warning] No further splits with positive gain, best gain: -inf\n",
            "[LightGBM] [Warning] No further splits with positive gain, best gain: -inf\n",
            "[LightGBM] [Warning] No further splits with positive gain, best gain: -inf\n",
            "[LightGBM] [Warning] No further splits with positive gain, best gain: -inf\n",
            "[LightGBM] [Warning] No further splits with positive gain, best gain: -inf\n",
            "[LightGBM] [Warning] No further splits with positive gain, best gain: -inf\n",
            "[LightGBM] [Warning] No further splits with positive gain, best gain: -inf\n",
            "[LightGBM] [Warning] No further splits with positive gain, best gain: -inf\n",
            "[LightGBM] [Warning] No further splits with positive gain, best gain: -inf\n",
            "[LightGBM] [Warning] No further splits with positive gain, best gain: -inf\n",
            "[LightGBM] [Warning] No further splits with positive gain, best gain: -inf\n",
            "[LightGBM] [Warning] No further splits with positive gain, best gain: -inf\n",
            "[LightGBM] [Warning] No further splits with positive gain, best gain: -inf\n",
            "[LightGBM] [Warning] No further splits with positive gain, best gain: -inf\n",
            "[LightGBM] [Warning] No further splits with positive gain, best gain: -inf\n",
            "[LightGBM] [Warning] No further splits with positive gain, best gain: -inf\n",
            "[LightGBM] [Warning] No further splits with positive gain, best gain: -inf\n",
            "[LightGBM] [Warning] No further splits with positive gain, best gain: -inf\n",
            "[LightGBM] [Warning] No further splits with positive gain, best gain: -inf\n",
            "[LightGBM] [Warning] No further splits with positive gain, best gain: -inf\n",
            "[LightGBM] [Warning] No further splits with positive gain, best gain: -inf\n",
            "[LightGBM] [Warning] No further splits with positive gain, best gain: -inf\n",
            "[LightGBM] [Warning] No further splits with positive gain, best gain: -inf\n",
            "[LightGBM] [Warning] No further splits with positive gain, best gain: -inf\n",
            "[LightGBM] [Warning] No further splits with positive gain, best gain: -inf\n",
            "[LightGBM] [Warning] No further splits with positive gain, best gain: -inf\n",
            "[LightGBM] [Warning] No further splits with positive gain, best gain: -inf\n",
            "[LightGBM] [Warning] No further splits with positive gain, best gain: -inf\n",
            "[LightGBM] [Warning] No further splits with positive gain, best gain: -inf\n",
            "[LightGBM] [Warning] No further splits with positive gain, best gain: -inf\n",
            "[LightGBM] [Warning] No further splits with positive gain, best gain: -inf\n",
            "[LightGBM] [Warning] No further splits with positive gain, best gain: -inf\n",
            "[LightGBM] [Warning] No further splits with positive gain, best gain: -inf\n",
            "[LightGBM] [Warning] No further splits with positive gain, best gain: -inf\n",
            "[LightGBM] [Warning] No further splits with positive gain, best gain: -inf\n",
            "[LightGBM] [Warning] No further splits with positive gain, best gain: -inf\n",
            "[LightGBM] [Warning] No further splits with positive gain, best gain: -inf\n",
            "[LightGBM] [Warning] No further splits with positive gain, best gain: -inf\n",
            "[LightGBM] [Warning] No further splits with positive gain, best gain: -inf\n",
            "[LightGBM] [Warning] No further splits with positive gain, best gain: -inf\n",
            "[LightGBM] [Warning] No further splits with positive gain, best gain: -inf\n",
            "[LightGBM] [Warning] No further splits with positive gain, best gain: -inf\n",
            "[LightGBM] [Warning] No further splits with positive gain, best gain: -inf\n",
            "[LightGBM] [Warning] No further splits with positive gain, best gain: -inf\n",
            "[LightGBM] [Warning] No further splits with positive gain, best gain: -inf\n",
            "[LightGBM] [Warning] No further splits with positive gain, best gain: -inf\n",
            "[LightGBM] [Warning] No further splits with positive gain, best gain: -inf\n",
            "[LightGBM] [Warning] No further splits with positive gain, best gain: -inf\n",
            "[LightGBM] [Warning] No further splits with positive gain, best gain: -inf\n",
            "[LightGBM] [Warning] No further splits with positive gain, best gain: -inf\n",
            "[LightGBM] [Warning] No further splits with positive gain, best gain: -inf\n",
            "[LightGBM] [Warning] No further splits with positive gain, best gain: -inf\n",
            "[LightGBM] [Warning] No further splits with positive gain, best gain: -inf\n",
            "[LightGBM] [Warning] No further splits with positive gain, best gain: -inf\n",
            "[LightGBM] [Warning] No further splits with positive gain, best gain: -inf\n",
            "[LightGBM] [Warning] No further splits with positive gain, best gain: -inf\n",
            "[LightGBM] [Warning] No further splits with positive gain, best gain: -inf\n",
            "[LightGBM] [Warning] No further splits with positive gain, best gain: -inf\n"
          ]
        },
        {
          "output_type": "stream",
          "name": "stderr",
          "text": [
            "[I 2024-09-07 22:12:07,590] Trial 8 finished with value: 0.28633173449045746 and parameters: {'num_leaves': 110, 'max_depth': 2, 'learning_rate': 0.0639857979278736, 'n_estimators': 68, 'subsample': 0.7753067636214088, 'colsample_bytree': 0.691415367249377}. Best is trial 7 with value: 0.5237023217523016.\n"
          ]
        },
        {
          "output_type": "stream",
          "name": "stdout",
          "text": [
            "[LightGBM] [Info] Number of positive: 148884, number of negative: 2857552\n",
            "[LightGBM] [Info] Auto-choosing row-wise multi-threading, the overhead of testing was 0.506648 seconds.\n",
            "You can set `force_row_wise=true` to remove the overhead.\n",
            "And if memory is not enough, you can set `force_col_wise=true`.\n",
            "[LightGBM] [Info] Total Bins 1252\n",
            "[LightGBM] [Info] Number of data points in the train set: 3006436, number of used features: 54\n",
            "[LightGBM] [Info] [binary:BoostFromScore]: pavg=0.049522 -> initscore=-2.954553\n",
            "[LightGBM] [Info] Start training from score -2.954553\n"
          ]
        },
        {
          "output_type": "stream",
          "name": "stderr",
          "text": [
            "[I 2024-09-07 22:12:32,787] Trial 9 finished with value: 0.2270975426644161 and parameters: {'num_leaves': 59, 'max_depth': 6, 'learning_rate': 0.03312587862436182, 'n_estimators': 25, 'subsample': 0.9874538621748712, 'colsample_bytree': 0.8950411083120052}. Best is trial 7 with value: 0.5237023217523016.\n"
          ]
        },
        {
          "output_type": "stream",
          "name": "stdout",
          "text": [
            "[LightGBM] [Info] Number of positive: 148884, number of negative: 2857552\n",
            "[LightGBM] [Info] Auto-choosing row-wise multi-threading, the overhead of testing was 0.525660 seconds.\n",
            "You can set `force_row_wise=true` to remove the overhead.\n",
            "And if memory is not enough, you can set `force_col_wise=true`.\n",
            "[LightGBM] [Info] Total Bins 1252\n",
            "[LightGBM] [Info] Number of data points in the train set: 3006436, number of used features: 54\n",
            "[LightGBM] [Info] [binary:BoostFromScore]: pavg=0.049522 -> initscore=-2.954553\n",
            "[LightGBM] [Info] Start training from score -2.954553\n"
          ]
        },
        {
          "output_type": "stream",
          "name": "stderr",
          "text": [
            "[I 2024-09-07 22:13:21,674] Trial 10 finished with value: 0.5036747700788264 and parameters: {'num_leaves': 73, 'max_depth': 19, 'learning_rate': 0.08800984514334438, 'n_estimators': 46, 'subsample': 0.8955740224970792, 'colsample_bytree': 0.9975851618392695}. Best is trial 7 with value: 0.5237023217523016.\n"
          ]
        },
        {
          "output_type": "stream",
          "name": "stdout",
          "text": [
            "[LightGBM] [Info] Number of positive: 148884, number of negative: 2857552\n",
            "[LightGBM] [Info] Auto-choosing row-wise multi-threading, the overhead of testing was 0.500291 seconds.\n",
            "You can set `force_row_wise=true` to remove the overhead.\n",
            "And if memory is not enough, you can set `force_col_wise=true`.\n",
            "[LightGBM] [Info] Total Bins 1252\n",
            "[LightGBM] [Info] Number of data points in the train set: 3006436, number of used features: 54\n",
            "[LightGBM] [Info] [binary:BoostFromScore]: pavg=0.049522 -> initscore=-2.954553\n",
            "[LightGBM] [Info] Start training from score -2.954553\n"
          ]
        },
        {
          "output_type": "stream",
          "name": "stderr",
          "text": [
            "[I 2024-09-07 22:15:07,289] Trial 11 finished with value: 0.5092748974268306 and parameters: {'num_leaves': 144, 'max_depth': 30, 'learning_rate': 0.0304848335778432, 'n_estimators': 98, 'subsample': 0.5215696678516148, 'colsample_bytree': 0.9478041179012795}. Best is trial 7 with value: 0.5237023217523016.\n"
          ]
        },
        {
          "output_type": "stream",
          "name": "stdout",
          "text": [
            "[LightGBM] [Info] Number of positive: 148884, number of negative: 2857552\n",
            "[LightGBM] [Info] Auto-choosing row-wise multi-threading, the overhead of testing was 0.470879 seconds.\n",
            "You can set `force_row_wise=true` to remove the overhead.\n",
            "And if memory is not enough, you can set `force_col_wise=true`.\n",
            "[LightGBM] [Info] Total Bins 1252\n",
            "[LightGBM] [Info] Number of data points in the train set: 3006436, number of used features: 54\n",
            "[LightGBM] [Info] [binary:BoostFromScore]: pavg=0.049522 -> initscore=-2.954553\n",
            "[LightGBM] [Info] Start training from score -2.954553\n"
          ]
        },
        {
          "output_type": "stream",
          "name": "stderr",
          "text": [
            "[I 2024-09-07 22:16:45,008] Trial 12 finished with value: 0.5350628912728176 and parameters: {'num_leaves': 150, 'max_depth': 30, 'learning_rate': 0.0725891144091528, 'n_estimators': 100, 'subsample': 0.5056544749922685, 'colsample_bytree': 0.979474197308235}. Best is trial 12 with value: 0.5350628912728176.\n"
          ]
        },
        {
          "output_type": "stream",
          "name": "stdout",
          "text": [
            "[LightGBM] [Info] Number of positive: 148884, number of negative: 2857552\n",
            "[LightGBM] [Info] Auto-choosing row-wise multi-threading, the overhead of testing was 0.390147 seconds.\n",
            "You can set `force_row_wise=true` to remove the overhead.\n",
            "And if memory is not enough, you can set `force_col_wise=true`.\n",
            "[LightGBM] [Info] Total Bins 1252\n",
            "[LightGBM] [Info] Number of data points in the train set: 3006436, number of used features: 54\n",
            "[LightGBM] [Info] [binary:BoostFromScore]: pavg=0.049522 -> initscore=-2.954553\n",
            "[LightGBM] [Info] Start training from score -2.954553\n"
          ]
        },
        {
          "output_type": "stream",
          "name": "stderr",
          "text": [
            "[I 2024-09-07 22:18:11,671] Trial 13 finished with value: 0.5335323373891188 and parameters: {'num_leaves': 146, 'max_depth': 17, 'learning_rate': 0.07472078188782408, 'n_estimators': 78, 'subsample': 0.8375146651490033, 'colsample_bytree': 0.6667348006746951}. Best is trial 12 with value: 0.5350628912728176.\n"
          ]
        },
        {
          "output_type": "stream",
          "name": "stdout",
          "text": [
            "[LightGBM] [Info] Number of positive: 148884, number of negative: 2857552\n",
            "[LightGBM] [Info] Auto-choosing row-wise multi-threading, the overhead of testing was 0.398064 seconds.\n",
            "You can set `force_row_wise=true` to remove the overhead.\n",
            "And if memory is not enough, you can set `force_col_wise=true`.\n",
            "[LightGBM] [Info] Total Bins 1252\n",
            "[LightGBM] [Info] Number of data points in the train set: 3006436, number of used features: 54\n",
            "[LightGBM] [Info] [binary:BoostFromScore]: pavg=0.049522 -> initscore=-2.954553\n",
            "[LightGBM] [Info] Start training from score -2.954553\n"
          ]
        },
        {
          "output_type": "stream",
          "name": "stderr",
          "text": [
            "[I 2024-09-07 22:19:43,901] Trial 14 finished with value: 0.5314553276155024 and parameters: {'num_leaves': 149, 'max_depth': 25, 'learning_rate': 0.07306206307671242, 'n_estimators': 83, 'subsample': 0.8341084692713856, 'colsample_bytree': 0.6902743644293171}. Best is trial 12 with value: 0.5350628912728176.\n"
          ]
        },
        {
          "output_type": "stream",
          "name": "stdout",
          "text": [
            "[LightGBM] [Info] Number of positive: 148884, number of negative: 2857552\n",
            "[LightGBM] [Info] Auto-choosing row-wise multi-threading, the overhead of testing was 0.383533 seconds.\n",
            "You can set `force_row_wise=true` to remove the overhead.\n",
            "And if memory is not enough, you can set `force_col_wise=true`.\n",
            "[LightGBM] [Info] Total Bins 1252\n",
            "[LightGBM] [Info] Number of data points in the train set: 3006436, number of used features: 54\n",
            "[LightGBM] [Info] [binary:BoostFromScore]: pavg=0.049522 -> initscore=-2.954553\n",
            "[LightGBM] [Info] Start training from score -2.954553\n"
          ]
        },
        {
          "output_type": "stream",
          "name": "stderr",
          "text": [
            "[I 2024-09-07 22:21:03,157] Trial 15 finished with value: 0.5211851883907953 and parameters: {'num_leaves': 81, 'max_depth': 14, 'learning_rate': 0.07986855553636288, 'n_estimators': 85, 'subsample': 0.6188452031926133, 'colsample_bytree': 0.6047855085348777}. Best is trial 12 with value: 0.5350628912728176.\n"
          ]
        },
        {
          "output_type": "stream",
          "name": "stdout",
          "text": [
            "[LightGBM] [Info] Number of positive: 148884, number of negative: 2857552\n",
            "[LightGBM] [Info] Auto-choosing col-wise multi-threading, the overhead of testing was 1.763947 seconds.\n",
            "You can set `force_col_wise=true` to remove the overhead.\n",
            "[LightGBM] [Info] Total Bins 1252\n",
            "[LightGBM] [Info] Number of data points in the train set: 3006436, number of used features: 54\n",
            "[LightGBM] [Info] [binary:BoostFromScore]: pavg=0.049522 -> initscore=-2.954553\n",
            "[LightGBM] [Info] Start training from score -2.954553\n"
          ]
        },
        {
          "output_type": "stream",
          "name": "stderr",
          "text": [
            "[I 2024-09-07 22:21:56,571] Trial 16 finished with value: 0.49276178761654976 and parameters: {'num_leaves': 23, 'max_depth': 30, 'learning_rate': 0.09730297770004756, 'n_estimators': 73, 'subsample': 0.532745400581323, 'colsample_bytree': 0.6917305473435659}. Best is trial 12 with value: 0.5350628912728176.\n"
          ]
        },
        {
          "output_type": "stream",
          "name": "stdout",
          "text": [
            "[LightGBM] [Info] Number of positive: 148884, number of negative: 2857552\n",
            "[LightGBM] [Info] Auto-choosing row-wise multi-threading, the overhead of testing was 0.382639 seconds.\n",
            "You can set `force_row_wise=true` to remove the overhead.\n",
            "And if memory is not enough, you can set `force_col_wise=true`.\n",
            "[LightGBM] [Info] Total Bins 1252\n",
            "[LightGBM] [Info] Number of data points in the train set: 3006436, number of used features: 54\n",
            "[LightGBM] [Info] [binary:BoostFromScore]: pavg=0.049522 -> initscore=-2.954553\n",
            "[LightGBM] [Info] Start training from score -2.954553\n"
          ]
        },
        {
          "output_type": "stream",
          "name": "stderr",
          "text": [
            "[I 2024-09-07 22:23:21,351] Trial 17 finished with value: 0.520966220159487 and parameters: {'num_leaves': 150, 'max_depth': 8, 'learning_rate': 0.07940215610990047, 'n_estimators': 90, 'subsample': 0.8048343777756106, 'colsample_bytree': 0.6300038426872249}. Best is trial 12 with value: 0.5350628912728176.\n"
          ]
        },
        {
          "output_type": "stream",
          "name": "stdout",
          "text": [
            "[LightGBM] [Info] Number of positive: 148884, number of negative: 2857552\n",
            "[LightGBM] [Info] Auto-choosing row-wise multi-threading, the overhead of testing was 0.420764 seconds.\n",
            "You can set `force_row_wise=true` to remove the overhead.\n",
            "And if memory is not enough, you can set `force_col_wise=true`.\n",
            "[LightGBM] [Info] Total Bins 1252\n",
            "[LightGBM] [Info] Number of data points in the train set: 3006436, number of used features: 54\n",
            "[LightGBM] [Info] [binary:BoostFromScore]: pavg=0.049522 -> initscore=-2.954553\n",
            "[LightGBM] [Info] Start training from score -2.954553\n"
          ]
        },
        {
          "output_type": "stream",
          "name": "stderr",
          "text": [
            "[I 2024-09-07 22:25:05,714] Trial 18 finished with value: 0.5265673882691934 and parameters: {'num_leaves': 120, 'max_depth': 18, 'learning_rate': 0.05403173057071387, 'n_estimators': 100, 'subsample': 0.6178092172639945, 'colsample_bytree': 0.7316724947740405}. Best is trial 12 with value: 0.5350628912728176.\n"
          ]
        },
        {
          "output_type": "stream",
          "name": "stdout",
          "text": [
            "[LightGBM] [Info] Number of positive: 148884, number of negative: 2857552\n",
            "[LightGBM] [Info] Auto-choosing row-wise multi-threading, the overhead of testing was 0.396774 seconds.\n",
            "You can set `force_row_wise=true` to remove the overhead.\n",
            "And if memory is not enough, you can set `force_col_wise=true`.\n",
            "[LightGBM] [Info] Total Bins 1252\n",
            "[LightGBM] [Info] Number of data points in the train set: 3006436, number of used features: 54\n",
            "[LightGBM] [Info] [binary:BoostFromScore]: pavg=0.049522 -> initscore=-2.954553\n",
            "[LightGBM] [Info] Start training from score -2.954553\n"
          ]
        },
        {
          "output_type": "stream",
          "name": "stderr",
          "text": [
            "[I 2024-09-07 22:26:21,799] Trial 19 finished with value: 0.5230926645279981 and parameters: {'num_leaves': 97, 'max_depth': 24, 'learning_rate': 0.08164376295139472, 'n_estimators': 73, 'subsample': 0.7159492240004055, 'colsample_bytree': 0.6430953884435167}. Best is trial 12 with value: 0.5350628912728176.\n"
          ]
        },
        {
          "output_type": "stream",
          "name": "stdout",
          "text": [
            "[LightGBM] [Info] Number of positive: 148884, number of negative: 2857552\n",
            "[LightGBM] [Info] Auto-choosing row-wise multi-threading, the overhead of testing was 0.419478 seconds.\n",
            "You can set `force_row_wise=true` to remove the overhead.\n",
            "And if memory is not enough, you can set `force_col_wise=true`.\n",
            "[LightGBM] [Info] Total Bins 1252\n",
            "[LightGBM] [Info] Number of data points in the train set: 3006436, number of used features: 54\n",
            "[LightGBM] [Info] [binary:BoostFromScore]: pavg=0.049522 -> initscore=-2.954553\n",
            "[LightGBM] [Info] Start training from score -2.954553\n"
          ]
        },
        {
          "output_type": "stream",
          "name": "stderr",
          "text": [
            "[I 2024-09-07 22:27:44,962] Trial 20 finished with value: 0.5246366177237536 and parameters: {'num_leaves': 134, 'max_depth': 27, 'learning_rate': 0.05940170496071944, 'n_estimators': 76, 'subsample': 0.5734776025148978, 'colsample_bytree': 0.766570882824184}. Best is trial 12 with value: 0.5350628912728176.\n"
          ]
        },
        {
          "output_type": "stream",
          "name": "stdout",
          "text": [
            "[LightGBM] [Info] Number of positive: 148884, number of negative: 2857552\n",
            "[LightGBM] [Info] Auto-choosing row-wise multi-threading, the overhead of testing was 0.405646 seconds.\n",
            "You can set `force_row_wise=true` to remove the overhead.\n",
            "And if memory is not enough, you can set `force_col_wise=true`.\n",
            "[LightGBM] [Info] Total Bins 1252\n",
            "[LightGBM] [Info] Number of data points in the train set: 3006436, number of used features: 54\n",
            "[LightGBM] [Info] [binary:BoostFromScore]: pavg=0.049522 -> initscore=-2.954553\n",
            "[LightGBM] [Info] Start training from score -2.954553\n"
          ]
        },
        {
          "output_type": "stream",
          "name": "stderr",
          "text": [
            "[I 2024-09-07 22:29:16,464] Trial 21 finished with value: 0.5348619921063791 and parameters: {'num_leaves': 149, 'max_depth': 25, 'learning_rate': 0.07462635790771016, 'n_estimators': 84, 'subsample': 0.8303892189450517, 'colsample_bytree': 0.6856033046970633}. Best is trial 12 with value: 0.5350628912728176.\n"
          ]
        },
        {
          "output_type": "stream",
          "name": "stdout",
          "text": [
            "[LightGBM] [Info] Number of positive: 148884, number of negative: 2857552\n",
            "[LightGBM] [Info] Auto-choosing row-wise multi-threading, the overhead of testing was 0.315903 seconds.\n",
            "You can set `force_row_wise=true` to remove the overhead.\n",
            "And if memory is not enough, you can set `force_col_wise=true`.\n",
            "[LightGBM] [Info] Total Bins 1252\n",
            "[LightGBM] [Info] Number of data points in the train set: 3006436, number of used features: 54\n",
            "[LightGBM] [Info] [binary:BoostFromScore]: pavg=0.049522 -> initscore=-2.954553\n",
            "[LightGBM] [Info] Start training from score -2.954553\n"
          ]
        },
        {
          "output_type": "stream",
          "name": "stderr",
          "text": [
            "[I 2024-09-07 22:30:37,718] Trial 22 finished with value: 0.5317843546624181 and parameters: {'num_leaves': 140, 'max_depth': 20, 'learning_rate': 0.07250129156310922, 'n_estimators': 91, 'subsample': 0.8207952823787049, 'colsample_bytree': 0.5788173270388811}. Best is trial 12 with value: 0.5350628912728176.\n"
          ]
        },
        {
          "output_type": "stream",
          "name": "stdout",
          "text": [
            "[LightGBM] [Info] Number of positive: 148884, number of negative: 2857552\n",
            "[LightGBM] [Info] Auto-choosing row-wise multi-threading, the overhead of testing was 0.416915 seconds.\n",
            "You can set `force_row_wise=true` to remove the overhead.\n",
            "And if memory is not enough, you can set `force_col_wise=true`.\n",
            "[LightGBM] [Info] Total Bins 1252\n",
            "[LightGBM] [Info] Number of data points in the train set: 3006436, number of used features: 54\n",
            "[LightGBM] [Info] [binary:BoostFromScore]: pavg=0.049522 -> initscore=-2.954553\n",
            "[LightGBM] [Info] Start training from score -2.954553\n"
          ]
        },
        {
          "output_type": "stream",
          "name": "stderr",
          "text": [
            "[I 2024-09-07 22:32:10,800] Trial 23 finished with value: 0.5317218269999301 and parameters: {'num_leaves': 123, 'max_depth': 27, 'learning_rate': 0.06904671426237913, 'n_estimators': 88, 'subsample': 0.9276647690914339, 'colsample_bytree': 0.7236060771036227}. Best is trial 12 with value: 0.5350628912728176.\n"
          ]
        },
        {
          "output_type": "stream",
          "name": "stdout",
          "text": [
            "[LightGBM] [Info] Number of positive: 148884, number of negative: 2857552\n",
            "[LightGBM] [Info] Auto-choosing row-wise multi-threading, the overhead of testing was 0.399247 seconds.\n",
            "You can set `force_row_wise=true` to remove the overhead.\n",
            "And if memory is not enough, you can set `force_col_wise=true`.\n",
            "[LightGBM] [Info] Total Bins 1252\n",
            "[LightGBM] [Info] Number of data points in the train set: 3006436, number of used features: 54\n",
            "[LightGBM] [Info] [binary:BoostFromScore]: pavg=0.049522 -> initscore=-2.954553\n",
            "[LightGBM] [Info] Start training from score -2.954553\n"
          ]
        },
        {
          "output_type": "stream",
          "name": "stderr",
          "text": [
            "[I 2024-09-07 22:33:37,341] Trial 24 finished with value: 0.5381899173122265 and parameters: {'num_leaves': 149, 'max_depth': 24, 'learning_rate': 0.08847877238689464, 'n_estimators': 80, 'subsample': 0.8601882473816211, 'colsample_bytree': 0.6639178583135487}. Best is trial 24 with value: 0.5381899173122265.\n"
          ]
        },
        {
          "output_type": "stream",
          "name": "stdout",
          "text": [
            "[LightGBM] [Info] Number of positive: 148884, number of negative: 2857552\n",
            "[LightGBM] [Info] Auto-choosing row-wise multi-threading, the overhead of testing was 0.443888 seconds.\n",
            "You can set `force_row_wise=true` to remove the overhead.\n",
            "And if memory is not enough, you can set `force_col_wise=true`.\n",
            "[LightGBM] [Info] Total Bins 1252\n",
            "[LightGBM] [Info] Number of data points in the train set: 3006436, number of used features: 54\n",
            "[LightGBM] [Info] [binary:BoostFromScore]: pavg=0.049522 -> initscore=-2.954553\n",
            "[LightGBM] [Info] Start training from score -2.954553\n"
          ]
        },
        {
          "output_type": "stream",
          "name": "stderr",
          "text": [
            "[I 2024-09-07 22:34:32,239] Trial 25 finished with value: 0.520068085258249 and parameters: {'num_leaves': 106, 'max_depth': 30, 'learning_rate': 0.08812918771531045, 'n_estimators': 50, 'subsample': 0.7877882774173365, 'colsample_bytree': 0.823305386604873}. Best is trial 24 with value: 0.5381899173122265.\n"
          ]
        },
        {
          "output_type": "stream",
          "name": "stdout",
          "text": [
            "[LightGBM] [Info] Number of positive: 148884, number of negative: 2857552\n",
            "[LightGBM] [Info] Auto-choosing row-wise multi-threading, the overhead of testing was 0.411119 seconds.\n",
            "You can set `force_row_wise=true` to remove the overhead.\n",
            "And if memory is not enough, you can set `force_col_wise=true`.\n",
            "[LightGBM] [Info] Total Bins 1252\n",
            "[LightGBM] [Info] Number of data points in the train set: 3006436, number of used features: 54\n",
            "[LightGBM] [Info] [binary:BoostFromScore]: pavg=0.049522 -> initscore=-2.954553\n",
            "[LightGBM] [Info] Start training from score -2.954553\n"
          ]
        },
        {
          "output_type": "stream",
          "name": "stderr",
          "text": [
            "[I 2024-09-07 22:36:02,699] Trial 26 finished with value: 0.5413397794086484 and parameters: {'num_leaves': 125, 'max_depth': 24, 'learning_rate': 0.09965662548937204, 'n_estimators': 96, 'subsample': 0.8779686128434079, 'colsample_bytree': 0.7452699761318937}. Best is trial 26 with value: 0.5413397794086484.\n"
          ]
        },
        {
          "output_type": "stream",
          "name": "stdout",
          "text": [
            "[LightGBM] [Info] Number of positive: 148884, number of negative: 2857552\n",
            "[LightGBM] [Info] Auto-choosing row-wise multi-threading, the overhead of testing was 0.461978 seconds.\n",
            "You can set `force_row_wise=true` to remove the overhead.\n",
            "And if memory is not enough, you can set `force_col_wise=true`.\n",
            "[LightGBM] [Info] Total Bins 1252\n",
            "[LightGBM] [Info] Number of data points in the train set: 3006436, number of used features: 54\n",
            "[LightGBM] [Info] [binary:BoostFromScore]: pavg=0.049522 -> initscore=-2.954553\n",
            "[LightGBM] [Info] Start training from score -2.954553\n"
          ]
        },
        {
          "output_type": "stream",
          "name": "stderr",
          "text": [
            "[I 2024-09-07 22:37:28,633] Trial 27 finished with value: 0.5361862000461813 and parameters: {'num_leaves': 125, 'max_depth': 22, 'learning_rate': 0.09450432275372428, 'n_estimators': 95, 'subsample': 0.9946730388894407, 'colsample_bytree': 0.9376191797961411}. Best is trial 26 with value: 0.5413397794086484.\n"
          ]
        },
        {
          "output_type": "stream",
          "name": "stdout",
          "text": [
            "[LightGBM] [Info] Number of positive: 148884, number of negative: 2857552\n",
            "[LightGBM] [Info] Auto-choosing row-wise multi-threading, the overhead of testing was 0.461376 seconds.\n",
            "You can set `force_row_wise=true` to remove the overhead.\n",
            "And if memory is not enough, you can set `force_col_wise=true`.\n",
            "[LightGBM] [Info] Total Bins 1252\n",
            "[LightGBM] [Info] Number of data points in the train set: 3006436, number of used features: 54\n",
            "[LightGBM] [Info] [binary:BoostFromScore]: pavg=0.049522 -> initscore=-2.954553\n",
            "[LightGBM] [Info] Start training from score -2.954553\n"
          ]
        },
        {
          "output_type": "stream",
          "name": "stderr",
          "text": [
            "[I 2024-09-07 22:38:47,795] Trial 28 finished with value: 0.5297733818202398 and parameters: {'num_leaves': 92, 'max_depth': 22, 'learning_rate': 0.09708688324824108, 'n_estimators': 91, 'subsample': 0.9962473697247536, 'colsample_bytree': 0.925389738418493}. Best is trial 26 with value: 0.5413397794086484.\n"
          ]
        },
        {
          "output_type": "stream",
          "name": "stdout",
          "text": [
            "[LightGBM] [Info] Number of positive: 148884, number of negative: 2857552\n",
            "[LightGBM] [Info] Auto-choosing row-wise multi-threading, the overhead of testing was 0.425993 seconds.\n",
            "You can set `force_row_wise=true` to remove the overhead.\n",
            "And if memory is not enough, you can set `force_col_wise=true`.\n",
            "[LightGBM] [Info] Total Bins 1252\n",
            "[LightGBM] [Info] Number of data points in the train set: 3006436, number of used features: 54\n",
            "[LightGBM] [Info] [binary:BoostFromScore]: pavg=0.049522 -> initscore=-2.954553\n",
            "[LightGBM] [Info] Start training from score -2.954553\n"
          ]
        },
        {
          "output_type": "stream",
          "name": "stderr",
          "text": [
            "[I 2024-09-07 22:40:14,728] Trial 29 finished with value: 0.5361694387450318 and parameters: {'num_leaves': 111, 'max_depth': 14, 'learning_rate': 0.0995645178778326, 'n_estimators': 94, 'subsample': 0.9648035147923388, 'colsample_bytree': 0.7577899360218158}. Best is trial 26 with value: 0.5413397794086484.\n"
          ]
        },
        {
          "output_type": "stream",
          "name": "stdout",
          "text": [
            "[LightGBM] [Info] Number of positive: 148884, number of negative: 2857552\n",
            "[LightGBM] [Info] Auto-choosing row-wise multi-threading, the overhead of testing was 0.435460 seconds.\n",
            "You can set `force_row_wise=true` to remove the overhead.\n",
            "And if memory is not enough, you can set `force_col_wise=true`.\n",
            "[LightGBM] [Info] Total Bins 1252\n",
            "[LightGBM] [Info] Number of data points in the train set: 3006436, number of used features: 54\n",
            "[LightGBM] [Info] [binary:BoostFromScore]: pavg=0.049522 -> initscore=-2.954553\n",
            "[LightGBM] [Info] Start training from score -2.954553\n"
          ]
        },
        {
          "output_type": "stream",
          "name": "stderr",
          "text": [
            "[I 2024-09-07 22:41:23,930] Trial 30 finished with value: 0.5307413580464374 and parameters: {'num_leaves': 117, 'max_depth': 23, 'learning_rate': 0.0917038945502325, 'n_estimators': 65, 'subsample': 0.9122445651001845, 'colsample_bytree': 0.8262904755529576}. Best is trial 26 with value: 0.5413397794086484.\n"
          ]
        },
        {
          "output_type": "stream",
          "name": "stdout",
          "text": [
            "[LightGBM] [Info] Number of positive: 148884, number of negative: 2857552\n",
            "[LightGBM] [Info] Auto-choosing col-wise multi-threading, the overhead of testing was 1.449109 seconds.\n",
            "You can set `force_col_wise=true` to remove the overhead.\n",
            "[LightGBM] [Info] Total Bins 1252\n",
            "[LightGBM] [Info] Number of data points in the train set: 3006436, number of used features: 54\n",
            "[LightGBM] [Info] [binary:BoostFromScore]: pavg=0.049522 -> initscore=-2.954553\n",
            "[LightGBM] [Info] Start training from score -2.954553\n"
          ]
        },
        {
          "output_type": "stream",
          "name": "stderr",
          "text": [
            "[I 2024-09-07 22:43:00,443] Trial 31 finished with value: 0.532902591895751 and parameters: {'num_leaves': 108, 'max_depth': 15, 'learning_rate': 0.0997324759102568, 'n_estimators': 94, 'subsample': 0.9592042076644465, 'colsample_bytree': 0.7500461946598118}. Best is trial 26 with value: 0.5413397794086484.\n"
          ]
        },
        {
          "output_type": "stream",
          "name": "stdout",
          "text": [
            "[LightGBM] [Info] Number of positive: 148884, number of negative: 2857552\n",
            "[LightGBM] [Info] Auto-choosing row-wise multi-threading, the overhead of testing was 0.426890 seconds.\n",
            "You can set `force_row_wise=true` to remove the overhead.\n",
            "And if memory is not enough, you can set `force_col_wise=true`.\n",
            "[LightGBM] [Info] Total Bins 1252\n",
            "[LightGBM] [Info] Number of data points in the train set: 3006436, number of used features: 54\n",
            "[LightGBM] [Info] [binary:BoostFromScore]: pavg=0.049522 -> initscore=-2.954553\n",
            "[LightGBM] [Info] Start training from score -2.954553\n"
          ]
        },
        {
          "output_type": "stream",
          "name": "stderr",
          "text": [
            "[I 2024-09-07 22:44:22,531] Trial 32 finished with value: 0.5341144695032948 and parameters: {'num_leaves': 126, 'max_depth': 20, 'learning_rate': 0.08509606983586714, 'n_estimators': 80, 'subsample': 0.8739779777685737, 'colsample_bytree': 0.7796142428496466}. Best is trial 26 with value: 0.5413397794086484.\n"
          ]
        },
        {
          "output_type": "stream",
          "name": "stdout",
          "text": [
            "[LightGBM] [Info] Number of positive: 148884, number of negative: 2857552\n",
            "[LightGBM] [Info] Auto-choosing row-wise multi-threading, the overhead of testing was 0.411616 seconds.\n",
            "You can set `force_row_wise=true` to remove the overhead.\n",
            "And if memory is not enough, you can set `force_col_wise=true`.\n",
            "[LightGBM] [Info] Total Bins 1252\n",
            "[LightGBM] [Info] Number of data points in the train set: 3006436, number of used features: 54\n",
            "[LightGBM] [Info] [binary:BoostFromScore]: pavg=0.049522 -> initscore=-2.954553\n",
            "[LightGBM] [Info] Start training from score -2.954553\n"
          ]
        },
        {
          "output_type": "stream",
          "name": "stderr",
          "text": [
            "[I 2024-09-07 22:45:50,751] Trial 33 finished with value: 0.5349150478501551 and parameters: {'num_leaves': 112, 'max_depth': 12, 'learning_rate': 0.09404801064512351, 'n_estimators': 94, 'subsample': 0.9632031678020174, 'colsample_bytree': 0.7227152026988908}. Best is trial 26 with value: 0.5413397794086484.\n"
          ]
        },
        {
          "output_type": "stream",
          "name": "stdout",
          "text": [
            "[LightGBM] [Info] Number of positive: 148884, number of negative: 2857552\n",
            "[LightGBM] [Info] Auto-choosing row-wise multi-threading, the overhead of testing was 0.392037 seconds.\n",
            "You can set `force_row_wise=true` to remove the overhead.\n",
            "And if memory is not enough, you can set `force_col_wise=true`.\n",
            "[LightGBM] [Info] Total Bins 1252\n",
            "[LightGBM] [Info] Number of data points in the train set: 3006436, number of used features: 54\n",
            "[LightGBM] [Info] [binary:BoostFromScore]: pavg=0.049522 -> initscore=-2.954553\n",
            "[LightGBM] [Info] Start training from score -2.954553\n"
          ]
        },
        {
          "output_type": "stream",
          "name": "stderr",
          "text": [
            "[I 2024-09-07 22:47:20,615] Trial 34 finished with value: 0.5373717742540675 and parameters: {'num_leaves': 137, 'max_depth': 21, 'learning_rate': 0.09384612858710749, 'n_estimators': 87, 'subsample': 0.8649561811984362, 'colsample_bytree': 0.6425370461770894}. Best is trial 26 with value: 0.5413397794086484.\n"
          ]
        },
        {
          "output_type": "stream",
          "name": "stdout",
          "text": [
            "[LightGBM] [Info] Number of positive: 148884, number of negative: 2857552\n",
            "[LightGBM] [Info] Auto-choosing row-wise multi-threading, the overhead of testing was 0.315779 seconds.\n",
            "You can set `force_row_wise=true` to remove the overhead.\n",
            "And if memory is not enough, you can set `force_col_wise=true`.\n",
            "[LightGBM] [Info] Total Bins 1252\n",
            "[LightGBM] [Info] Number of data points in the train set: 3006436, number of used features: 54\n",
            "[LightGBM] [Info] [binary:BoostFromScore]: pavg=0.049522 -> initscore=-2.954553\n",
            "[LightGBM] [Info] Start training from score -2.954553\n"
          ]
        },
        {
          "output_type": "stream",
          "name": "stderr",
          "text": [
            "[I 2024-09-07 22:48:35,407] Trial 35 finished with value: 0.5341624092324224 and parameters: {'num_leaves': 138, 'max_depth': 22, 'learning_rate': 0.08354534532145917, 'n_estimators': 87, 'subsample': 0.8622929378649183, 'colsample_bytree': 0.5880497031323718}. Best is trial 26 with value: 0.5413397794086484.\n"
          ]
        },
        {
          "output_type": "stream",
          "name": "stdout",
          "text": [
            "[LightGBM] [Info] Number of positive: 148884, number of negative: 2857552\n",
            "[LightGBM] [Info] Auto-choosing row-wise multi-threading, the overhead of testing was 0.412021 seconds.\n",
            "You can set `force_row_wise=true` to remove the overhead.\n",
            "And if memory is not enough, you can set `force_col_wise=true`.\n",
            "[LightGBM] [Info] Total Bins 1252\n",
            "[LightGBM] [Info] Number of data points in the train set: 3006436, number of used features: 54\n",
            "[LightGBM] [Info] [binary:BoostFromScore]: pavg=0.049522 -> initscore=-2.954553\n",
            "[LightGBM] [Info] Start training from score -2.954553\n"
          ]
        },
        {
          "output_type": "stream",
          "name": "stderr",
          "text": [
            "[I 2024-09-07 22:50:01,520] Trial 36 finished with value: 0.5335569447202544 and parameters: {'num_leaves': 127, 'max_depth': 20, 'learning_rate': 0.09225040766908765, 'n_estimators': 80, 'subsample': 0.7530860775779535, 'colsample_bytree': 0.6391775509373191}. Best is trial 26 with value: 0.5413397794086484.\n"
          ]
        },
        {
          "output_type": "stream",
          "name": "stdout",
          "text": [
            "[LightGBM] [Info] Number of positive: 148884, number of negative: 2857552\n",
            "[LightGBM] [Info] Auto-choosing row-wise multi-threading, the overhead of testing was 0.424046 seconds.\n",
            "You can set `force_row_wise=true` to remove the overhead.\n",
            "And if memory is not enough, you can set `force_col_wise=true`.\n",
            "[LightGBM] [Info] Total Bins 1252\n",
            "[LightGBM] [Info] Number of data points in the train set: 3006436, number of used features: 54\n",
            "[LightGBM] [Info] [binary:BoostFromScore]: pavg=0.049522 -> initscore=-2.954553\n",
            "[LightGBM] [Info] Start training from score -2.954553\n",
            "[LightGBM] [Warning] No further splits with positive gain, best gain: -inf\n"
          ]
        },
        {
          "output_type": "stream",
          "name": "stderr",
          "text": [
            "[I 2024-09-07 22:50:37,154] Trial 37 finished with value: 0.49075247899180074 and parameters: {'num_leaves': 139, 'max_depth': 26, 'learning_rate': 0.08765243409562973, 'n_estimators': 39, 'subsample': 0.9213582440476777, 'colsample_bytree': 0.5044610378819137}. Best is trial 26 with value: 0.5413397794086484.\n"
          ]
        },
        {
          "output_type": "stream",
          "name": "stdout",
          "text": [
            "[LightGBM] [Info] Number of positive: 148884, number of negative: 2857552\n",
            "[LightGBM] [Info] Auto-choosing row-wise multi-threading, the overhead of testing was 0.337843 seconds.\n",
            "You can set `force_row_wise=true` to remove the overhead.\n",
            "And if memory is not enough, you can set `force_col_wise=true`.\n",
            "[LightGBM] [Info] Total Bins 1252\n",
            "[LightGBM] [Info] Number of data points in the train set: 3006436, number of used features: 54\n",
            "[LightGBM] [Info] [binary:BoostFromScore]: pavg=0.049522 -> initscore=-2.954553\n",
            "[LightGBM] [Info] Start training from score -2.954553\n"
          ]
        },
        {
          "output_type": "stream",
          "name": "stderr",
          "text": [
            "[I 2024-09-07 22:51:29,557] Trial 38 finished with value: 0.5205181935149557 and parameters: {'num_leaves': 133, 'max_depth': 22, 'learning_rate': 0.09399565799331132, 'n_estimators': 60, 'subsample': 0.8651105473958973, 'colsample_bytree': 0.534826415579813}. Best is trial 26 with value: 0.5413397794086484.\n"
          ]
        },
        {
          "output_type": "stream",
          "name": "stdout",
          "text": [
            "[LightGBM] [Info] Number of positive: 148884, number of negative: 2857552\n",
            "[LightGBM] [Info] Auto-choosing row-wise multi-threading, the overhead of testing was 0.308099 seconds.\n",
            "You can set `force_row_wise=true` to remove the overhead.\n",
            "And if memory is not enough, you can set `force_col_wise=true`.\n",
            "[LightGBM] [Info] Total Bins 1252\n",
            "[LightGBM] [Info] Number of data points in the train set: 3006436, number of used features: 54\n",
            "[LightGBM] [Info] [binary:BoostFromScore]: pavg=0.049522 -> initscore=-2.954553\n",
            "[LightGBM] [Info] Start training from score -2.954553\n",
            "[LightGBM] [Warning] No further splits with positive gain, best gain: -inf\n"
          ]
        },
        {
          "output_type": "stream",
          "name": "stderr",
          "text": [
            "[I 2024-09-07 22:52:48,961] Trial 39 finished with value: 0.5090391927752445 and parameters: {'num_leaves': 103, 'max_depth': 28, 'learning_rate': 0.04211929494193901, 'n_estimators': 97, 'subsample': 0.8922480359519097, 'colsample_bytree': 0.5626372751219899}. Best is trial 26 with value: 0.5413397794086484.\n"
          ]
        },
        {
          "output_type": "stream",
          "name": "stdout",
          "text": [
            "[LightGBM] [Info] Number of positive: 148884, number of negative: 2857552\n",
            "[LightGBM] [Info] Auto-choosing col-wise multi-threading, the overhead of testing was 1.916797 seconds.\n",
            "You can set `force_col_wise=true` to remove the overhead.\n",
            "[LightGBM] [Info] Total Bins 1252\n",
            "[LightGBM] [Info] Number of data points in the train set: 3006436, number of used features: 54\n",
            "[LightGBM] [Info] [binary:BoostFromScore]: pavg=0.049522 -> initscore=-2.954553\n",
            "[LightGBM] [Info] Start training from score -2.954553\n"
          ]
        },
        {
          "output_type": "stream",
          "name": "stderr",
          "text": [
            "[I 2024-09-07 22:54:09,051] Trial 40 finished with value: 0.5338540296061135 and parameters: {'num_leaves': 130, 'max_depth': 24, 'learning_rate': 0.09580985870853065, 'n_estimators': 74, 'subsample': 0.7939808416597732, 'colsample_bytree': 0.6605200849190624}. Best is trial 26 with value: 0.5413397794086484.\n"
          ]
        },
        {
          "output_type": "stream",
          "name": "stdout",
          "text": [
            "[LightGBM] [Info] Number of positive: 148884, number of negative: 2857552\n",
            "[LightGBM] [Info] Auto-choosing row-wise multi-threading, the overhead of testing was 0.380913 seconds.\n",
            "You can set `force_row_wise=true` to remove the overhead.\n",
            "And if memory is not enough, you can set `force_col_wise=true`.\n",
            "[LightGBM] [Info] Total Bins 1252\n",
            "[LightGBM] [Info] Number of data points in the train set: 3006436, number of used features: 54\n",
            "[LightGBM] [Info] [binary:BoostFromScore]: pavg=0.049522 -> initscore=-2.954553\n",
            "[LightGBM] [Info] Start training from score -2.954553\n"
          ]
        },
        {
          "output_type": "stream",
          "name": "stderr",
          "text": [
            "[I 2024-09-07 22:55:36,335] Trial 41 finished with value: 0.5337505516383387 and parameters: {'num_leaves': 114, 'max_depth': 13, 'learning_rate': 0.09944726555777801, 'n_estimators': 93, 'subsample': 0.9653868174242549, 'colsample_bytree': 0.6165983677562559}. Best is trial 26 with value: 0.5413397794086484.\n"
          ]
        },
        {
          "output_type": "stream",
          "name": "stdout",
          "text": [
            "[LightGBM] [Info] Number of positive: 148884, number of negative: 2857552\n",
            "[LightGBM] [Info] Auto-choosing row-wise multi-threading, the overhead of testing was 0.670387 seconds.\n",
            "You can set `force_row_wise=true` to remove the overhead.\n",
            "And if memory is not enough, you can set `force_col_wise=true`.\n",
            "[LightGBM] [Info] Total Bins 1252\n",
            "[LightGBM] [Info] Number of data points in the train set: 3006436, number of used features: 54\n",
            "[LightGBM] [Info] [binary:BoostFromScore]: pavg=0.049522 -> initscore=-2.954553\n",
            "[LightGBM] [Info] Start training from score -2.954553\n"
          ]
        },
        {
          "output_type": "stream",
          "name": "stderr",
          "text": [
            "[I 2024-09-07 22:56:59,790] Trial 42 finished with value: 0.5365070162369693 and parameters: {'num_leaves': 123, 'max_depth': 18, 'learning_rate': 0.08877783297866153, 'n_estimators': 88, 'subsample': 0.9461710852524068, 'colsample_bytree': 0.8829863034879264}. Best is trial 26 with value: 0.5413397794086484.\n"
          ]
        },
        {
          "output_type": "stream",
          "name": "stdout",
          "text": [
            "[LightGBM] [Info] Number of positive: 148884, number of negative: 2857552\n",
            "[LightGBM] [Info] Auto-choosing row-wise multi-threading, the overhead of testing was 0.458134 seconds.\n",
            "You can set `force_row_wise=true` to remove the overhead.\n",
            "And if memory is not enough, you can set `force_col_wise=true`.\n",
            "[LightGBM] [Info] Total Bins 1252\n",
            "[LightGBM] [Info] Number of data points in the train set: 3006436, number of used features: 54\n",
            "[LightGBM] [Info] [binary:BoostFromScore]: pavg=0.049522 -> initscore=-2.954553\n",
            "[LightGBM] [Info] Start training from score -2.954553\n"
          ]
        },
        {
          "output_type": "stream",
          "name": "stderr",
          "text": [
            "[I 2024-09-07 22:58:26,812] Trial 43 finished with value: 0.5417509096912376 and parameters: {'num_leaves': 141, 'max_depth': 18, 'learning_rate': 0.0898623914049592, 'n_estimators': 88, 'subsample': 0.9394283269044714, 'colsample_bytree': 0.9097759487542745}. Best is trial 43 with value: 0.5417509096912376.\n"
          ]
        },
        {
          "output_type": "stream",
          "name": "stdout",
          "text": [
            "[LightGBM] [Info] Number of positive: 148884, number of negative: 2857552\n",
            "[LightGBM] [Info] Auto-choosing row-wise multi-threading, the overhead of testing was 0.545675 seconds.\n",
            "You can set `force_row_wise=true` to remove the overhead.\n",
            "And if memory is not enough, you can set `force_col_wise=true`.\n",
            "[LightGBM] [Info] Total Bins 1252\n",
            "[LightGBM] [Info] Number of data points in the train set: 3006436, number of used features: 54\n",
            "[LightGBM] [Info] [binary:BoostFromScore]: pavg=0.049522 -> initscore=-2.954553\n",
            "[LightGBM] [Info] Start training from score -2.954553\n"
          ]
        },
        {
          "output_type": "stream",
          "name": "stderr",
          "text": [
            "[I 2024-09-07 22:59:52,795] Trial 44 finished with value: 0.5403645237391166 and parameters: {'num_leaves': 142, 'max_depth': 18, 'learning_rate': 0.08866861976777299, 'n_estimators': 88, 'subsample': 0.9253045672933954, 'colsample_bytree': 0.8861831128080011}. Best is trial 43 with value: 0.5417509096912376.\n"
          ]
        },
        {
          "output_type": "stream",
          "name": "stdout",
          "text": [
            "[LightGBM] [Info] Number of positive: 148884, number of negative: 2857552\n",
            "[LightGBM] [Info] Auto-choosing row-wise multi-threading, the overhead of testing was 0.706947 seconds.\n",
            "You can set `force_row_wise=true` to remove the overhead.\n",
            "And if memory is not enough, you can set `force_col_wise=true`.\n",
            "[LightGBM] [Info] Total Bins 1252\n",
            "[LightGBM] [Info] Number of data points in the train set: 3006436, number of used features: 54\n",
            "[LightGBM] [Info] [binary:BoostFromScore]: pavg=0.049522 -> initscore=-2.954553\n",
            "[LightGBM] [Info] Start training from score -2.954553\n"
          ]
        },
        {
          "output_type": "stream",
          "name": "stderr",
          "text": [
            "[I 2024-09-07 23:01:17,279] Trial 45 finished with value: 0.5368199823946174 and parameters: {'num_leaves': 142, 'max_depth': 16, 'learning_rate': 0.07821715043901568, 'n_estimators': 80, 'subsample': 0.9077480189257079, 'colsample_bytree': 0.9068717257143546}. Best is trial 43 with value: 0.5417509096912376.\n"
          ]
        },
        {
          "output_type": "stream",
          "name": "stdout",
          "text": [
            "[LightGBM] [Info] Number of positive: 148884, number of negative: 2857552\n",
            "[LightGBM] [Info] Auto-choosing row-wise multi-threading, the overhead of testing was 0.449546 seconds.\n",
            "You can set `force_row_wise=true` to remove the overhead.\n",
            "And if memory is not enough, you can set `force_col_wise=true`.\n",
            "[LightGBM] [Info] Total Bins 1252\n",
            "[LightGBM] [Info] Number of data points in the train set: 3006436, number of used features: 54\n",
            "[LightGBM] [Info] [binary:BoostFromScore]: pavg=0.049522 -> initscore=-2.954553\n",
            "[LightGBM] [Info] Start training from score -2.954553\n"
          ]
        },
        {
          "output_type": "stream",
          "name": "stderr",
          "text": [
            "[I 2024-09-07 23:02:27,911] Trial 46 finished with value: 0.0 and parameters: {'num_leaves': 143, 'max_depth': 19, 'learning_rate': 0.010254320406453472, 'n_estimators': 67, 'subsample': 0.9282581605217852, 'colsample_bytree': 0.8636308000815527}. Best is trial 43 with value: 0.5417509096912376.\n"
          ]
        },
        {
          "output_type": "stream",
          "name": "stdout",
          "text": [
            "[LightGBM] [Info] Number of positive: 148884, number of negative: 2857552\n",
            "[LightGBM] [Info] Auto-choosing row-wise multi-threading, the overhead of testing was 0.518167 seconds.\n",
            "You can set `force_row_wise=true` to remove the overhead.\n",
            "And if memory is not enough, you can set `force_col_wise=true`.\n",
            "[LightGBM] [Info] Total Bins 1252\n",
            "[LightGBM] [Info] Number of data points in the train set: 3006436, number of used features: 54\n",
            "[LightGBM] [Info] [binary:BoostFromScore]: pavg=0.049522 -> initscore=-2.954553\n",
            "[LightGBM] [Info] Start training from score -2.954553\n"
          ]
        },
        {
          "output_type": "stream",
          "name": "stderr",
          "text": [
            "[I 2024-09-07 23:03:57,002] Trial 47 finished with value: 0.5314220777642306 and parameters: {'num_leaves': 135, 'max_depth': 21, 'learning_rate': 0.0676265852136463, 'n_estimators': 86, 'subsample': 0.8781784868718445, 'colsample_bytree': 0.9666324532020054}. Best is trial 43 with value: 0.5417509096912376.\n"
          ]
        },
        {
          "output_type": "stream",
          "name": "stdout",
          "text": [
            "[LightGBM] [Info] Number of positive: 148884, number of negative: 2857552\n",
            "[LightGBM] [Info] Auto-choosing col-wise multi-threading, the overhead of testing was 1.536464 seconds.\n",
            "You can set `force_col_wise=true` to remove the overhead.\n",
            "[LightGBM] [Info] Total Bins 1252\n",
            "[LightGBM] [Info] Number of data points in the train set: 3006436, number of used features: 54\n",
            "[LightGBM] [Info] [binary:BoostFromScore]: pavg=0.049522 -> initscore=-2.954553\n",
            "[LightGBM] [Info] Start training from score -2.954553\n"
          ]
        },
        {
          "output_type": "stream",
          "name": "stderr",
          "text": [
            "[I 2024-09-07 23:05:19,357] Trial 48 finished with value: 0.517997445349591 and parameters: {'num_leaves': 61, 'max_depth': 10, 'learning_rate': 0.08496808199935389, 'n_estimators': 82, 'subsample': 0.8512128078781721, 'colsample_bytree': 0.8196758849649648}. Best is trial 43 with value: 0.5417509096912376.\n"
          ]
        },
        {
          "output_type": "stream",
          "name": "stdout",
          "text": [
            "[LightGBM] [Info] Number of positive: 148884, number of negative: 2857552\n",
            "[LightGBM] [Info] Auto-choosing row-wise multi-threading, the overhead of testing was 0.438453 seconds.\n",
            "You can set `force_row_wise=true` to remove the overhead.\n",
            "And if memory is not enough, you can set `force_col_wise=true`.\n",
            "[LightGBM] [Info] Total Bins 1252\n",
            "[LightGBM] [Info] Number of data points in the train set: 3006436, number of used features: 54\n",
            "[LightGBM] [Info] [binary:BoostFromScore]: pavg=0.049522 -> initscore=-2.954553\n",
            "[LightGBM] [Info] Start training from score -2.954553\n"
          ]
        },
        {
          "output_type": "stream",
          "name": "stderr",
          "text": [
            "[I 2024-09-07 23:06:35,595] Trial 49 finished with value: 0.53722906763715 and parameters: {'num_leaves': 142, 'max_depth': 17, 'learning_rate': 0.09008181985910747, 'n_estimators': 71, 'subsample': 0.8936023940973493, 'colsample_bytree': 0.7884999094969503}. Best is trial 43 with value: 0.5417509096912376.\n"
          ]
        },
        {
          "output_type": "stream",
          "name": "stdout",
          "text": [
            "Best parameters for LightGBM: {'num_leaves': 141, 'max_depth': 18, 'learning_rate': 0.0898623914049592, 'n_estimators': 88, 'subsample': 0.9394283269044714, 'colsample_bytree': 0.9097759487542745}\n",
            "Best MCC score for LightGBM: 0.5417509096912376\n"
          ]
        }
      ]
    },
    {
      "cell_type": "code",
      "source": [
        "lgbm_best_params = {'num_leaves': 141, 'max_depth': 18, 'learning_rate': 0.0898623914049592, 'n_estimators': 88, 'subsample': 0.9394283269044714, 'colsample_bytree': 0.9097759487542745}"
      ],
      "metadata": {
        "id": "RP94pafKvovT"
      },
      "execution_count": 99,
      "outputs": []
    },
    {
      "cell_type": "code",
      "source": [
        "def objective_xgb(trial):\n",
        "    params = {\n",
        "        'objective': 'binary:logistic',\n",
        "        'eval_metric': 'logloss',\n",
        "        'max_depth': trial.suggest_int('max_depth', 1, 10),\n",
        "        'learning_rate': trial.suggest_float('learning_rate', 0.01, 0.3),\n",
        "        'n_estimators': trial.suggest_int('n_estimators', 20, 100),\n",
        "        'subsample': trial.suggest_float('subsample', 0.5, 1.0),\n",
        "        'colsample_bytree': trial.suggest_float('colsample_bytree', 0.5, 1.0),\n",
        "    }\n",
        "\n",
        "    model = XGBClassifier(**params)\n",
        "    model.fit(X_train, y_train)\n",
        "\n",
        "    preds = model.predict(X_test)\n",
        "    mcc = matthews_corrcoef(y_test, preds)\n",
        "    return mcc\n",
        "\n",
        "# Оптимизация гиперпараметров XGBoost\n",
        "xgb_study = optuna.create_study(direction='maximize')\n",
        "xgb_study.optimize(objective_xgb, n_trials=50)\n",
        "\n",
        "print(\"Best parameters for XGBoost:\", xgb_study.best_params)\n",
        "print(\"Best MCC score for XGBoost:\", xgb_study.best_value)"
      ],
      "metadata": {
        "colab": {
          "base_uri": "https://localhost:8080/"
        },
        "id": "S1fq88fznUIp",
        "outputId": "50b14058-ebab-499e-d025-000b2107b134"
      },
      "execution_count": 98,
      "outputs": [
        {
          "output_type": "stream",
          "name": "stderr",
          "text": [
            "[I 2024-09-07 23:06:35,622] A new study created in memory with name: no-name-e9501b3f-2bab-4359-bcb9-d8f250a3a26f\n",
            "[I 2024-09-07 23:07:03,072] Trial 0 finished with value: 0.49065098579628613 and parameters: {'max_depth': 6, 'learning_rate': 0.15355381575759622, 'n_estimators': 36, 'subsample': 0.5311407353244333, 'colsample_bytree': 0.59982035326213}. Best is trial 0 with value: 0.49065098579628613.\n",
            "[I 2024-09-07 23:07:52,348] Trial 1 finished with value: 0.5459055809276583 and parameters: {'max_depth': 9, 'learning_rate': 0.16983101942399112, 'n_estimators': 58, 'subsample': 0.6297069828729402, 'colsample_bytree': 0.7596211231073581}. Best is trial 1 with value: 0.5459055809276583.\n",
            "[I 2024-09-07 23:08:31,623] Trial 2 finished with value: 0.3552392782782319 and parameters: {'max_depth': 3, 'learning_rate': 0.05478793017356273, 'n_estimators': 86, 'subsample': 0.8933938338208862, 'colsample_bytree': 0.8171611685660667}. Best is trial 1 with value: 0.5459055809276583.\n",
            "[I 2024-09-07 23:09:01,192] Trial 3 finished with value: 0.20121475965960575 and parameters: {'max_depth': 1, 'learning_rate': 0.18192982810954308, 'n_estimators': 98, 'subsample': 0.8999709856886449, 'colsample_bytree': 0.8625092637673342}. Best is trial 1 with value: 0.5459055809276583.\n",
            "[I 2024-09-07 23:09:43,923] Trial 4 finished with value: 0.4843540582360212 and parameters: {'max_depth': 4, 'learning_rate': 0.10170218875297317, 'n_estimators': 98, 'subsample': 0.8347957035122658, 'colsample_bytree': 0.6908274549957761}. Best is trial 1 with value: 0.5459055809276583.\n",
            "[I 2024-09-07 23:10:35,883] Trial 5 finished with value: 0.5521107608737487 and parameters: {'max_depth': 10, 'learning_rate': 0.209670762741193, 'n_estimators': 67, 'subsample': 0.9170878312749212, 'colsample_bytree': 0.6928153979536702}. Best is trial 5 with value: 0.5521107608737487.\n",
            "[I 2024-09-07 23:11:08,754] Trial 6 finished with value: 0.3836813715055485 and parameters: {'max_depth': 2, 'learning_rate': 0.14616916357297913, 'n_estimators': 90, 'subsample': 0.5795509715589426, 'colsample_bytree': 0.9377518010582089}. Best is trial 5 with value: 0.5521107608737487.\n",
            "[I 2024-09-07 23:11:39,570] Trial 7 finished with value: 0.5356865771851266 and parameters: {'max_depth': 10, 'learning_rate': 0.12858740936381552, 'n_estimators': 28, 'subsample': 0.5220410324509002, 'colsample_bytree': 0.9530335387325378}. Best is trial 5 with value: 0.5521107608737487.\n",
            "[I 2024-09-07 23:12:21,036] Trial 8 finished with value: 0.49301501738859943 and parameters: {'max_depth': 5, 'learning_rate': 0.13145993152756533, 'n_estimators': 80, 'subsample': 0.8513204019314144, 'colsample_bytree': 0.7318998037931951}. Best is trial 5 with value: 0.5521107608737487.\n",
            "[I 2024-09-07 23:12:41,869] Trial 9 finished with value: 0.18243554314060162 and parameters: {'max_depth': 1, 'learning_rate': 0.28226040174907874, 'n_estimators': 50, 'subsample': 0.9585446395458975, 'colsample_bytree': 0.5533861910100296}. Best is trial 5 with value: 0.5521107608737487.\n",
            "[I 2024-09-07 23:13:30,833] Trial 10 finished with value: 0.5441479692283018 and parameters: {'max_depth': 8, 'learning_rate': 0.24065463013102198, 'n_estimators': 72, 'subsample': 0.6963609571061019, 'colsample_bytree': 0.6313521707017142}. Best is trial 5 with value: 0.5521107608737487.\n",
            "[I 2024-09-07 23:14:22,619] Trial 11 finished with value: 0.5553648687773225 and parameters: {'max_depth': 10, 'learning_rate': 0.20695382802107634, 'n_estimators': 61, 'subsample': 0.6887593656639797, 'colsample_bytree': 0.7947546560998784}. Best is trial 11 with value: 0.5553648687773225.\n",
            "[I 2024-09-07 23:15:03,195] Trial 12 finished with value: 0.5308927897617054 and parameters: {'max_depth': 7, 'learning_rate': 0.22322184785746346, 'n_estimators': 65, 'subsample': 0.753448748096804, 'colsample_bytree': 0.8062912164964464}. Best is trial 11 with value: 0.5553648687773225.\n",
            "[I 2024-09-07 23:15:46,701] Trial 13 finished with value: 0.5507302740121409 and parameters: {'max_depth': 10, 'learning_rate': 0.2122624343026022, 'n_estimators': 47, 'subsample': 0.7515135634790141, 'colsample_bytree': 0.671071257538902}. Best is trial 11 with value: 0.5553648687773225.\n",
            "[I 2024-09-07 23:16:34,549] Trial 14 finished with value: 0.546188092812854 and parameters: {'max_depth': 8, 'learning_rate': 0.292587916633128, 'n_estimators': 72, 'subsample': 0.996392458208257, 'colsample_bytree': 0.8810709730516977}. Best is trial 11 with value: 0.5553648687773225.\n",
            "[I 2024-09-07 23:17:19,891] Trial 15 finished with value: 0.5550123465654956 and parameters: {'max_depth': 10, 'learning_rate': 0.25253154403156874, 'n_estimators': 55, 'subsample': 0.6975397801082236, 'colsample_bytree': 0.7464531392348414}. Best is trial 11 with value: 0.5553648687773225.\n",
            "[I 2024-09-07 23:18:00,990] Trial 16 finished with value: 0.5411997973042636 and parameters: {'max_depth': 8, 'learning_rate': 0.25964263253164505, 'n_estimators': 53, 'subsample': 0.6558395398111136, 'colsample_bytree': 0.7707599603558909}. Best is trial 11 with value: 0.5553648687773225.\n",
            "[I 2024-09-07 23:18:28,075] Trial 17 finished with value: 0.5097501862088347 and parameters: {'max_depth': 6, 'learning_rate': 0.25358026961485863, 'n_estimators': 39, 'subsample': 0.7966324877886215, 'colsample_bytree': 0.8756183929637538}. Best is trial 11 with value: 0.5553648687773225.\n",
            "[I 2024-09-07 23:19:04,990] Trial 18 finished with value: 0.5408553460662836 and parameters: {'max_depth': 9, 'learning_rate': 0.1879414812127234, 'n_estimators': 42, 'subsample': 0.6825698328742315, 'colsample_bytree': 0.8171276269701364}. Best is trial 11 with value: 0.5553648687773225.\n",
            "[I 2024-09-07 23:19:30,216] Trial 19 finished with value: 0.0 and parameters: {'max_depth': 9, 'learning_rate': 0.018360500872649593, 'n_estimators': 20, 'subsample': 0.608861856772701, 'colsample_bytree': 0.5144956874833897}. Best is trial 11 with value: 0.5553648687773225.\n",
            "[I 2024-09-07 23:20:13,657] Trial 20 finished with value: 0.5010418827511643 and parameters: {'max_depth': 7, 'learning_rate': 0.09540642582184033, 'n_estimators': 59, 'subsample': 0.7049969904458713, 'colsample_bytree': 0.7274375595707276}. Best is trial 11 with value: 0.5553648687773225.\n",
            "[I 2024-09-07 23:21:11,811] Trial 21 finished with value: 0.5546336086819262 and parameters: {'max_depth': 10, 'learning_rate': 0.22353071763681015, 'n_estimators': 74, 'subsample': 0.8015470157010742, 'colsample_bytree': 0.6642106546298376}. Best is trial 11 with value: 0.5553648687773225.\n",
            "[I 2024-09-07 23:22:10,187] Trial 22 finished with value: 0.5567993310696406 and parameters: {'max_depth': 10, 'learning_rate': 0.2700911397423918, 'n_estimators': 77, 'subsample': 0.7980149602309258, 'colsample_bytree': 0.6193194358238914}. Best is trial 22 with value: 0.5567993310696406.\n",
            "[I 2024-09-07 23:22:58,362] Trial 23 finished with value: 0.5467059022209547 and parameters: {'max_depth': 9, 'learning_rate': 0.2686513304950035, 'n_estimators': 62, 'subsample': 0.7318360798127245, 'colsample_bytree': 0.6059915573763568}. Best is trial 22 with value: 0.5567993310696406.\n",
            "[I 2024-09-07 23:23:57,569] Trial 24 finished with value: 0.5552907958409058 and parameters: {'max_depth': 10, 'learning_rate': 0.23719420868667515, 'n_estimators': 78, 'subsample': 0.7830312183528938, 'colsample_bytree': 0.5428607271065006}. Best is trial 22 with value: 0.5567993310696406.\n",
            "[I 2024-09-07 23:24:47,725] Trial 25 finished with value: 0.5346251435839409 and parameters: {'max_depth': 7, 'learning_rate': 0.2984940048089022, 'n_estimators': 80, 'subsample': 0.7820144315801199, 'colsample_bytree': 0.5081459921391588}. Best is trial 22 with value: 0.5567993310696406.\n",
            "[I 2024-09-07 23:25:52,985] Trial 26 finished with value: 0.5387032174741717 and parameters: {'max_depth': 8, 'learning_rate': 0.19278724329955488, 'n_estimators': 87, 'subsample': 0.8428166291081806, 'colsample_bytree': 0.559060859249156}. Best is trial 22 with value: 0.5567993310696406.\n",
            "[I 2024-09-07 23:27:06,107] Trial 27 finished with value: 0.550504844774967 and parameters: {'max_depth': 9, 'learning_rate': 0.23244993786579016, 'n_estimators': 79, 'subsample': 0.7663865908595219, 'colsample_bytree': 0.5605846890724605}. Best is trial 22 with value: 0.5567993310696406.\n",
            "[I 2024-09-07 23:28:17,160] Trial 28 finished with value: 0.5553681861895825 and parameters: {'max_depth': 10, 'learning_rate': 0.2673994356849001, 'n_estimators': 69, 'subsample': 0.8230737074990699, 'colsample_bytree': 0.6251670148068499}. Best is trial 22 with value: 0.5567993310696406.\n",
            "[I 2024-09-07 23:28:57,400] Trial 29 finished with value: 0.5099537676365125 and parameters: {'max_depth': 5, 'learning_rate': 0.27292707138698125, 'n_estimators': 67, 'subsample': 0.8700645238086407, 'colsample_bytree': 0.6252127138958355}. Best is trial 22 with value: 0.5567993310696406.\n",
            "[I 2024-09-07 23:30:21,253] Trial 30 finished with value: 0.5541168100047335 and parameters: {'max_depth': 9, 'learning_rate': 0.28036260245198996, 'n_estimators': 92, 'subsample': 0.8129350023131402, 'colsample_bytree': 0.6444016615088335}. Best is trial 22 with value: 0.5567993310696406.\n",
            "[I 2024-09-07 23:31:38,053] Trial 31 finished with value: 0.5559781458720399 and parameters: {'max_depth': 10, 'learning_rate': 0.2428326325198055, 'n_estimators': 75, 'subsample': 0.7223083171328954, 'colsample_bytree': 0.5866166466209137}. Best is trial 22 with value: 0.5567993310696406.\n",
            "[I 2024-09-07 23:32:47,880] Trial 32 finished with value: 0.5546975377216325 and parameters: {'max_depth': 10, 'learning_rate': 0.20089629997378217, 'n_estimators': 71, 'subsample': 0.6498119526286379, 'colsample_bytree': 0.5961371338683188}. Best is trial 22 with value: 0.5567993310696406.\n",
            "[I 2024-09-07 23:33:54,264] Trial 33 finished with value: 0.5493902587818551 and parameters: {'max_depth': 9, 'learning_rate': 0.2480624254203841, 'n_estimators': 64, 'subsample': 0.7251207911243166, 'colsample_bytree': 0.5889404507061654}. Best is trial 22 with value: 0.5567993310696406.\n",
            "[I 2024-09-07 23:34:52,584] Trial 34 finished with value: 0.5399326077484394 and parameters: {'max_depth': 8, 'learning_rate': 0.175044280131369, 'n_estimators': 83, 'subsample': 0.5787551167353256, 'colsample_bytree': 0.7855478837569317}. Best is trial 22 with value: 0.5567993310696406.\n",
            "[I 2024-09-07 23:35:45,353] Trial 35 finished with value: 0.552961185043377 and parameters: {'max_depth': 9, 'learning_rate': 0.27286811578355674, 'n_estimators': 75, 'subsample': 0.8215890737090525, 'colsample_bytree': 0.7001397623030203}. Best is trial 22 with value: 0.5567993310696406.\n",
            "[I 2024-09-07 23:36:36,334] Trial 36 finished with value: 0.5563618544306781 and parameters: {'max_depth': 10, 'learning_rate': 0.2159638614911098, 'n_estimators': 59, 'subsample': 0.877485688422909, 'colsample_bytree': 0.8387265446872629}. Best is trial 22 with value: 0.5567993310696406.\n",
            "[I 2024-09-07 23:37:08,303] Trial 37 finished with value: 0.49594356517094623 and parameters: {'max_depth': 4, 'learning_rate': 0.1591794010461286, 'n_estimators': 69, 'subsample': 0.9233300375509222, 'colsample_bytree': 0.8560371602781025}. Best is trial 22 with value: 0.5567993310696406.\n",
            "[I 2024-09-07 23:37:53,388] Trial 38 finished with value: 0.5563376374182238 and parameters: {'max_depth': 10, 'learning_rate': 0.2618606812292516, 'n_estimators': 56, 'subsample': 0.870036869792765, 'colsample_bytree': 0.8425319460638552}. Best is trial 22 with value: 0.5567993310696406.\n",
            "[I 2024-09-07 23:38:24,255] Trial 39 finished with value: 0.5060459239531954 and parameters: {'max_depth': 6, 'learning_rate': 0.22713831368945483, 'n_estimators': 44, 'subsample': 0.8812428758696089, 'colsample_bytree': 0.9896243866658432}. Best is trial 22 with value: 0.5567993310696406.\n",
            "[I 2024-09-07 23:38:43,835] Trial 40 finished with value: 0.4662317643468648 and parameters: {'max_depth': 3, 'learning_rate': 0.2939007850929759, 'n_estimators': 31, 'subsample': 0.9401062962364397, 'colsample_bytree': 0.9156126673924974}. Best is trial 22 with value: 0.5567993310696406.\n",
            "[I 2024-09-07 23:39:38,528] Trial 41 finished with value: 0.5580452235301456 and parameters: {'max_depth': 10, 'learning_rate': 0.2626502900369224, 'n_estimators': 56, 'subsample': 0.8657708954490477, 'colsample_bytree': 0.8407201782750098}. Best is trial 41 with value: 0.5580452235301456.\n",
            "[I 2024-09-07 23:40:33,012] Trial 42 finished with value: 0.5550913978680018 and parameters: {'max_depth': 10, 'learning_rate': 0.24438219644580403, 'n_estimators': 56, 'subsample': 0.8611806488320743, 'colsample_bytree': 0.8457411593624404}. Best is trial 41 with value: 0.5580452235301456.\n",
            "[I 2024-09-07 23:41:31,444] Trial 43 finished with value: 0.5567658597483351 and parameters: {'max_depth': 10, 'learning_rate': 0.25881974817490827, 'n_estimators': 52, 'subsample': 0.9000083276829672, 'colsample_bytree': 0.9044421896304247}. Best is trial 41 with value: 0.5580452235301456.\n",
            "[I 2024-09-07 23:42:20,553] Trial 44 finished with value: 0.5500239804524513 and parameters: {'max_depth': 9, 'learning_rate': 0.28596931897123345, 'n_estimators': 51, 'subsample': 0.8995098032326969, 'colsample_bytree': 0.8968753357387311}. Best is trial 41 with value: 0.5580452235301456.\n",
            "[I 2024-09-07 23:43:04,963] Trial 45 finished with value: 0.555947080945792 and parameters: {'max_depth': 10, 'learning_rate': 0.26336724659129884, 'n_estimators': 48, 'subsample': 0.9695226070549027, 'colsample_bytree': 0.835685858436602}. Best is trial 41 with value: 0.5580452235301456.\n",
            "[I 2024-09-07 23:43:50,390] Trial 46 finished with value: 0.5502986571127576 and parameters: {'max_depth': 9, 'learning_rate': 0.2168905368227375, 'n_estimators': 58, 'subsample': 0.9005784639610354, 'colsample_bytree': 0.9385322358412825}. Best is trial 41 with value: 0.5580452235301456.\n",
            "[I 2024-09-07 23:44:29,959] Trial 47 finished with value: 0.5397766292546381 and parameters: {'max_depth': 8, 'learning_rate': 0.25683967014049397, 'n_estimators': 54, 'subsample': 0.9296026417756741, 'colsample_bytree': 0.8313878003480262}. Best is trial 41 with value: 0.5580452235301456.\n",
            "[I 2024-09-07 23:45:10,307] Trial 48 finished with value: 0.5550343239599829 and parameters: {'max_depth': 10, 'learning_rate': 0.2797205718399936, 'n_estimators': 44, 'subsample': 0.8515130830432888, 'colsample_bytree': 0.9041983706802699}. Best is trial 41 with value: 0.5580452235301456.\n",
            "[I 2024-09-07 23:45:44,124] Trial 49 finished with value: 0.5371757631304487 and parameters: {'max_depth': 9, 'learning_rate': 0.19918547453253121, 'n_estimators': 35, 'subsample': 0.8804708192138558, 'colsample_bytree': 0.9924078602738539}. Best is trial 41 with value: 0.5580452235301456.\n"
          ]
        },
        {
          "output_type": "stream",
          "name": "stdout",
          "text": [
            "Best parameters for XGBoost: {'max_depth': 10, 'learning_rate': 0.2626502900369224, 'n_estimators': 56, 'subsample': 0.8657708954490477, 'colsample_bytree': 0.8407201782750098}\n",
            "Best MCC score for XGBoost: 0.5580452235301456\n"
          ]
        }
      ]
    },
    {
      "cell_type": "code",
      "source": [
        "xgb_best_params = {'max_depth': 10, 'learning_rate': 0.2626502900369224, 'n_estimators': 56, 'subsample': 0.8657708954490477, 'colsample_bytree': 0.8407201782750098}"
      ],
      "metadata": {
        "id": "-in_M_T24Z4I"
      },
      "execution_count": 104,
      "outputs": []
    },
    {
      "cell_type": "code",
      "source": [
        "xgb_model = XGBClassifier(**xgb_best_params)\n",
        "lgbm_model = LGBMClassifier(**lgbm_best_params)\n",
        "\n",
        "voting_clf = VotingClassifier(estimators=[\n",
        "    ('xgb', xgb_model),\n",
        "    ('lgbm', lgbm_model)\n",
        "], voting='hard')"
      ],
      "metadata": {
        "id": "WwF1tUyx4Rb8"
      },
      "execution_count": 105,
      "outputs": []
    },
    {
      "cell_type": "code",
      "source": [
        "voting_clf.fit(X_train, y_train)"
      ],
      "metadata": {
        "colab": {
          "base_uri": "https://localhost:8080/",
          "height": 248
        },
        "id": "zXNWS8Ol4rKQ",
        "outputId": "48014d84-16b1-4211-8caa-eec4c1aef794"
      },
      "execution_count": 106,
      "outputs": [
        {
          "output_type": "stream",
          "name": "stdout",
          "text": [
            "[LightGBM] [Info] Number of positive: 148884, number of negative: 2857552\n",
            "[LightGBM] [Info] Auto-choosing row-wise multi-threading, the overhead of testing was 0.488682 seconds.\n",
            "You can set `force_row_wise=true` to remove the overhead.\n",
            "And if memory is not enough, you can set `force_col_wise=true`.\n",
            "[LightGBM] [Info] Total Bins 1252\n",
            "[LightGBM] [Info] Number of data points in the train set: 3006436, number of used features: 54\n",
            "[LightGBM] [Info] [binary:BoostFromScore]: pavg=0.049522 -> initscore=-2.954553\n",
            "[LightGBM] [Info] Start training from score -2.954553\n"
          ]
        },
        {
          "output_type": "execute_result",
          "data": {
            "text/plain": [
              "VotingClassifier(estimators=[('xgb',\n",
              "                              XGBClassifier(base_score=None, booster=None,\n",
              "                                            callbacks=None,\n",
              "                                            colsample_bylevel=None,\n",
              "                                            colsample_bynode=None,\n",
              "                                            colsample_bytree=0.8407201782750098,\n",
              "                                            device=None,\n",
              "                                            early_stopping_rounds=None,\n",
              "                                            enable_categorical=False,\n",
              "                                            eval_metric=None,\n",
              "                                            feature_types=None, gamma=None,\n",
              "                                            grow_policy=None,\n",
              "                                            importance_type=None,\n",
              "                                            interaction_constraints=No...\n",
              "                                            max_delta_step=None, max_depth=10,\n",
              "                                            max_leaves=None,\n",
              "                                            min_child_weight=None, missing=nan,\n",
              "                                            monotone_constraints=None,\n",
              "                                            multi_strategy=None,\n",
              "                                            n_estimators=56, n_jobs=None,\n",
              "                                            num_parallel_tree=None,\n",
              "                                            random_state=None, ...)),\n",
              "                             ('lgbm',\n",
              "                              LGBMClassifier(colsample_bytree=0.9097759487542745,\n",
              "                                             learning_rate=0.0898623914049592,\n",
              "                                             max_depth=18, n_estimators=88,\n",
              "                                             num_leaves=141,\n",
              "                                             subsample=0.9394283269044714))])"
            ],
            "text/html": [
              "<style>#sk-container-id-1 {color: black;}#sk-container-id-1 pre{padding: 0;}#sk-container-id-1 div.sk-toggleable {background-color: white;}#sk-container-id-1 label.sk-toggleable__label {cursor: pointer;display: block;width: 100%;margin-bottom: 0;padding: 0.3em;box-sizing: border-box;text-align: center;}#sk-container-id-1 label.sk-toggleable__label-arrow:before {content: \"▸\";float: left;margin-right: 0.25em;color: #696969;}#sk-container-id-1 label.sk-toggleable__label-arrow:hover:before {color: black;}#sk-container-id-1 div.sk-estimator:hover label.sk-toggleable__label-arrow:before {color: black;}#sk-container-id-1 div.sk-toggleable__content {max-height: 0;max-width: 0;overflow: hidden;text-align: left;background-color: #f0f8ff;}#sk-container-id-1 div.sk-toggleable__content pre {margin: 0.2em;color: black;border-radius: 0.25em;background-color: #f0f8ff;}#sk-container-id-1 input.sk-toggleable__control:checked~div.sk-toggleable__content {max-height: 200px;max-width: 100%;overflow: auto;}#sk-container-id-1 input.sk-toggleable__control:checked~label.sk-toggleable__label-arrow:before {content: \"▾\";}#sk-container-id-1 div.sk-estimator input.sk-toggleable__control:checked~label.sk-toggleable__label {background-color: #d4ebff;}#sk-container-id-1 div.sk-label input.sk-toggleable__control:checked~label.sk-toggleable__label {background-color: #d4ebff;}#sk-container-id-1 input.sk-hidden--visually {border: 0;clip: rect(1px 1px 1px 1px);clip: rect(1px, 1px, 1px, 1px);height: 1px;margin: -1px;overflow: hidden;padding: 0;position: absolute;width: 1px;}#sk-container-id-1 div.sk-estimator {font-family: monospace;background-color: #f0f8ff;border: 1px dotted black;border-radius: 0.25em;box-sizing: border-box;margin-bottom: 0.5em;}#sk-container-id-1 div.sk-estimator:hover {background-color: #d4ebff;}#sk-container-id-1 div.sk-parallel-item::after {content: \"\";width: 100%;border-bottom: 1px solid gray;flex-grow: 1;}#sk-container-id-1 div.sk-label:hover label.sk-toggleable__label {background-color: #d4ebff;}#sk-container-id-1 div.sk-serial::before {content: \"\";position: absolute;border-left: 1px solid gray;box-sizing: border-box;top: 0;bottom: 0;left: 50%;z-index: 0;}#sk-container-id-1 div.sk-serial {display: flex;flex-direction: column;align-items: center;background-color: white;padding-right: 0.2em;padding-left: 0.2em;position: relative;}#sk-container-id-1 div.sk-item {position: relative;z-index: 1;}#sk-container-id-1 div.sk-parallel {display: flex;align-items: stretch;justify-content: center;background-color: white;position: relative;}#sk-container-id-1 div.sk-item::before, #sk-container-id-1 div.sk-parallel-item::before {content: \"\";position: absolute;border-left: 1px solid gray;box-sizing: border-box;top: 0;bottom: 0;left: 50%;z-index: -1;}#sk-container-id-1 div.sk-parallel-item {display: flex;flex-direction: column;z-index: 1;position: relative;background-color: white;}#sk-container-id-1 div.sk-parallel-item:first-child::after {align-self: flex-end;width: 50%;}#sk-container-id-1 div.sk-parallel-item:last-child::after {align-self: flex-start;width: 50%;}#sk-container-id-1 div.sk-parallel-item:only-child::after {width: 0;}#sk-container-id-1 div.sk-dashed-wrapped {border: 1px dashed gray;margin: 0 0.4em 0.5em 0.4em;box-sizing: border-box;padding-bottom: 0.4em;background-color: white;}#sk-container-id-1 div.sk-label label {font-family: monospace;font-weight: bold;display: inline-block;line-height: 1.2em;}#sk-container-id-1 div.sk-label-container {text-align: center;}#sk-container-id-1 div.sk-container {/* jupyter's `normalize.less` sets `[hidden] { display: none; }` but bootstrap.min.css set `[hidden] { display: none !important; }` so we also need the `!important` here to be able to override the default hidden behavior on the sphinx rendered scikit-learn.org. See: https://github.com/scikit-learn/scikit-learn/issues/21755 */display: inline-block !important;position: relative;}#sk-container-id-1 div.sk-text-repr-fallback {display: none;}</style><div id=\"sk-container-id-1\" class=\"sk-top-container\"><div class=\"sk-text-repr-fallback\"><pre>VotingClassifier(estimators=[(&#x27;xgb&#x27;,\n",
              "                              XGBClassifier(base_score=None, booster=None,\n",
              "                                            callbacks=None,\n",
              "                                            colsample_bylevel=None,\n",
              "                                            colsample_bynode=None,\n",
              "                                            colsample_bytree=0.8407201782750098,\n",
              "                                            device=None,\n",
              "                                            early_stopping_rounds=None,\n",
              "                                            enable_categorical=False,\n",
              "                                            eval_metric=None,\n",
              "                                            feature_types=None, gamma=None,\n",
              "                                            grow_policy=None,\n",
              "                                            importance_type=None,\n",
              "                                            interaction_constraints=No...\n",
              "                                            max_delta_step=None, max_depth=10,\n",
              "                                            max_leaves=None,\n",
              "                                            min_child_weight=None, missing=nan,\n",
              "                                            monotone_constraints=None,\n",
              "                                            multi_strategy=None,\n",
              "                                            n_estimators=56, n_jobs=None,\n",
              "                                            num_parallel_tree=None,\n",
              "                                            random_state=None, ...)),\n",
              "                             (&#x27;lgbm&#x27;,\n",
              "                              LGBMClassifier(colsample_bytree=0.9097759487542745,\n",
              "                                             learning_rate=0.0898623914049592,\n",
              "                                             max_depth=18, n_estimators=88,\n",
              "                                             num_leaves=141,\n",
              "                                             subsample=0.9394283269044714))])</pre><b>In a Jupyter environment, please rerun this cell to show the HTML representation or trust the notebook. <br />On GitHub, the HTML representation is unable to render, please try loading this page with nbviewer.org.</b></div><div class=\"sk-container\" hidden><div class=\"sk-item sk-dashed-wrapped\"><div class=\"sk-label-container\"><div class=\"sk-label sk-toggleable\"><input class=\"sk-toggleable__control sk-hidden--visually\" id=\"sk-estimator-id-1\" type=\"checkbox\" ><label for=\"sk-estimator-id-1\" class=\"sk-toggleable__label sk-toggleable__label-arrow\">VotingClassifier</label><div class=\"sk-toggleable__content\"><pre>VotingClassifier(estimators=[(&#x27;xgb&#x27;,\n",
              "                              XGBClassifier(base_score=None, booster=None,\n",
              "                                            callbacks=None,\n",
              "                                            colsample_bylevel=None,\n",
              "                                            colsample_bynode=None,\n",
              "                                            colsample_bytree=0.8407201782750098,\n",
              "                                            device=None,\n",
              "                                            early_stopping_rounds=None,\n",
              "                                            enable_categorical=False,\n",
              "                                            eval_metric=None,\n",
              "                                            feature_types=None, gamma=None,\n",
              "                                            grow_policy=None,\n",
              "                                            importance_type=None,\n",
              "                                            interaction_constraints=No...\n",
              "                                            max_delta_step=None, max_depth=10,\n",
              "                                            max_leaves=None,\n",
              "                                            min_child_weight=None, missing=nan,\n",
              "                                            monotone_constraints=None,\n",
              "                                            multi_strategy=None,\n",
              "                                            n_estimators=56, n_jobs=None,\n",
              "                                            num_parallel_tree=None,\n",
              "                                            random_state=None, ...)),\n",
              "                             (&#x27;lgbm&#x27;,\n",
              "                              LGBMClassifier(colsample_bytree=0.9097759487542745,\n",
              "                                             learning_rate=0.0898623914049592,\n",
              "                                             max_depth=18, n_estimators=88,\n",
              "                                             num_leaves=141,\n",
              "                                             subsample=0.9394283269044714))])</pre></div></div></div><div class=\"sk-parallel\"><div class=\"sk-parallel-item\"><div class=\"sk-item\"><div class=\"sk-label-container\"><div class=\"sk-label sk-toggleable\"><label>xgb</label></div></div><div class=\"sk-serial\"><div class=\"sk-item\"><div class=\"sk-estimator sk-toggleable\"><input class=\"sk-toggleable__control sk-hidden--visually\" id=\"sk-estimator-id-2\" type=\"checkbox\" ><label for=\"sk-estimator-id-2\" class=\"sk-toggleable__label sk-toggleable__label-arrow\">XGBClassifier</label><div class=\"sk-toggleable__content\"><pre>XGBClassifier(base_score=None, booster=None, callbacks=None,\n",
              "              colsample_bylevel=None, colsample_bynode=None,\n",
              "              colsample_bytree=0.8407201782750098, device=None,\n",
              "              early_stopping_rounds=None, enable_categorical=False,\n",
              "              eval_metric=None, feature_types=None, gamma=None,\n",
              "              grow_policy=None, importance_type=None,\n",
              "              interaction_constraints=None, learning_rate=0.2626502900369224,\n",
              "              max_bin=None, max_cat_threshold=None, max_cat_to_onehot=None,\n",
              "              max_delta_step=None, max_depth=10, max_leaves=None,\n",
              "              min_child_weight=None, missing=nan, monotone_constraints=None,\n",
              "              multi_strategy=None, n_estimators=56, n_jobs=None,\n",
              "              num_parallel_tree=None, random_state=None, ...)</pre></div></div></div></div></div></div><div class=\"sk-parallel-item\"><div class=\"sk-item\"><div class=\"sk-label-container\"><div class=\"sk-label sk-toggleable\"><label>lgbm</label></div></div><div class=\"sk-serial\"><div class=\"sk-item\"><div class=\"sk-estimator sk-toggleable\"><input class=\"sk-toggleable__control sk-hidden--visually\" id=\"sk-estimator-id-3\" type=\"checkbox\" ><label for=\"sk-estimator-id-3\" class=\"sk-toggleable__label sk-toggleable__label-arrow\">LGBMClassifier</label><div class=\"sk-toggleable__content\"><pre>LGBMClassifier(colsample_bytree=0.9097759487542745,\n",
              "               learning_rate=0.0898623914049592, max_depth=18, n_estimators=88,\n",
              "               num_leaves=141, subsample=0.9394283269044714)</pre></div></div></div></div></div></div></div></div></div></div>"
            ]
          },
          "metadata": {},
          "execution_count": 106
        }
      ]
    },
    {
      "cell_type": "code",
      "source": [
        "y_pred = voting_clf.predict(X_test)\n",
        "\n",
        "matthews_corrcoef(y_test, y_pred)"
      ],
      "metadata": {
        "colab": {
          "base_uri": "https://localhost:8080/"
        },
        "id": "wmdSqNu34trw",
        "outputId": "c4a1f808-623a-45c5-b6b0-782c4482fe83"
      },
      "execution_count": 107,
      "outputs": [
        {
          "output_type": "execute_result",
          "data": {
            "text/plain": [
              "0.5382830095969036"
            ]
          },
          "metadata": {},
          "execution_count": 107
        }
      ]
    },
    {
      "cell_type": "markdown",
      "source": [
        "итак, в итоге валидационная метрика равна 0.538"
      ],
      "metadata": {
        "id": "cA0R7PRC5JOK"
      }
    },
    {
      "cell_type": "code",
      "source": [
        "from joblib import dump, load"
      ],
      "metadata": {
        "id": "tUgJLAoo1W_t"
      },
      "execution_count": 13,
      "outputs": []
    },
    {
      "cell_type": "code",
      "source": [
        "dump(voting_clf, '/content/drive/MyDrive/Colab_Notebooks/forest_fires_hack.voting_classifier_model.joblib')"
      ],
      "metadata": {
        "id": "kegTTE9A87XG"
      },
      "execution_count": null,
      "outputs": []
    },
    {
      "cell_type": "markdown",
      "source": [],
      "metadata": {
        "id": "1w0phJUp1L83"
      }
    },
    {
      "cell_type": "code",
      "source": [
        "voting_clf = load('/content/drive/MyDrive/Colab_Notebooks/forest_fires_hack.voting_classifier_model.joblib')"
      ],
      "metadata": {
        "id": "YHLkvD1M9YRS"
      },
      "execution_count": 15,
      "outputs": []
    },
    {
      "cell_type": "markdown",
      "source": [
        "# test"
      ],
      "metadata": {
        "id": "UkvAKVRX6X1H"
      }
    },
    {
      "cell_type": "markdown",
      "source": [
        "переопределим функцию сбора датасета, чтобы собрать тестоывй датасет"
      ],
      "metadata": {
        "id": "dj7QBUkm1ed-"
      }
    },
    {
      "cell_type": "code",
      "source": [
        "import math"
      ],
      "metadata": {
        "id": "2kKj6--P2-6F"
      },
      "execution_count": 18,
      "outputs": []
    },
    {
      "cell_type": "code",
      "source": [
        "TEST_DATA_DIR = '/content/drive/MyDrive/Colab_Notebooks/forest_fires_hack/test_dataset_minprirody_test_dataset'\n",
        "METERS_PER_DEGREE_LAT = 111320\n",
        "IMAGE_SCALE_M = 10 # one pixel corresponds to 10x10 meters squared\n",
        "\n",
        "def map_pixels_to_coordinates(train_data_dir):\n",
        "    mapping = dict()\n",
        "\n",
        "    for file_name in os.listdir(train_data_dir):\n",
        "      print(file_name)\n",
        "      if file_name.endswith('.tiff'):\n",
        "          full_path = os.path.join(train_data_dir, file_name)\n",
        "          with rasterio.open(full_path) as src:\n",
        "              band1 = src.read(1)\n",
        "              transform = src.transform\n",
        "\n",
        "              coordinates = [[[0, 0] for j in range(src.shape[1])] for i in range(src.shape[0])]\n",
        "              coordinates[0][0] = (src.bounds.left, src.bounds.top)\n",
        "\n",
        "              for i in range(band1.shape[0]):\n",
        "                  for j in range(band1.shape[1]):\n",
        "                      if j == 0:\n",
        "                          continue\n",
        "\n",
        "                      lat = coordinates[i][j - 1][1]\n",
        "                      lat_radians = math.radians(lat)\n",
        "                      meters_per_degree_lon = METERS_PER_DEGREE_LAT * math.cos(lat_radians)\n",
        "                      lon_offset = IMAGE_SCALE_M / meters_per_degree_lon\n",
        "\n",
        "                      coordinates[i][j] = [coordinates[i][j - 1][0] + lon_offset,\n",
        "                                            lat] # moving east\n",
        "\n",
        "                  if i + 1 < band1.shape[0]:\n",
        "                      lat_offset = IMAGE_SCALE_M / METERS_PER_DEGREE_LAT\n",
        "                      coordinates[i + 1][0] = [coordinates[i][0][0],\n",
        "                                                coordinates[i][0][1] - lat_offset] # moving south\n",
        "\n",
        "              mapping[os.path.join(file_name)] = coordinates\n",
        "\n",
        "    return mapping\n",
        "\n",
        "test_pixels = map_pixels_to_coordinates(TEST_DATA_DIR)"
      ],
      "metadata": {
        "colab": {
          "base_uri": "https://localhost:8080/"
        },
        "id": "-wpQ4cTj2y3H",
        "outputId": "41e1e808-a97d-4f5f-901b-f28d570d1e16"
      },
      "execution_count": 36,
      "outputs": [
        {
          "output_type": "stream",
          "name": "stdout",
          "text": [
            "sample.csv\n",
            "test.tiff\n",
            "test_weather.csv\n"
          ]
        }
      ]
    },
    {
      "cell_type": "code",
      "source": [
        "test_root_dir = '/content/drive/MyDrive/Colab_Notebooks/forest_fires_hack/test_dataset_minprirody_test_dataset'"
      ],
      "metadata": {
        "id": "st3B6U3z1ilw"
      },
      "execution_count": 17,
      "outputs": []
    },
    {
      "cell_type": "code",
      "source": [
        "for i, j in test_pixels.items():\n",
        "  print(i)"
      ],
      "metadata": {
        "colab": {
          "base_uri": "https://localhost:8080/"
        },
        "id": "wKIhl-Ye4Hu0",
        "outputId": "e1c2d22b-700a-46b0-b72c-12a8531ab03a"
      },
      "execution_count": 49,
      "outputs": [
        {
          "output_type": "stream",
          "name": "stdout",
          "text": [
            "test.tiff\n"
          ]
        }
      ]
    },
    {
      "cell_type": "code",
      "source": [
        "def set_dataset(path):\n",
        "  curr_file_pic = path + '/test.tiff'\n",
        "  curr_file_data = path + '/test_weather.csv'\n",
        "\n",
        "\n",
        "  rgb = get_mask(curr_file_pic, 1, 1, 1, 1, 1, task = 'img') # достаем значения каналов\n",
        "  mask = get_mask(curr_file_pic, 1, 1, 1, 1, 1, task = 'mask')\n",
        "  ir = get_mask(curr_file_pic, 1, 1, 1, 1, 1, task = 'ir')\n",
        "  curr_lat, curr_lon = np.array(test_pixels['test.tiff']).reshape(-1, 2).T # получаем координаты\n",
        "\n",
        "\n",
        "\n",
        "  data_dct = {'red': rgb[:, :, 0].flatten(), # добавляем значеня каналов и координаты в словарь\n",
        "                      'green': rgb[:, :, 1].flatten(),\n",
        "                      'blue': rgb[:, :, 2].flatten(),\n",
        "                      'info_red': ir.flatten(),\n",
        "                      'mask': mask.flatten(),\n",
        "                      'latitude': curr_lat,\n",
        "                      'longitude': curr_lon\n",
        "                      }\n",
        "\n",
        "  hist_data = pd.read_csv(curr_file_data, sep=';')\n",
        "\n",
        "\n",
        "  new_hist_cols = ['time', 't_avg', 't_min', 't_max', 'total_precipitation', 'wind_dir', 'wind_speed_hist', 'wind_gust', 'sea_level_pressure'] # заменяем старые названия колонок на новые\n",
        "  hist_data.rename(columns={old_col: new_col for old_col, new_col in zip(hist_data.columns, new_hist_cols)}, inplace=True)\n",
        "\n",
        "  date = 0\n",
        "  df = pd.DataFrame(data_dct)\n",
        "  df['date'] = 0 * len(df) # добавляем в новый датасет название папки в качестве элемента группировки\n",
        "\n",
        "  for col in new_hist_cols[1:]:\n",
        "    mi, ma, av = min_max_avg(hist_data[col]) # получаем минимальное, максимальное и средние значения каждого из исторических признаков и добавляем в новый датасет\n",
        "    df[f'{col}_min'] = [mi] * len(df)\n",
        "    df[f'{col}_max'] = [ma] * len(df)\n",
        "    df[f'{col}_avg'] = [av] * len(df)\n",
        "\n",
        "  hist_data['time'] = pd.to_datetime(hist_data['time'])\n",
        "  specific_date = pd.to_datetime(date)\n",
        "  end_date = specific_date\n",
        "  last_month = end_date - pd.DateOffset(months=1)\n",
        "  last_last_month = end_date - pd.DateOffset(months=2)\n",
        "\n",
        "  filtered_df = hist_data[(hist_data['time'] >= last_month) & (hist_data['time'] < end_date)] # отбираем признаки только за последний месяц до пожара и проводим ту же операцию\n",
        "  for col in new_hist_cols[1:]:\n",
        "    mi, ma, av = min_max_avg(filtered_df[col])\n",
        "    df[f'{col}_min_last_month'] = [mi] * len(df)\n",
        "    df[f'{col}_max_last_month'] = [ma] * len(df)\n",
        "    df[f'{col}_avg_last_month'] = [av] * len(df)\n",
        "\n",
        "\n",
        "  FEATURE_INGENEERING = True\n",
        "  # немного инженерии признаков\n",
        "  if FEATURE_INGENEERING:\n",
        "    # 1. Температурный градиент\n",
        "    df['t_gradient'] = np.mean(hist_data['t_max'] - hist_data['t_min']) * len(df)\n",
        "    # 2. Среднедневная температура\n",
        "    df['t_daily_avg'] = np.mean((hist_data['t_min'] + hist_data['t_max']) / 2) * len(df)\n",
        "    # 3. Усредненные параметры ветра\n",
        "    df['v_avg'] = np.mean((hist_data['wind_speed_hist'] + hist_data['wind_gust']) / 2) * len(df)\n",
        "    # 4. Эффективная скорость ветра\n",
        "    df['v_eff'] = np.mean(np.sqrt(hist_data['wind_speed_hist']**2 + hist_data['wind_gust']**2)) * len(df)\n",
        "    # 6. Вертикальный градиент давления (разница между текущим и предыдущим значением)\n",
        "    df['p_gradient'] = np.mean(hist_data['sea_level_pressure'].diff() * len(df))\n",
        "    # 7. Интенсивность осадков\n",
        "    df['rain_intensity'] = np.mean(hist_data['total_precipitation'] / (len(hist_data) * 24)) * len(df) #\n",
        "    # 8. Вектор ветра\n",
        "    df['u'] = np.mean(hist_data['wind_speed_hist'] * np.cos(np.radians(hist_data['wind_dir']))) * len(df)\n",
        "    df['v'] = np.mean(hist_data['wind_speed_hist'] * np.sin(np.radians(hist_data['wind_dir']))) * len(df)\n",
        "\n",
        "\n",
        "  # filtered_df_2 = hist_data[(hist_data['time'] >= last_last_month) & (hist_data['time'] < last_month)]\n",
        "  # for col in new_hist_cols[1:]:\n",
        "  #   mi, ma, av = min_max_avg(filtered_df_2[col])\n",
        "  #   df[f'{col}_min_last_last_month'] = [mi] * len(df)\n",
        "  #   df[f'{col}_max_last_last_month'] = [ma] * len(df)\n",
        "  #   df[f'{col}_avg_last_last_month'] = [av] * len(df)\n",
        "\n",
        "  cols = list(set(df.columns) - set(['date']))\n",
        "  df[cols] = df[cols].astype('float16')\n",
        "  return df\n",
        "\n",
        "test_dataset = set_dataset(test_root_dir)\n",
        "\n",
        "test_dataset.replace([np.inf, -np.inf], -66666, inplace=True)\n",
        "test_dataset.fillna(-666, inplace = True);\n",
        "\n",
        "test_dataset.head()"
      ],
      "metadata": {
        "colab": {
          "base_uri": "https://localhost:8080/",
          "height": 255
        },
        "id": "-gIP3Xvb1uR4",
        "outputId": "ead71dc3-70f2-40d0-d632-36208c671ff1"
      },
      "execution_count": 66,
      "outputs": [
        {
          "output_type": "execute_result",
          "data": {
            "text/plain": [
              "   red  green  blue  info_red  mask  latitude  longitude  date  t_avg_min  \\\n",
              "0  9.0    9.0   9.0       9.0   9.0  0.000000        0.0     0   7.300781   \n",
              "1  8.0    8.0   8.0       8.0   8.0  0.000090        0.0     0   7.300781   \n",
              "2  9.0    9.0   9.0       9.0   9.0  0.000180        0.0     0   7.300781   \n",
              "3  9.0    9.0   9.0       9.0   9.0  0.000269        0.0     0   7.300781   \n",
              "4  9.0    9.0   9.0       9.0   9.0  0.000359        0.0     0   7.300781   \n",
              "\n",
              "   t_avg_max  ...  sea_level_pressure_max_last_month  \\\n",
              "0   22.90625  ...                             -666.0   \n",
              "1   22.90625  ...                             -666.0   \n",
              "2   22.90625  ...                             -666.0   \n",
              "3   22.90625  ...                             -666.0   \n",
              "4   22.90625  ...                             -666.0   \n",
              "\n",
              "   sea_level_pressure_avg_last_month  t_gradient  t_daily_avg  v_avg  v_eff  \\\n",
              "0                             -666.0    -66666.0     -66666.0 -666.0 -666.0   \n",
              "1                             -666.0    -66666.0     -66666.0 -666.0 -666.0   \n",
              "2                             -666.0    -66666.0     -66666.0 -666.0 -666.0   \n",
              "3                             -666.0    -66666.0     -66666.0 -666.0 -666.0   \n",
              "4                             -666.0    -66666.0     -66666.0 -666.0 -666.0   \n",
              "\n",
              "   p_gradient  rain_intensity        u        v  \n",
              "0     43040.0        107.4375 -66666.0 -66666.0  \n",
              "1     43040.0        107.4375 -66666.0 -66666.0  \n",
              "2     43040.0        107.4375 -66666.0 -66666.0  \n",
              "3     43040.0        107.4375 -66666.0 -66666.0  \n",
              "4     43040.0        107.4375 -66666.0 -66666.0  \n",
              "\n",
              "[5 rows x 64 columns]"
            ],
            "text/html": [
              "\n",
              "  <div id=\"df-338b4b50-d410-42f8-9621-0e90e585d44c\" class=\"colab-df-container\">\n",
              "    <div>\n",
              "<style scoped>\n",
              "    .dataframe tbody tr th:only-of-type {\n",
              "        vertical-align: middle;\n",
              "    }\n",
              "\n",
              "    .dataframe tbody tr th {\n",
              "        vertical-align: top;\n",
              "    }\n",
              "\n",
              "    .dataframe thead th {\n",
              "        text-align: right;\n",
              "    }\n",
              "</style>\n",
              "<table border=\"1\" class=\"dataframe\">\n",
              "  <thead>\n",
              "    <tr style=\"text-align: right;\">\n",
              "      <th></th>\n",
              "      <th>red</th>\n",
              "      <th>green</th>\n",
              "      <th>blue</th>\n",
              "      <th>info_red</th>\n",
              "      <th>mask</th>\n",
              "      <th>latitude</th>\n",
              "      <th>longitude</th>\n",
              "      <th>date</th>\n",
              "      <th>t_avg_min</th>\n",
              "      <th>t_avg_max</th>\n",
              "      <th>...</th>\n",
              "      <th>sea_level_pressure_max_last_month</th>\n",
              "      <th>sea_level_pressure_avg_last_month</th>\n",
              "      <th>t_gradient</th>\n",
              "      <th>t_daily_avg</th>\n",
              "      <th>v_avg</th>\n",
              "      <th>v_eff</th>\n",
              "      <th>p_gradient</th>\n",
              "      <th>rain_intensity</th>\n",
              "      <th>u</th>\n",
              "      <th>v</th>\n",
              "    </tr>\n",
              "  </thead>\n",
              "  <tbody>\n",
              "    <tr>\n",
              "      <th>0</th>\n",
              "      <td>9.0</td>\n",
              "      <td>9.0</td>\n",
              "      <td>9.0</td>\n",
              "      <td>9.0</td>\n",
              "      <td>9.0</td>\n",
              "      <td>0.000000</td>\n",
              "      <td>0.0</td>\n",
              "      <td>0</td>\n",
              "      <td>7.300781</td>\n",
              "      <td>22.90625</td>\n",
              "      <td>...</td>\n",
              "      <td>-666.0</td>\n",
              "      <td>-666.0</td>\n",
              "      <td>-66666.0</td>\n",
              "      <td>-66666.0</td>\n",
              "      <td>-666.0</td>\n",
              "      <td>-666.0</td>\n",
              "      <td>43040.0</td>\n",
              "      <td>107.4375</td>\n",
              "      <td>-66666.0</td>\n",
              "      <td>-66666.0</td>\n",
              "    </tr>\n",
              "    <tr>\n",
              "      <th>1</th>\n",
              "      <td>8.0</td>\n",
              "      <td>8.0</td>\n",
              "      <td>8.0</td>\n",
              "      <td>8.0</td>\n",
              "      <td>8.0</td>\n",
              "      <td>0.000090</td>\n",
              "      <td>0.0</td>\n",
              "      <td>0</td>\n",
              "      <td>7.300781</td>\n",
              "      <td>22.90625</td>\n",
              "      <td>...</td>\n",
              "      <td>-666.0</td>\n",
              "      <td>-666.0</td>\n",
              "      <td>-66666.0</td>\n",
              "      <td>-66666.0</td>\n",
              "      <td>-666.0</td>\n",
              "      <td>-666.0</td>\n",
              "      <td>43040.0</td>\n",
              "      <td>107.4375</td>\n",
              "      <td>-66666.0</td>\n",
              "      <td>-66666.0</td>\n",
              "    </tr>\n",
              "    <tr>\n",
              "      <th>2</th>\n",
              "      <td>9.0</td>\n",
              "      <td>9.0</td>\n",
              "      <td>9.0</td>\n",
              "      <td>9.0</td>\n",
              "      <td>9.0</td>\n",
              "      <td>0.000180</td>\n",
              "      <td>0.0</td>\n",
              "      <td>0</td>\n",
              "      <td>7.300781</td>\n",
              "      <td>22.90625</td>\n",
              "      <td>...</td>\n",
              "      <td>-666.0</td>\n",
              "      <td>-666.0</td>\n",
              "      <td>-66666.0</td>\n",
              "      <td>-66666.0</td>\n",
              "      <td>-666.0</td>\n",
              "      <td>-666.0</td>\n",
              "      <td>43040.0</td>\n",
              "      <td>107.4375</td>\n",
              "      <td>-66666.0</td>\n",
              "      <td>-66666.0</td>\n",
              "    </tr>\n",
              "    <tr>\n",
              "      <th>3</th>\n",
              "      <td>9.0</td>\n",
              "      <td>9.0</td>\n",
              "      <td>9.0</td>\n",
              "      <td>9.0</td>\n",
              "      <td>9.0</td>\n",
              "      <td>0.000269</td>\n",
              "      <td>0.0</td>\n",
              "      <td>0</td>\n",
              "      <td>7.300781</td>\n",
              "      <td>22.90625</td>\n",
              "      <td>...</td>\n",
              "      <td>-666.0</td>\n",
              "      <td>-666.0</td>\n",
              "      <td>-66666.0</td>\n",
              "      <td>-66666.0</td>\n",
              "      <td>-666.0</td>\n",
              "      <td>-666.0</td>\n",
              "      <td>43040.0</td>\n",
              "      <td>107.4375</td>\n",
              "      <td>-66666.0</td>\n",
              "      <td>-66666.0</td>\n",
              "    </tr>\n",
              "    <tr>\n",
              "      <th>4</th>\n",
              "      <td>9.0</td>\n",
              "      <td>9.0</td>\n",
              "      <td>9.0</td>\n",
              "      <td>9.0</td>\n",
              "      <td>9.0</td>\n",
              "      <td>0.000359</td>\n",
              "      <td>0.0</td>\n",
              "      <td>0</td>\n",
              "      <td>7.300781</td>\n",
              "      <td>22.90625</td>\n",
              "      <td>...</td>\n",
              "      <td>-666.0</td>\n",
              "      <td>-666.0</td>\n",
              "      <td>-66666.0</td>\n",
              "      <td>-66666.0</td>\n",
              "      <td>-666.0</td>\n",
              "      <td>-666.0</td>\n",
              "      <td>43040.0</td>\n",
              "      <td>107.4375</td>\n",
              "      <td>-66666.0</td>\n",
              "      <td>-66666.0</td>\n",
              "    </tr>\n",
              "  </tbody>\n",
              "</table>\n",
              "<p>5 rows × 64 columns</p>\n",
              "</div>\n",
              "    <div class=\"colab-df-buttons\">\n",
              "\n",
              "  <div class=\"colab-df-container\">\n",
              "    <button class=\"colab-df-convert\" onclick=\"convertToInteractive('df-338b4b50-d410-42f8-9621-0e90e585d44c')\"\n",
              "            title=\"Convert this dataframe to an interactive table.\"\n",
              "            style=\"display:none;\">\n",
              "\n",
              "  <svg xmlns=\"http://www.w3.org/2000/svg\" height=\"24px\" viewBox=\"0 -960 960 960\">\n",
              "    <path d=\"M120-120v-720h720v720H120Zm60-500h600v-160H180v160Zm220 220h160v-160H400v160Zm0 220h160v-160H400v160ZM180-400h160v-160H180v160Zm440 0h160v-160H620v160ZM180-180h160v-160H180v160Zm440 0h160v-160H620v160Z\"/>\n",
              "  </svg>\n",
              "    </button>\n",
              "\n",
              "  <style>\n",
              "    .colab-df-container {\n",
              "      display:flex;\n",
              "      gap: 12px;\n",
              "    }\n",
              "\n",
              "    .colab-df-convert {\n",
              "      background-color: #E8F0FE;\n",
              "      border: none;\n",
              "      border-radius: 50%;\n",
              "      cursor: pointer;\n",
              "      display: none;\n",
              "      fill: #1967D2;\n",
              "      height: 32px;\n",
              "      padding: 0 0 0 0;\n",
              "      width: 32px;\n",
              "    }\n",
              "\n",
              "    .colab-df-convert:hover {\n",
              "      background-color: #E2EBFA;\n",
              "      box-shadow: 0px 1px 2px rgba(60, 64, 67, 0.3), 0px 1px 3px 1px rgba(60, 64, 67, 0.15);\n",
              "      fill: #174EA6;\n",
              "    }\n",
              "\n",
              "    .colab-df-buttons div {\n",
              "      margin-bottom: 4px;\n",
              "    }\n",
              "\n",
              "    [theme=dark] .colab-df-convert {\n",
              "      background-color: #3B4455;\n",
              "      fill: #D2E3FC;\n",
              "    }\n",
              "\n",
              "    [theme=dark] .colab-df-convert:hover {\n",
              "      background-color: #434B5C;\n",
              "      box-shadow: 0px 1px 3px 1px rgba(0, 0, 0, 0.15);\n",
              "      filter: drop-shadow(0px 1px 2px rgba(0, 0, 0, 0.3));\n",
              "      fill: #FFFFFF;\n",
              "    }\n",
              "  </style>\n",
              "\n",
              "    <script>\n",
              "      const buttonEl =\n",
              "        document.querySelector('#df-338b4b50-d410-42f8-9621-0e90e585d44c button.colab-df-convert');\n",
              "      buttonEl.style.display =\n",
              "        google.colab.kernel.accessAllowed ? 'block' : 'none';\n",
              "\n",
              "      async function convertToInteractive(key) {\n",
              "        const element = document.querySelector('#df-338b4b50-d410-42f8-9621-0e90e585d44c');\n",
              "        const dataTable =\n",
              "          await google.colab.kernel.invokeFunction('convertToInteractive',\n",
              "                                                    [key], {});\n",
              "        if (!dataTable) return;\n",
              "\n",
              "        const docLinkHtml = 'Like what you see? Visit the ' +\n",
              "          '<a target=\"_blank\" href=https://colab.research.google.com/notebooks/data_table.ipynb>data table notebook</a>'\n",
              "          + ' to learn more about interactive tables.';\n",
              "        element.innerHTML = '';\n",
              "        dataTable['output_type'] = 'display_data';\n",
              "        await google.colab.output.renderOutput(dataTable, element);\n",
              "        const docLink = document.createElement('div');\n",
              "        docLink.innerHTML = docLinkHtml;\n",
              "        element.appendChild(docLink);\n",
              "      }\n",
              "    </script>\n",
              "  </div>\n",
              "\n",
              "\n",
              "<div id=\"df-002062ab-3c88-4f9c-b1f2-c20643de1bf5\">\n",
              "  <button class=\"colab-df-quickchart\" onclick=\"quickchart('df-002062ab-3c88-4f9c-b1f2-c20643de1bf5')\"\n",
              "            title=\"Suggest charts\"\n",
              "            style=\"display:none;\">\n",
              "\n",
              "<svg xmlns=\"http://www.w3.org/2000/svg\" height=\"24px\"viewBox=\"0 0 24 24\"\n",
              "     width=\"24px\">\n",
              "    <g>\n",
              "        <path d=\"M19 3H5c-1.1 0-2 .9-2 2v14c0 1.1.9 2 2 2h14c1.1 0 2-.9 2-2V5c0-1.1-.9-2-2-2zM9 17H7v-7h2v7zm4 0h-2V7h2v10zm4 0h-2v-4h2v4z\"/>\n",
              "    </g>\n",
              "</svg>\n",
              "  </button>\n",
              "\n",
              "<style>\n",
              "  .colab-df-quickchart {\n",
              "      --bg-color: #E8F0FE;\n",
              "      --fill-color: #1967D2;\n",
              "      --hover-bg-color: #E2EBFA;\n",
              "      --hover-fill-color: #174EA6;\n",
              "      --disabled-fill-color: #AAA;\n",
              "      --disabled-bg-color: #DDD;\n",
              "  }\n",
              "\n",
              "  [theme=dark] .colab-df-quickchart {\n",
              "      --bg-color: #3B4455;\n",
              "      --fill-color: #D2E3FC;\n",
              "      --hover-bg-color: #434B5C;\n",
              "      --hover-fill-color: #FFFFFF;\n",
              "      --disabled-bg-color: #3B4455;\n",
              "      --disabled-fill-color: #666;\n",
              "  }\n",
              "\n",
              "  .colab-df-quickchart {\n",
              "    background-color: var(--bg-color);\n",
              "    border: none;\n",
              "    border-radius: 50%;\n",
              "    cursor: pointer;\n",
              "    display: none;\n",
              "    fill: var(--fill-color);\n",
              "    height: 32px;\n",
              "    padding: 0;\n",
              "    width: 32px;\n",
              "  }\n",
              "\n",
              "  .colab-df-quickchart:hover {\n",
              "    background-color: var(--hover-bg-color);\n",
              "    box-shadow: 0 1px 2px rgba(60, 64, 67, 0.3), 0 1px 3px 1px rgba(60, 64, 67, 0.15);\n",
              "    fill: var(--button-hover-fill-color);\n",
              "  }\n",
              "\n",
              "  .colab-df-quickchart-complete:disabled,\n",
              "  .colab-df-quickchart-complete:disabled:hover {\n",
              "    background-color: var(--disabled-bg-color);\n",
              "    fill: var(--disabled-fill-color);\n",
              "    box-shadow: none;\n",
              "  }\n",
              "\n",
              "  .colab-df-spinner {\n",
              "    border: 2px solid var(--fill-color);\n",
              "    border-color: transparent;\n",
              "    border-bottom-color: var(--fill-color);\n",
              "    animation:\n",
              "      spin 1s steps(1) infinite;\n",
              "  }\n",
              "\n",
              "  @keyframes spin {\n",
              "    0% {\n",
              "      border-color: transparent;\n",
              "      border-bottom-color: var(--fill-color);\n",
              "      border-left-color: var(--fill-color);\n",
              "    }\n",
              "    20% {\n",
              "      border-color: transparent;\n",
              "      border-left-color: var(--fill-color);\n",
              "      border-top-color: var(--fill-color);\n",
              "    }\n",
              "    30% {\n",
              "      border-color: transparent;\n",
              "      border-left-color: var(--fill-color);\n",
              "      border-top-color: var(--fill-color);\n",
              "      border-right-color: var(--fill-color);\n",
              "    }\n",
              "    40% {\n",
              "      border-color: transparent;\n",
              "      border-right-color: var(--fill-color);\n",
              "      border-top-color: var(--fill-color);\n",
              "    }\n",
              "    60% {\n",
              "      border-color: transparent;\n",
              "      border-right-color: var(--fill-color);\n",
              "    }\n",
              "    80% {\n",
              "      border-color: transparent;\n",
              "      border-right-color: var(--fill-color);\n",
              "      border-bottom-color: var(--fill-color);\n",
              "    }\n",
              "    90% {\n",
              "      border-color: transparent;\n",
              "      border-bottom-color: var(--fill-color);\n",
              "    }\n",
              "  }\n",
              "</style>\n",
              "\n",
              "  <script>\n",
              "    async function quickchart(key) {\n",
              "      const quickchartButtonEl =\n",
              "        document.querySelector('#' + key + ' button');\n",
              "      quickchartButtonEl.disabled = true;  // To prevent multiple clicks.\n",
              "      quickchartButtonEl.classList.add('colab-df-spinner');\n",
              "      try {\n",
              "        const charts = await google.colab.kernel.invokeFunction(\n",
              "            'suggestCharts', [key], {});\n",
              "      } catch (error) {\n",
              "        console.error('Error during call to suggestCharts:', error);\n",
              "      }\n",
              "      quickchartButtonEl.classList.remove('colab-df-spinner');\n",
              "      quickchartButtonEl.classList.add('colab-df-quickchart-complete');\n",
              "    }\n",
              "    (() => {\n",
              "      let quickchartButtonEl =\n",
              "        document.querySelector('#df-002062ab-3c88-4f9c-b1f2-c20643de1bf5 button');\n",
              "      quickchartButtonEl.style.display =\n",
              "        google.colab.kernel.accessAllowed ? 'block' : 'none';\n",
              "    })();\n",
              "  </script>\n",
              "</div>\n",
              "    </div>\n",
              "  </div>\n"
            ],
            "application/vnd.google.colaboratory.intrinsic+json": {
              "type": "dataframe",
              "variable_name": "test_dataset"
            }
          },
          "metadata": {},
          "execution_count": 66
        }
      ]
    },
    {
      "cell_type": "code",
      "source": [
        "num_cols = list(filter(lambda x: False if x == 'date' or x == 'mask' else True, test_dataset.columns))"
      ],
      "metadata": {
        "id": "0JkKoe196255"
      },
      "execution_count": 68,
      "outputs": []
    },
    {
      "cell_type": "code",
      "source": [
        "y_pred = voting_clf.predict(test_dataset[num_cols])"
      ],
      "metadata": {
        "id": "OKYaVj1v5OEH"
      },
      "execution_count": 71,
      "outputs": []
    },
    {
      "cell_type": "code",
      "source": [
        "print_geotiff_info(test_root_dir + '/test.tiff')"
      ],
      "metadata": {
        "colab": {
          "base_uri": "https://localhost:8080/"
        },
        "id": "qNvVuJdc5WZG",
        "outputId": "70b3f89d-d036-4c65-9e6f-6fdc30465655"
      },
      "execution_count": 72,
      "outputs": [
        {
          "output_type": "stream",
          "name": "stdout",
          "text": [
            "File Path: /content/drive/MyDrive/Colab_Notebooks/forest_fires_hack/test_dataset_minprirody_test_dataset/test.tiff\n",
            "Driver: GTiff\n",
            "Width: 516\n",
            "Height: 316\n",
            "Count (Bands): 4\n",
            "CRS: None\n",
            "Transform: | 10.00, 0.00, 0.00|\n",
            "| 0.00,-10.00, 0.00|\n",
            "| 0.00, 0.00, 1.00|\n",
            "Bounding Box: BoundingBox(left=0.0, bottom=-3160.0, right=5160.0, top=0.0)\n",
            "Datum: ('float32', 'float32', 'float32', 'float32')\n",
            "\n",
            "Band 1:\n",
            "  Data Type: float32\n",
            "  Min Value: 0.0\n",
            "  Max Value: 44.0\n",
            "  Mean Value: 8.811193466186523\n",
            "  Standard Deviation: 2.267102003097534\n",
            "\n",
            "Band 2:\n",
            "  Data Type: float32\n",
            "  Min Value: 0.0\n",
            "  Max Value: 40.0\n",
            "  Mean Value: 15.68852424621582\n",
            "  Standard Deviation: 3.6198506355285645\n",
            "\n",
            "Band 3:\n",
            "  Data Type: float32\n",
            "  Min Value: 0.0\n",
            "  Max Value: 57.0\n",
            "  Mean Value: 18.702402114868164\n",
            "  Standard Deviation: 4.5382561683654785\n",
            "\n",
            "Band 4:\n",
            "  Data Type: float32\n",
            "  Min Value: 0.0\n",
            "  Max Value: 126.0\n",
            "  Mean Value: 58.862972259521484\n",
            "  Standard Deviation: 14.22008991241455\n"
          ]
        }
      ]
    },
    {
      "cell_type": "code",
      "source": [
        "y_pred = y_pred.reshape(316, -1)"
      ],
      "metadata": {
        "id": "V8BzoJ_G7SSu"
      },
      "execution_count": 86,
      "outputs": []
    },
    {
      "cell_type": "code",
      "source": [
        "sample = pd.read_csv(test_root_dir + '/sample.csv')"
      ],
      "metadata": {
        "id": "JFlNA5tO7XY6"
      },
      "execution_count": 81,
      "outputs": []
    },
    {
      "cell_type": "code",
      "source": [
        "y_pred.shape"
      ],
      "metadata": {
        "colab": {
          "base_uri": "https://localhost:8080/"
        },
        "id": "llScgI2N8Nls",
        "outputId": "f743e409-d19e-4e52-e5ec-834431e6c21b"
      },
      "execution_count": 87,
      "outputs": [
        {
          "output_type": "execute_result",
          "data": {
            "text/plain": [
              "(316, 516)"
            ]
          },
          "metadata": {},
          "execution_count": 87
        }
      ]
    },
    {
      "cell_type": "code",
      "source": [
        "df_pred = pd.DataFrame(y_pred)\n",
        "df_pred"
      ],
      "metadata": {
        "colab": {
          "base_uri": "https://localhost:8080/",
          "height": 423
        },
        "id": "T6ET4lHL8GW_",
        "outputId": "4b5f829d-41fe-47c3-d38a-02a4b800ac39"
      },
      "execution_count": 88,
      "outputs": [
        {
          "output_type": "execute_result",
          "data": {
            "text/plain": [
              "     0    1    2    3    4    5    6    7    8    9    ...  506  507  508  \\\n",
              "0    0.0  0.0  0.0  0.0  0.0  0.0  0.0  0.0  0.0  0.0  ...  0.0  0.0  0.0   \n",
              "1    0.0  0.0  0.0  0.0  0.0  0.0  0.0  0.0  0.0  0.0  ...  0.0  0.0  0.0   \n",
              "2    0.0  0.0  0.0  0.0  0.0  0.0  0.0  0.0  0.0  0.0  ...  0.0  0.0  0.0   \n",
              "3    0.0  0.0  0.0  0.0  0.0  0.0  0.0  0.0  0.0  0.0  ...  0.0  0.0  0.0   \n",
              "4    0.0  0.0  0.0  0.0  0.0  0.0  0.0  0.0  0.0  0.0  ...  0.0  0.0  0.0   \n",
              "..   ...  ...  ...  ...  ...  ...  ...  ...  ...  ...  ...  ...  ...  ...   \n",
              "311  0.0  0.0  0.0  0.0  0.0  0.0  0.0  0.0  0.0  0.0  ...  0.0  0.0  0.0   \n",
              "312  0.0  0.0  0.0  0.0  0.0  0.0  0.0  0.0  0.0  0.0  ...  0.0  0.0  0.0   \n",
              "313  0.0  0.0  0.0  0.0  0.0  0.0  0.0  0.0  0.0  0.0  ...  0.0  0.0  0.0   \n",
              "314  0.0  0.0  0.0  0.0  0.0  0.0  0.0  0.0  0.0  0.0  ...  0.0  0.0  0.0   \n",
              "315  0.0  0.0  0.0  0.0  0.0  0.0  0.0  0.0  0.0  0.0  ...  0.0  0.0  0.0   \n",
              "\n",
              "     509  510  511  512  513  514  515  \n",
              "0    0.0  0.0  0.0  0.0  0.0  0.0  0.0  \n",
              "1    0.0  0.0  0.0  0.0  0.0  0.0  0.0  \n",
              "2    0.0  0.0  0.0  0.0  0.0  0.0  0.0  \n",
              "3    0.0  0.0  0.0  0.0  0.0  0.0  0.0  \n",
              "4    0.0  0.0  0.0  0.0  0.0  0.0  0.0  \n",
              "..   ...  ...  ...  ...  ...  ...  ...  \n",
              "311  0.0  0.0  0.0  0.0  0.0  0.0  0.0  \n",
              "312  0.0  0.0  0.0  0.0  0.0  0.0  0.0  \n",
              "313  0.0  0.0  0.0  0.0  0.0  0.0  0.0  \n",
              "314  0.0  0.0  0.0  0.0  0.0  0.0  0.0  \n",
              "315  0.0  0.0  0.0  0.0  0.0  0.0  0.0  \n",
              "\n",
              "[316 rows x 516 columns]"
            ],
            "text/html": [
              "\n",
              "  <div id=\"df-19116783-7610-4397-929c-63ba8bfdc876\" class=\"colab-df-container\">\n",
              "    <div>\n",
              "<style scoped>\n",
              "    .dataframe tbody tr th:only-of-type {\n",
              "        vertical-align: middle;\n",
              "    }\n",
              "\n",
              "    .dataframe tbody tr th {\n",
              "        vertical-align: top;\n",
              "    }\n",
              "\n",
              "    .dataframe thead th {\n",
              "        text-align: right;\n",
              "    }\n",
              "</style>\n",
              "<table border=\"1\" class=\"dataframe\">\n",
              "  <thead>\n",
              "    <tr style=\"text-align: right;\">\n",
              "      <th></th>\n",
              "      <th>0</th>\n",
              "      <th>1</th>\n",
              "      <th>2</th>\n",
              "      <th>3</th>\n",
              "      <th>4</th>\n",
              "      <th>5</th>\n",
              "      <th>6</th>\n",
              "      <th>7</th>\n",
              "      <th>8</th>\n",
              "      <th>9</th>\n",
              "      <th>...</th>\n",
              "      <th>506</th>\n",
              "      <th>507</th>\n",
              "      <th>508</th>\n",
              "      <th>509</th>\n",
              "      <th>510</th>\n",
              "      <th>511</th>\n",
              "      <th>512</th>\n",
              "      <th>513</th>\n",
              "      <th>514</th>\n",
              "      <th>515</th>\n",
              "    </tr>\n",
              "  </thead>\n",
              "  <tbody>\n",
              "    <tr>\n",
              "      <th>0</th>\n",
              "      <td>0.0</td>\n",
              "      <td>0.0</td>\n",
              "      <td>0.0</td>\n",
              "      <td>0.0</td>\n",
              "      <td>0.0</td>\n",
              "      <td>0.0</td>\n",
              "      <td>0.0</td>\n",
              "      <td>0.0</td>\n",
              "      <td>0.0</td>\n",
              "      <td>0.0</td>\n",
              "      <td>...</td>\n",
              "      <td>0.0</td>\n",
              "      <td>0.0</td>\n",
              "      <td>0.0</td>\n",
              "      <td>0.0</td>\n",
              "      <td>0.0</td>\n",
              "      <td>0.0</td>\n",
              "      <td>0.0</td>\n",
              "      <td>0.0</td>\n",
              "      <td>0.0</td>\n",
              "      <td>0.0</td>\n",
              "    </tr>\n",
              "    <tr>\n",
              "      <th>1</th>\n",
              "      <td>0.0</td>\n",
              "      <td>0.0</td>\n",
              "      <td>0.0</td>\n",
              "      <td>0.0</td>\n",
              "      <td>0.0</td>\n",
              "      <td>0.0</td>\n",
              "      <td>0.0</td>\n",
              "      <td>0.0</td>\n",
              "      <td>0.0</td>\n",
              "      <td>0.0</td>\n",
              "      <td>...</td>\n",
              "      <td>0.0</td>\n",
              "      <td>0.0</td>\n",
              "      <td>0.0</td>\n",
              "      <td>0.0</td>\n",
              "      <td>0.0</td>\n",
              "      <td>0.0</td>\n",
              "      <td>0.0</td>\n",
              "      <td>0.0</td>\n",
              "      <td>0.0</td>\n",
              "      <td>0.0</td>\n",
              "    </tr>\n",
              "    <tr>\n",
              "      <th>2</th>\n",
              "      <td>0.0</td>\n",
              "      <td>0.0</td>\n",
              "      <td>0.0</td>\n",
              "      <td>0.0</td>\n",
              "      <td>0.0</td>\n",
              "      <td>0.0</td>\n",
              "      <td>0.0</td>\n",
              "      <td>0.0</td>\n",
              "      <td>0.0</td>\n",
              "      <td>0.0</td>\n",
              "      <td>...</td>\n",
              "      <td>0.0</td>\n",
              "      <td>0.0</td>\n",
              "      <td>0.0</td>\n",
              "      <td>0.0</td>\n",
              "      <td>0.0</td>\n",
              "      <td>0.0</td>\n",
              "      <td>0.0</td>\n",
              "      <td>0.0</td>\n",
              "      <td>0.0</td>\n",
              "      <td>0.0</td>\n",
              "    </tr>\n",
              "    <tr>\n",
              "      <th>3</th>\n",
              "      <td>0.0</td>\n",
              "      <td>0.0</td>\n",
              "      <td>0.0</td>\n",
              "      <td>0.0</td>\n",
              "      <td>0.0</td>\n",
              "      <td>0.0</td>\n",
              "      <td>0.0</td>\n",
              "      <td>0.0</td>\n",
              "      <td>0.0</td>\n",
              "      <td>0.0</td>\n",
              "      <td>...</td>\n",
              "      <td>0.0</td>\n",
              "      <td>0.0</td>\n",
              "      <td>0.0</td>\n",
              "      <td>0.0</td>\n",
              "      <td>0.0</td>\n",
              "      <td>0.0</td>\n",
              "      <td>0.0</td>\n",
              "      <td>0.0</td>\n",
              "      <td>0.0</td>\n",
              "      <td>0.0</td>\n",
              "    </tr>\n",
              "    <tr>\n",
              "      <th>4</th>\n",
              "      <td>0.0</td>\n",
              "      <td>0.0</td>\n",
              "      <td>0.0</td>\n",
              "      <td>0.0</td>\n",
              "      <td>0.0</td>\n",
              "      <td>0.0</td>\n",
              "      <td>0.0</td>\n",
              "      <td>0.0</td>\n",
              "      <td>0.0</td>\n",
              "      <td>0.0</td>\n",
              "      <td>...</td>\n",
              "      <td>0.0</td>\n",
              "      <td>0.0</td>\n",
              "      <td>0.0</td>\n",
              "      <td>0.0</td>\n",
              "      <td>0.0</td>\n",
              "      <td>0.0</td>\n",
              "      <td>0.0</td>\n",
              "      <td>0.0</td>\n",
              "      <td>0.0</td>\n",
              "      <td>0.0</td>\n",
              "    </tr>\n",
              "    <tr>\n",
              "      <th>...</th>\n",
              "      <td>...</td>\n",
              "      <td>...</td>\n",
              "      <td>...</td>\n",
              "      <td>...</td>\n",
              "      <td>...</td>\n",
              "      <td>...</td>\n",
              "      <td>...</td>\n",
              "      <td>...</td>\n",
              "      <td>...</td>\n",
              "      <td>...</td>\n",
              "      <td>...</td>\n",
              "      <td>...</td>\n",
              "      <td>...</td>\n",
              "      <td>...</td>\n",
              "      <td>...</td>\n",
              "      <td>...</td>\n",
              "      <td>...</td>\n",
              "      <td>...</td>\n",
              "      <td>...</td>\n",
              "      <td>...</td>\n",
              "      <td>...</td>\n",
              "    </tr>\n",
              "    <tr>\n",
              "      <th>311</th>\n",
              "      <td>0.0</td>\n",
              "      <td>0.0</td>\n",
              "      <td>0.0</td>\n",
              "      <td>0.0</td>\n",
              "      <td>0.0</td>\n",
              "      <td>0.0</td>\n",
              "      <td>0.0</td>\n",
              "      <td>0.0</td>\n",
              "      <td>0.0</td>\n",
              "      <td>0.0</td>\n",
              "      <td>...</td>\n",
              "      <td>0.0</td>\n",
              "      <td>0.0</td>\n",
              "      <td>0.0</td>\n",
              "      <td>0.0</td>\n",
              "      <td>0.0</td>\n",
              "      <td>0.0</td>\n",
              "      <td>0.0</td>\n",
              "      <td>0.0</td>\n",
              "      <td>0.0</td>\n",
              "      <td>0.0</td>\n",
              "    </tr>\n",
              "    <tr>\n",
              "      <th>312</th>\n",
              "      <td>0.0</td>\n",
              "      <td>0.0</td>\n",
              "      <td>0.0</td>\n",
              "      <td>0.0</td>\n",
              "      <td>0.0</td>\n",
              "      <td>0.0</td>\n",
              "      <td>0.0</td>\n",
              "      <td>0.0</td>\n",
              "      <td>0.0</td>\n",
              "      <td>0.0</td>\n",
              "      <td>...</td>\n",
              "      <td>0.0</td>\n",
              "      <td>0.0</td>\n",
              "      <td>0.0</td>\n",
              "      <td>0.0</td>\n",
              "      <td>0.0</td>\n",
              "      <td>0.0</td>\n",
              "      <td>0.0</td>\n",
              "      <td>0.0</td>\n",
              "      <td>0.0</td>\n",
              "      <td>0.0</td>\n",
              "    </tr>\n",
              "    <tr>\n",
              "      <th>313</th>\n",
              "      <td>0.0</td>\n",
              "      <td>0.0</td>\n",
              "      <td>0.0</td>\n",
              "      <td>0.0</td>\n",
              "      <td>0.0</td>\n",
              "      <td>0.0</td>\n",
              "      <td>0.0</td>\n",
              "      <td>0.0</td>\n",
              "      <td>0.0</td>\n",
              "      <td>0.0</td>\n",
              "      <td>...</td>\n",
              "      <td>0.0</td>\n",
              "      <td>0.0</td>\n",
              "      <td>0.0</td>\n",
              "      <td>0.0</td>\n",
              "      <td>0.0</td>\n",
              "      <td>0.0</td>\n",
              "      <td>0.0</td>\n",
              "      <td>0.0</td>\n",
              "      <td>0.0</td>\n",
              "      <td>0.0</td>\n",
              "    </tr>\n",
              "    <tr>\n",
              "      <th>314</th>\n",
              "      <td>0.0</td>\n",
              "      <td>0.0</td>\n",
              "      <td>0.0</td>\n",
              "      <td>0.0</td>\n",
              "      <td>0.0</td>\n",
              "      <td>0.0</td>\n",
              "      <td>0.0</td>\n",
              "      <td>0.0</td>\n",
              "      <td>0.0</td>\n",
              "      <td>0.0</td>\n",
              "      <td>...</td>\n",
              "      <td>0.0</td>\n",
              "      <td>0.0</td>\n",
              "      <td>0.0</td>\n",
              "      <td>0.0</td>\n",
              "      <td>0.0</td>\n",
              "      <td>0.0</td>\n",
              "      <td>0.0</td>\n",
              "      <td>0.0</td>\n",
              "      <td>0.0</td>\n",
              "      <td>0.0</td>\n",
              "    </tr>\n",
              "    <tr>\n",
              "      <th>315</th>\n",
              "      <td>0.0</td>\n",
              "      <td>0.0</td>\n",
              "      <td>0.0</td>\n",
              "      <td>0.0</td>\n",
              "      <td>0.0</td>\n",
              "      <td>0.0</td>\n",
              "      <td>0.0</td>\n",
              "      <td>0.0</td>\n",
              "      <td>0.0</td>\n",
              "      <td>0.0</td>\n",
              "      <td>...</td>\n",
              "      <td>0.0</td>\n",
              "      <td>0.0</td>\n",
              "      <td>0.0</td>\n",
              "      <td>0.0</td>\n",
              "      <td>0.0</td>\n",
              "      <td>0.0</td>\n",
              "      <td>0.0</td>\n",
              "      <td>0.0</td>\n",
              "      <td>0.0</td>\n",
              "      <td>0.0</td>\n",
              "    </tr>\n",
              "  </tbody>\n",
              "</table>\n",
              "<p>316 rows × 516 columns</p>\n",
              "</div>\n",
              "    <div class=\"colab-df-buttons\">\n",
              "\n",
              "  <div class=\"colab-df-container\">\n",
              "    <button class=\"colab-df-convert\" onclick=\"convertToInteractive('df-19116783-7610-4397-929c-63ba8bfdc876')\"\n",
              "            title=\"Convert this dataframe to an interactive table.\"\n",
              "            style=\"display:none;\">\n",
              "\n",
              "  <svg xmlns=\"http://www.w3.org/2000/svg\" height=\"24px\" viewBox=\"0 -960 960 960\">\n",
              "    <path d=\"M120-120v-720h720v720H120Zm60-500h600v-160H180v160Zm220 220h160v-160H400v160Zm0 220h160v-160H400v160ZM180-400h160v-160H180v160Zm440 0h160v-160H620v160ZM180-180h160v-160H180v160Zm440 0h160v-160H620v160Z\"/>\n",
              "  </svg>\n",
              "    </button>\n",
              "\n",
              "  <style>\n",
              "    .colab-df-container {\n",
              "      display:flex;\n",
              "      gap: 12px;\n",
              "    }\n",
              "\n",
              "    .colab-df-convert {\n",
              "      background-color: #E8F0FE;\n",
              "      border: none;\n",
              "      border-radius: 50%;\n",
              "      cursor: pointer;\n",
              "      display: none;\n",
              "      fill: #1967D2;\n",
              "      height: 32px;\n",
              "      padding: 0 0 0 0;\n",
              "      width: 32px;\n",
              "    }\n",
              "\n",
              "    .colab-df-convert:hover {\n",
              "      background-color: #E2EBFA;\n",
              "      box-shadow: 0px 1px 2px rgba(60, 64, 67, 0.3), 0px 1px 3px 1px rgba(60, 64, 67, 0.15);\n",
              "      fill: #174EA6;\n",
              "    }\n",
              "\n",
              "    .colab-df-buttons div {\n",
              "      margin-bottom: 4px;\n",
              "    }\n",
              "\n",
              "    [theme=dark] .colab-df-convert {\n",
              "      background-color: #3B4455;\n",
              "      fill: #D2E3FC;\n",
              "    }\n",
              "\n",
              "    [theme=dark] .colab-df-convert:hover {\n",
              "      background-color: #434B5C;\n",
              "      box-shadow: 0px 1px 3px 1px rgba(0, 0, 0, 0.15);\n",
              "      filter: drop-shadow(0px 1px 2px rgba(0, 0, 0, 0.3));\n",
              "      fill: #FFFFFF;\n",
              "    }\n",
              "  </style>\n",
              "\n",
              "    <script>\n",
              "      const buttonEl =\n",
              "        document.querySelector('#df-19116783-7610-4397-929c-63ba8bfdc876 button.colab-df-convert');\n",
              "      buttonEl.style.display =\n",
              "        google.colab.kernel.accessAllowed ? 'block' : 'none';\n",
              "\n",
              "      async function convertToInteractive(key) {\n",
              "        const element = document.querySelector('#df-19116783-7610-4397-929c-63ba8bfdc876');\n",
              "        const dataTable =\n",
              "          await google.colab.kernel.invokeFunction('convertToInteractive',\n",
              "                                                    [key], {});\n",
              "        if (!dataTable) return;\n",
              "\n",
              "        const docLinkHtml = 'Like what you see? Visit the ' +\n",
              "          '<a target=\"_blank\" href=https://colab.research.google.com/notebooks/data_table.ipynb>data table notebook</a>'\n",
              "          + ' to learn more about interactive tables.';\n",
              "        element.innerHTML = '';\n",
              "        dataTable['output_type'] = 'display_data';\n",
              "        await google.colab.output.renderOutput(dataTable, element);\n",
              "        const docLink = document.createElement('div');\n",
              "        docLink.innerHTML = docLinkHtml;\n",
              "        element.appendChild(docLink);\n",
              "      }\n",
              "    </script>\n",
              "  </div>\n",
              "\n",
              "\n",
              "<div id=\"df-a3b1a625-6c75-48a0-8448-a6ffa80aeca4\">\n",
              "  <button class=\"colab-df-quickchart\" onclick=\"quickchart('df-a3b1a625-6c75-48a0-8448-a6ffa80aeca4')\"\n",
              "            title=\"Suggest charts\"\n",
              "            style=\"display:none;\">\n",
              "\n",
              "<svg xmlns=\"http://www.w3.org/2000/svg\" height=\"24px\"viewBox=\"0 0 24 24\"\n",
              "     width=\"24px\">\n",
              "    <g>\n",
              "        <path d=\"M19 3H5c-1.1 0-2 .9-2 2v14c0 1.1.9 2 2 2h14c1.1 0 2-.9 2-2V5c0-1.1-.9-2-2-2zM9 17H7v-7h2v7zm4 0h-2V7h2v10zm4 0h-2v-4h2v4z\"/>\n",
              "    </g>\n",
              "</svg>\n",
              "  </button>\n",
              "\n",
              "<style>\n",
              "  .colab-df-quickchart {\n",
              "      --bg-color: #E8F0FE;\n",
              "      --fill-color: #1967D2;\n",
              "      --hover-bg-color: #E2EBFA;\n",
              "      --hover-fill-color: #174EA6;\n",
              "      --disabled-fill-color: #AAA;\n",
              "      --disabled-bg-color: #DDD;\n",
              "  }\n",
              "\n",
              "  [theme=dark] .colab-df-quickchart {\n",
              "      --bg-color: #3B4455;\n",
              "      --fill-color: #D2E3FC;\n",
              "      --hover-bg-color: #434B5C;\n",
              "      --hover-fill-color: #FFFFFF;\n",
              "      --disabled-bg-color: #3B4455;\n",
              "      --disabled-fill-color: #666;\n",
              "  }\n",
              "\n",
              "  .colab-df-quickchart {\n",
              "    background-color: var(--bg-color);\n",
              "    border: none;\n",
              "    border-radius: 50%;\n",
              "    cursor: pointer;\n",
              "    display: none;\n",
              "    fill: var(--fill-color);\n",
              "    height: 32px;\n",
              "    padding: 0;\n",
              "    width: 32px;\n",
              "  }\n",
              "\n",
              "  .colab-df-quickchart:hover {\n",
              "    background-color: var(--hover-bg-color);\n",
              "    box-shadow: 0 1px 2px rgba(60, 64, 67, 0.3), 0 1px 3px 1px rgba(60, 64, 67, 0.15);\n",
              "    fill: var(--button-hover-fill-color);\n",
              "  }\n",
              "\n",
              "  .colab-df-quickchart-complete:disabled,\n",
              "  .colab-df-quickchart-complete:disabled:hover {\n",
              "    background-color: var(--disabled-bg-color);\n",
              "    fill: var(--disabled-fill-color);\n",
              "    box-shadow: none;\n",
              "  }\n",
              "\n",
              "  .colab-df-spinner {\n",
              "    border: 2px solid var(--fill-color);\n",
              "    border-color: transparent;\n",
              "    border-bottom-color: var(--fill-color);\n",
              "    animation:\n",
              "      spin 1s steps(1) infinite;\n",
              "  }\n",
              "\n",
              "  @keyframes spin {\n",
              "    0% {\n",
              "      border-color: transparent;\n",
              "      border-bottom-color: var(--fill-color);\n",
              "      border-left-color: var(--fill-color);\n",
              "    }\n",
              "    20% {\n",
              "      border-color: transparent;\n",
              "      border-left-color: var(--fill-color);\n",
              "      border-top-color: var(--fill-color);\n",
              "    }\n",
              "    30% {\n",
              "      border-color: transparent;\n",
              "      border-left-color: var(--fill-color);\n",
              "      border-top-color: var(--fill-color);\n",
              "      border-right-color: var(--fill-color);\n",
              "    }\n",
              "    40% {\n",
              "      border-color: transparent;\n",
              "      border-right-color: var(--fill-color);\n",
              "      border-top-color: var(--fill-color);\n",
              "    }\n",
              "    60% {\n",
              "      border-color: transparent;\n",
              "      border-right-color: var(--fill-color);\n",
              "    }\n",
              "    80% {\n",
              "      border-color: transparent;\n",
              "      border-right-color: var(--fill-color);\n",
              "      border-bottom-color: var(--fill-color);\n",
              "    }\n",
              "    90% {\n",
              "      border-color: transparent;\n",
              "      border-bottom-color: var(--fill-color);\n",
              "    }\n",
              "  }\n",
              "</style>\n",
              "\n",
              "  <script>\n",
              "    async function quickchart(key) {\n",
              "      const quickchartButtonEl =\n",
              "        document.querySelector('#' + key + ' button');\n",
              "      quickchartButtonEl.disabled = true;  // To prevent multiple clicks.\n",
              "      quickchartButtonEl.classList.add('colab-df-spinner');\n",
              "      try {\n",
              "        const charts = await google.colab.kernel.invokeFunction(\n",
              "            'suggestCharts', [key], {});\n",
              "      } catch (error) {\n",
              "        console.error('Error during call to suggestCharts:', error);\n",
              "      }\n",
              "      quickchartButtonEl.classList.remove('colab-df-spinner');\n",
              "      quickchartButtonEl.classList.add('colab-df-quickchart-complete');\n",
              "    }\n",
              "    (() => {\n",
              "      let quickchartButtonEl =\n",
              "        document.querySelector('#df-a3b1a625-6c75-48a0-8448-a6ffa80aeca4 button');\n",
              "      quickchartButtonEl.style.display =\n",
              "        google.colab.kernel.accessAllowed ? 'block' : 'none';\n",
              "    })();\n",
              "  </script>\n",
              "</div>\n",
              "    </div>\n",
              "  </div>\n"
            ],
            "application/vnd.google.colaboratory.intrinsic+json": {
              "type": "dataframe",
              "variable_name": "df_pred"
            }
          },
          "metadata": {},
          "execution_count": 88
        }
      ]
    },
    {
      "cell_type": "code",
      "source": [
        "df_pred.to_csv('/content/drive/MyDrive/Colab_Notebooks/forest_fires_hack/pred.csv', header = False, index = False)"
      ],
      "metadata": {
        "id": "ujQ0wN_E8RrE"
      },
      "execution_count": 90,
      "outputs": []
    }
  ]
}